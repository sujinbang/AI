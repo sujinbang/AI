{
 "cells": [
  {
   "cell_type": "code",
   "execution_count": 4,
   "id": "5eabcd1e-4df8-4789-820c-e12937d3b21e",
   "metadata": {},
   "outputs": [],
   "source": [
    "# (영어)실제 단어 벡터가 포함된 모델 설치\n",
    "# python -m spacy download en_core_web_lg\n",
    "# python -m spacy download en_core_web_md\n",
    "\n",
    "# 참고 페이지 : https://spacy.io/usage/models"
   ]
  },
  {
   "cell_type": "code",
   "execution_count": 1,
   "id": "b96b6649-30a4-4f58-b9a1-d7b49552f8dd",
   "metadata": {},
   "outputs": [],
   "source": [
    "import spacy"
   ]
  },
  {
   "cell_type": "code",
   "execution_count": 14,
   "id": "3dcd3698-ecde-43a2-9eb1-711229058a47",
   "metadata": {},
   "outputs": [],
   "source": [
    "nlp = spacy.load('en_core_web_lg')\n",
    "lang = \"ko\"\n",
    "tokenizer = {\"@tokenizers\" = \"spacy.Tokenizer.v1\"}"
   ]
  },
  {
   "cell_type": "code",
   "execution_count": 15,
   "id": "8086cae8-da4d-4db8-bc65-eec26241d9fc",
   "metadata": {},
   "outputs": [
    {
     "data": {
      "text/plain": [
       "(300,)"
      ]
     },
     "execution_count": 15,
     "metadata": {},
     "output_type": "execute_result"
    }
   ],
   "source": [
    "nlp(u'The quick brown fox jumped').vector.shape"
   ]
  },
  {
   "cell_type": "code",
   "execution_count": 16,
   "id": "acef8ad8-3d38-4c3e-b6ed-7d8364801e47",
   "metadata": {},
   "outputs": [
    {
     "data": {
      "text/plain": [
       "(300,)"
      ]
     },
     "execution_count": 16,
     "metadata": {},
     "output_type": "execute_result"
    }
   ],
   "source": [
    "nlp(u'fox').vector.shape"
   ]
  },
  {
   "cell_type": "markdown",
   "id": "3375ab87-14a6-47be-9d32-0ed35b7ac13f",
   "metadata": {},
   "source": [
    "### 비슷한 벡터 찾기"
   ]
  },
  {
   "cell_type": "code",
   "execution_count": 17,
   "id": "aa1469c7-cec8-4a50-839f-7933da39ae76",
   "metadata": {},
   "outputs": [],
   "source": [
    "tokens = nlp(u'like love hate')"
   ]
  },
  {
   "cell_type": "code",
   "execution_count": 18,
   "id": "f2acbbf1-752b-4037-a1f4-6e608caabe78",
   "metadata": {},
   "outputs": [
    {
     "name": "stdout",
     "output_type": "stream",
     "text": [
      "like like 1.0\n",
      "like love 0.65790397\n",
      "like hate 0.6574652\n",
      "love like 0.65790397\n",
      "love love 1.0\n",
      "love hate 0.6393099\n",
      "hate like 0.6574652\n",
      "hate love 0.6393099\n",
      "hate hate 1.0\n"
     ]
    }
   ],
   "source": [
    "# 유사도 확인\n",
    "# like love 와 like hate가 거의 똑같은 유사관계를 가짐\n",
    "for token1 in tokens:\n",
    "    for token2 in tokens:\n",
    "        print(token1.text,token2.text,token1.similarity(token2))"
   ]
  },
  {
   "cell_type": "code",
   "execution_count": 19,
   "id": "b77c2f8f-fef8-49a9-9109-7c4d0f7f4410",
   "metadata": {},
   "outputs": [
    {
     "data": {
      "text/plain": [
       "(684831, 300)"
      ]
     },
     "execution_count": 19,
     "metadata": {},
     "output_type": "execute_result"
    }
   ],
   "source": [
    "nlp.vocab.vectors.shape"
   ]
  },
  {
   "cell_type": "code",
   "execution_count": 20,
   "id": "586300e6-6c4a-4901-af9f-04de88114c53",
   "metadata": {},
   "outputs": [],
   "source": [
    "tokens = nlp(u\"dog cat nargle\")"
   ]
  },
  {
   "cell_type": "code",
   "execution_count": 21,
   "id": "bbdb12a5-79d2-4ac0-948b-8b23c13d3e79",
   "metadata": {},
   "outputs": [
    {
     "name": "stdout",
     "output_type": "stream",
     "text": [
      "dog True 7.0336733 False\n",
      "cat True 6.6808186 False\n",
      "nargle False 0.0 True\n"
     ]
    }
   ],
   "source": [
    "for token in tokens:\n",
    "    print(token.text, token.has_vector, token.vector_norm,token.is_oov)"
   ]
  },
  {
   "cell_type": "code",
   "execution_count": 23,
   "id": "65392df3-bf35-4fd4-aed6-2f0663bd43a0",
   "metadata": {},
   "outputs": [],
   "source": [
    "# 코사인 유사도\n",
    "from scipy import spatial\n",
    "\n",
    "cosine_similarity = lambda vec1,vec2: 1 - spatial.distance.cosine(vec1,vec2)"
   ]
  },
  {
   "cell_type": "code",
   "execution_count": 24,
   "id": "93bc3fbc-df37-404e-b047-1e0cfb3c5dcd",
   "metadata": {},
   "outputs": [],
   "source": [
    "king = nlp.vocab['king'].vector\n",
    "man = nlp.vocab['man'].vector\n",
    "woman = nlp.vocab['woman'].vector"
   ]
  },
  {
   "cell_type": "code",
   "execution_count": 25,
   "id": "26066c35-4b42-446f-b811-a333baca2fa4",
   "metadata": {},
   "outputs": [],
   "source": [
    "# king - man + woman ---> NEW_VECTOR similar Queen, princess, highness"
   ]
  },
  {
   "cell_type": "code",
   "execution_count": 26,
   "id": "ab5f62c2-c2f6-483c-9fb9-d6cd3f198665",
   "metadata": {},
   "outputs": [],
   "source": [
    "new_vector = king-man+woman"
   ]
  },
  {
   "cell_type": "code",
   "execution_count": 28,
   "id": "b56c322c-d7ae-405a-aec5-af06ec5bffb5",
   "metadata": {},
   "outputs": [],
   "source": [
    "computed_similarities = []\n",
    "\n",
    "# FOR ALL WORDS IN MY VOCAB\n",
    "for word in nlp.vocab:\n",
    "    if word.has_vector:\n",
    "        if word.is_lower:\n",
    "            if word.is_alpha:\n",
    "                similarity = cosine_similarity(new_vector,word.vector)\n",
    "                computed_similarities.append((word,similarity))"
   ]
  },
  {
   "cell_type": "code",
   "execution_count": 30,
   "id": "89bb1656-9080-4f91-b65b-eca6beb41620",
   "metadata": {},
   "outputs": [],
   "source": [
    "computed_similarities = sorted(computed_similarities, key=lambda item:-item[1])"
   ]
  },
  {
   "cell_type": "code",
   "execution_count": 31,
   "id": "8ba8382d-bb1b-43d2-8057-2c4c5bde48fe",
   "metadata": {},
   "outputs": [
    {
     "name": "stdout",
     "output_type": "stream",
     "text": [
      "['king', 'queen', 'prince', 'kings', 'princess', 'royal', 'throne', 'queens', 'monarch', 'kingdom']\n"
     ]
    }
   ],
   "source": [
    "print([t[0].text for t in computed_similarities[:10]])"
   ]
  },
  {
   "cell_type": "code",
   "execution_count": null,
   "id": "a0cc0ebc-1dbd-45b4-ac54-c9372edda4f0",
   "metadata": {},
   "outputs": [],
   "source": []
  },
  {
   "cell_type": "code",
   "execution_count": null,
   "id": "67e6eedc-bb78-4e96-a8cb-31d455372278",
   "metadata": {},
   "outputs": [],
   "source": []
  },
  {
   "cell_type": "code",
   "execution_count": 38,
   "id": "19929899-d33e-4638-b9a3-a521c6cc90f7",
   "metadata": {},
   "outputs": [],
   "source": [
    "king = nlp.vocab['new'].vector\n",
    "man = nlp.vocab['product'].vector\n",
    "woman = nlp.vocab['old'].vector"
   ]
  },
  {
   "cell_type": "code",
   "execution_count": 39,
   "id": "40177fd9-7964-4665-97d6-209fda0ec6eb",
   "metadata": {},
   "outputs": [],
   "source": [
    "new_vector = king-man+woman"
   ]
  },
  {
   "cell_type": "code",
   "execution_count": 40,
   "id": "955fbba1-48f4-4c86-8ed7-14eac0bd823a",
   "metadata": {},
   "outputs": [],
   "source": [
    "computed_similarities = []\n",
    "\n",
    "# FOR ALL WORDS IN MY VOCAB\n",
    "for word in nlp.vocab:\n",
    "    if word.has_vector:\n",
    "        if word.is_lower:\n",
    "            if word.is_alpha:\n",
    "                similarity = cosine_similarity(new_vector,word.vector)\n",
    "                computed_similarities.append((word,similarity))"
   ]
  },
  {
   "cell_type": "code",
   "execution_count": 41,
   "id": "53c180a5-f52e-4d6c-b469-6761048638e9",
   "metadata": {},
   "outputs": [],
   "source": [
    "computed_similarities = sorted(computed_similarities, key=lambda item:-item[1])"
   ]
  },
  {
   "cell_type": "code",
   "execution_count": 42,
   "id": "a9bf9551-ad1e-495b-b532-255fab2ac7b9",
   "metadata": {},
   "outputs": [
    {
     "name": "stdout",
     "output_type": "stream",
     "text": [
      "['old', 'new', 'older', 'abandoned', 'boy', 'couple', 'my', 'oldest', 'dad', 'newly']\n"
     ]
    }
   ],
   "source": [
    "print([t[0].text for t in computed_similarities[:10]])"
   ]
  },
  {
   "cell_type": "code",
   "execution_count": null,
   "id": "c1254f22-5205-4180-a8a4-fc1f6022eabd",
   "metadata": {},
   "outputs": [],
   "source": []
  },
  {
   "cell_type": "code",
   "execution_count": null,
   "id": "dc06152d-1f7b-4dbb-8599-62b20557b781",
   "metadata": {},
   "outputs": [],
   "source": []
  }
 ],
 "metadata": {
  "kernelspec": {
   "display_name": "Python 3 (ipykernel)",
   "language": "python",
   "name": "python3"
  },
  "language_info": {
   "codemirror_mode": {
    "name": "ipython",
    "version": 3
   },
   "file_extension": ".py",
   "mimetype": "text/x-python",
   "name": "python",
   "nbconvert_exporter": "python",
   "pygments_lexer": "ipython3",
   "version": "3.7.13"
  }
 },
 "nbformat": 4,
 "nbformat_minor": 5
}
