{
 "cells": [
  {
   "cell_type": "code",
   "execution_count": 1,
   "id": "f3bd862d-275c-4cd0-b64a-d8ab8be022a6",
   "metadata": {},
   "outputs": [],
   "source": [
    "# vader 알고리즘\n",
    "# 풍자, 영화에대한 내용은 부정적이나 배우에 대해 긍정적일 경우 완벽하게 파악하지 못함"
   ]
  },
  {
   "cell_type": "code",
   "execution_count": 2,
   "id": "78ad696b-76f1-4fbb-b8ff-8cce5ab96910",
   "metadata": {},
   "outputs": [
    {
     "name": "stderr",
     "output_type": "stream",
     "text": [
      "C:\\Users\\admin\\anaconda3\\envs\\nlp_course\\lib\\site-packages\\sklearn\\utils\\validation.py:37: DeprecationWarning: distutils Version classes are deprecated. Use packaging.version instead.\n",
      "  LARGE_SPARSE_SUPPORTED = LooseVersion(scipy_version) >= '0.14.0'\n"
     ]
    }
   ],
   "source": [
    "import nltk"
   ]
  },
  {
   "cell_type": "code",
   "execution_count": null,
   "id": "ad7c1695-f591-49aa-adfa-6b53ff236d4c",
   "metadata": {},
   "outputs": [],
   "source": [
    "nltk.download('vader_lexicon')"
   ]
  },
  {
   "cell_type": "code",
   "execution_count": null,
   "id": "8f18f831-caa3-4899-b405-eb875281a260",
   "metadata": {},
   "outputs": [],
   "source": [
    "from nltk.sentiment.vader import SentimentIntensityAnalyzer"
   ]
  },
  {
   "cell_type": "code",
   "execution_count": null,
   "id": "fc087b93-b96d-433e-862c-74e432560d77",
   "metadata": {},
   "outputs": [],
   "source": []
  }
 ],
 "metadata": {
  "kernelspec": {
   "display_name": "Python 3 (ipykernel)",
   "language": "python",
   "name": "python3"
  },
  "language_info": {
   "codemirror_mode": {
    "name": "ipython",
    "version": 3
   },
   "file_extension": ".py",
   "mimetype": "text/x-python",
   "name": "python",
   "nbconvert_exporter": "python",
   "pygments_lexer": "ipython3",
   "version": "3.7.13"
  }
 },
 "nbformat": 4,
 "nbformat_minor": 5
}
