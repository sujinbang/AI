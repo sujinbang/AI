{
 "cells": [
  {
   "cell_type": "markdown",
   "id": "954c6c84-3795-4c2e-97ac-d30cc9b682ad",
   "metadata": {},
   "source": [
    "- 불용어 : 자연어 처리를 방해하는 의미없는 단어\n",
    "    - 자연어처리 시 불용어 제거가 필수\n",
    "    - 영어의 예시로는 'a' 나 'the'가 있다."
   ]
  },
  {
   "cell_type": "code",
   "execution_count": 1,
   "id": "1c0fc3e9-406b-4a1c-b469-40e65cc65ba2",
   "metadata": {},
   "outputs": [],
   "source": [
    "import spacy"
   ]
  },
  {
   "cell_type": "code",
   "execution_count": 2,
   "id": "dfd82ad8-17d4-4e88-88fe-b4d0a85e42cd",
   "metadata": {},
   "outputs": [],
   "source": [
    "nlp = spacy.load('en_core_web_sm')"
   ]
  },
  {
   "cell_type": "code",
   "execution_count": 3,
   "id": "41efa784-7d69-41d0-88e1-71f468152847",
   "metadata": {},
   "outputs": [
    {
     "name": "stdout",
     "output_type": "stream",
     "text": [
      "{'could', 'those', 'than', 'too', 'full', 'becoming', 'our', 'after', 'though', 'empty', 'hereupon', 'thus', 'never', 'more', 'will', 'several', 'herein', 'most', 'please', 'a', 'are', 'either', 'over', 'nobody', 'were', 'your', 'formerly', 'within', 'would', 'them', 'nine', 'however', 'i', 'thereupon', 'doing', 'via', 'twenty', 'now', 'back', 'moreover', 'it', 'yet', 'give', 'through', 'used', 'why', 'front', 'do', 'was', 'wherein', 'beforehand', 'becomes', 'last', 'must', 'toward', 'he', 'anyhow', 'then', 'eight', 'fifteen', 'of', 'rather', 'six', 'as', 'whatever', 'four', 'below', 'somewhere', 'anyway', 'its', 'where', 'mostly', 'amongst', 'whereupon', 'along', 'what', 'am', 'yours', 'seem', 'per', 'become', 'not', 'therein', 'top', 'once', 'ours', 'own', 'we', 'one', 'beyond', 'latter', 'always', 'each', 'thence', 'for', 'enough', 'besides', 'and', 'go', 'cannot', 'being', 'only', 'see', 'throughout', 'forty', 'whereas', 'anywhere', 'five', 'whether', 'whole', 'became', 'in', 'at', 'many', 'any', 'hence', 'every', 'her', 'hereby', 'out', 'amount', 'perhaps', 'serious', 'name', 'thru', 'anything', 'had', 'whereby', 'get', 'upon', 'seeming', 'wherever', 'none', 'side', 'the', 'almost', 'my', 'same', 'should', 'an', 'eleven', 'often', 'to', 'also', 'who', 'even', 'behind', 'everywhere', 'onto', 'something', 'again', 'us', 'since', 'nor', 'which', 'but', 'neither', 'still', 'might', 'ourselves', 'afterwards', 'around', 'such', 'they', 'together', 'when', 'whence', 'because', 'mine', 'namely', 'next', 'unless', 'here', 'show', 'beside', 'third', 'thereafter', 'without', 'may', 'really', 'take', 'that', 'she', 'although', 'their', 'themselves', 'does', 'made', 'have', 'twelve', 'regarding', 'down', 'someone', 'done', 'these', 'with', 'sixty', 'nothing', 'his', 'is', 'latterly', 'on', 'put', 'towards', 'did', 'me', 'ever', 'much', 'alone', 'noone', 'therefore', 'whose', 'others', 'say', 'ten', 'well', 'thereby', 'everyone', 'seems', 'quite', 'anyone', 'so', 'seemed', 'there', 'can', 'three', 'hers', 'across', 'himself', 'herself', 'all', 'yourselves', 'fifty', 'hereafter', 'into', 'various', 'sometimes', 'two', 'against', 'elsewhere', 'further', 'another', 'less', 'just', 'some', 'yourself', 'whoever', 'make', 'between', 'been', 'off', 'until', 'due', 'itself', 'by', 're', 'you', 'about', 'above', 'call', 'before', 'somehow', 'no', 'otherwise', 'whither', 'him', 'few', 'indeed', 'very', 'from', 'both', 'has', 'move', 'meanwhile', 'nowhere', 'sometime', 'whom', 'whenever', 'how', 'up', 'former', 'bottom', 'already', 'first', 'whereafter', 'among', 'hundred', 'nevertheless', 'else', 'be', 'or', 'everything', 'other', 'keep', 'under', 'using', 'except', 'this', 'while', 'myself', 'part', 'during', 'least', 'if', 'ca'}\n"
     ]
    }
   ],
   "source": [
    "print(nlp.Defaults.stop_words)"
   ]
  },
  {
   "cell_type": "code",
   "execution_count": 4,
   "id": "582cd9df-3f8a-415f-a75c-5895b3a96423",
   "metadata": {},
   "outputs": [
    {
     "data": {
      "text/plain": [
       "305"
      ]
     },
     "execution_count": 4,
     "metadata": {},
     "output_type": "execute_result"
    }
   ],
   "source": [
    "len(nlp.Defaults.stop_words)"
   ]
  },
  {
   "cell_type": "code",
   "execution_count": 7,
   "id": "5643b037-5eeb-4dd7-ac13-3af3c9f2d545",
   "metadata": {},
   "outputs": [
    {
     "data": {
      "text/plain": [
       "True"
      ]
     },
     "execution_count": 7,
     "metadata": {},
     "output_type": "execute_result"
    }
   ],
   "source": [
    "nlp.vocab['is'].is_stop"
   ]
  },
  {
   "cell_type": "code",
   "execution_count": 8,
   "id": "b84e0eb9-2b8a-426c-bfd1-e55cfc2ccdf2",
   "metadata": {},
   "outputs": [],
   "source": [
    "nlp.Defaults.stop_words.add('btw')"
   ]
  },
  {
   "cell_type": "code",
   "execution_count": 9,
   "id": "b3036588-37be-4728-9981-8ad9d7448a02",
   "metadata": {},
   "outputs": [],
   "source": [
    "nlp.vocab['btw'].is_stop = True"
   ]
  },
  {
   "cell_type": "code",
   "execution_count": 10,
   "id": "c8949d39-720c-475f-bf03-171624e123d2",
   "metadata": {},
   "outputs": [
    {
     "data": {
      "text/plain": [
       "306"
      ]
     },
     "execution_count": 10,
     "metadata": {},
     "output_type": "execute_result"
    }
   ],
   "source": [
    "len(nlp.Defaults.stop_words)"
   ]
  },
  {
   "cell_type": "code",
   "execution_count": 11,
   "id": "57052ebb-42d8-48c7-8132-1d988ab76ef8",
   "metadata": {},
   "outputs": [
    {
     "data": {
      "text/plain": [
       "True"
      ]
     },
     "execution_count": 11,
     "metadata": {},
     "output_type": "execute_result"
    }
   ],
   "source": [
    "nlp.vocab['btw'].is_stop"
   ]
  },
  {
   "cell_type": "code",
   "execution_count": 12,
   "id": "90bbe05e-ff47-4cd1-8476-79fafcbf9644",
   "metadata": {},
   "outputs": [],
   "source": [
    "nlp.Defaults.stop_words.remove('beyond')"
   ]
  },
  {
   "cell_type": "code",
   "execution_count": 13,
   "id": "187a1215-893b-4e93-bc15-678e1f87c8b5",
   "metadata": {},
   "outputs": [],
   "source": [
    "nlp.vocab['beyond'].is_stop = False"
   ]
  },
  {
   "cell_type": "code",
   "execution_count": 14,
   "id": "ad751468-71f6-4a9c-8019-19fc6860b03c",
   "metadata": {},
   "outputs": [
    {
     "data": {
      "text/plain": [
       "False"
      ]
     },
     "execution_count": 14,
     "metadata": {},
     "output_type": "execute_result"
    }
   ],
   "source": [
    "nlp.vocab['beyond'].is_stop"
   ]
  },
  {
   "cell_type": "code",
   "execution_count": null,
   "id": "e260b694-41b1-4c74-91a6-e7cee2496f89",
   "metadata": {},
   "outputs": [],
   "source": []
  }
 ],
 "metadata": {
  "kernelspec": {
   "display_name": "Python 3 (ipykernel)",
   "language": "python",
   "name": "python3"
  },
  "language_info": {
   "codemirror_mode": {
    "name": "ipython",
    "version": 3
   },
   "file_extension": ".py",
   "mimetype": "text/x-python",
   "name": "python",
   "nbconvert_exporter": "python",
   "pygments_lexer": "ipython3",
   "version": "3.9.12"
  }
 },
 "nbformat": 4,
 "nbformat_minor": 5
}
