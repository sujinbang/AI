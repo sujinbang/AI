{
 "cells": [
  {
   "cell_type": "code",
   "execution_count": 1,
   "id": "2d93cdb7-61b7-495d-b70d-b031918aa83a",
   "metadata": {},
   "outputs": [
    {
     "name": "stderr",
     "output_type": "stream",
     "text": [
      "C:\\Users\\admin\\anaconda3\\envs\\nlp_course\\lib\\site-packages\\sklearn\\utils\\validation.py:37: DeprecationWarning: distutils Version classes are deprecated. Use packaging.version instead.\n",
      "  LARGE_SPARSE_SUPPORTED = LooseVersion(scipy_version) >= '0.14.0'\n"
     ]
    }
   ],
   "source": [
    "import nltk"
   ]
  },
  {
   "cell_type": "code",
   "execution_count": 2,
   "id": "9c8c7a03-3317-4b72-bb39-d55eb533a4f4",
   "metadata": {},
   "outputs": [],
   "source": [
    "from nltk.stem.porter import PorterStemmer"
   ]
  },
  {
   "cell_type": "code",
   "execution_count": 3,
   "id": "e8834d6b-4b18-43d8-afd1-81e37e9b3fea",
   "metadata": {},
   "outputs": [],
   "source": [
    "p_stemmer = PorterStemmer()"
   ]
  },
  {
   "cell_type": "code",
   "execution_count": 10,
   "id": "fd3088fe-0dfa-4937-96ff-f7bff2bf8b82",
   "metadata": {},
   "outputs": [],
   "source": [
    "words = ['run', 'runner','ran','runs','easily','fairly', 'fairness']"
   ]
  },
  {
   "cell_type": "code",
   "execution_count": 11,
   "id": "9fa5c0c0-37ad-468b-85b1-7e275cbb2be2",
   "metadata": {},
   "outputs": [
    {
     "name": "stdout",
     "output_type": "stream",
     "text": [
      "run----->run\n",
      "runner----->runner\n",
      "ran----->ran\n",
      "runs----->run\n",
      "easily----->easili\n",
      "fairly----->fairli\n",
      "fairness----->fair\n"
     ]
    }
   ],
   "source": [
    "# 명사나 동사는 구분하지만 부사는 구분하지 못함\n",
    "for word in words:\n",
    "    print(word + '----->' + p_stemmer.stem(word))  # porter 어간추출"
   ]
  },
  {
   "cell_type": "code",
   "execution_count": 12,
   "id": "f96c1167-52f8-4d6c-91ed-ecfae2bbf3cc",
   "metadata": {},
   "outputs": [],
   "source": [
    "from nltk.stem.snowball import SnowballStemmer"
   ]
  },
  {
   "cell_type": "code",
   "execution_count": 13,
   "id": "3cb7bfcb-4515-459f-8752-07c0af7b96e5",
   "metadata": {},
   "outputs": [],
   "source": [
    "s_stemmer = SnowballStemmer(language='english')"
   ]
  },
  {
   "cell_type": "code",
   "execution_count": 14,
   "id": "c8c59825-f34d-4f5b-a072-5d389a8379f7",
   "metadata": {},
   "outputs": [
    {
     "name": "stdout",
     "output_type": "stream",
     "text": [
      "run -----> run\n",
      "runner -----> runner\n",
      "ran -----> ran\n",
      "runs -----> run\n",
      "easily -----> easili\n",
      "fairly -----> fair\n",
      "fairness -----> fair\n"
     ]
    }
   ],
   "source": [
    "for word in words:\n",
    "    print(word + ' -----> ' + s_stemmer.stem(word))  # snowball 어간추출"
   ]
  },
  {
   "cell_type": "code",
   "execution_count": 15,
   "id": "185bfc06-efe9-453c-b503-e1f34f08d093",
   "metadata": {},
   "outputs": [],
   "source": [
    "words = ['generous', 'generation','generously','generate']"
   ]
  },
  {
   "cell_type": "code",
   "execution_count": 16,
   "id": "b3e6bd9f-b74c-48bc-80ec-c021c20081d3",
   "metadata": {},
   "outputs": [
    {
     "name": "stdout",
     "output_type": "stream",
     "text": [
      "generous -----> generous\n",
      "generation -----> generat\n",
      "generously -----> generous\n",
      "generate -----> generat\n"
     ]
    }
   ],
   "source": [
    "for word in words:\n",
    "    print(word + ' -----> ' + s_stemmer.stem(word))  # snowball 어간추출"
   ]
  },
  {
   "cell_type": "code",
   "execution_count": null,
   "id": "51ff4101-3ae9-4879-af84-9da72bd66357",
   "metadata": {},
   "outputs": [],
   "source": []
  }
 ],
 "metadata": {
  "kernelspec": {
   "display_name": "Python 3 (ipykernel)",
   "language": "python",
   "name": "python3"
  },
  "language_info": {
   "codemirror_mode": {
    "name": "ipython",
    "version": 3
   },
   "file_extension": ".py",
   "mimetype": "text/x-python",
   "name": "python",
   "nbconvert_exporter": "python",
   "pygments_lexer": "ipython3",
   "version": "3.9.12"
  }
 },
 "nbformat": 4,
 "nbformat_minor": 5
}
