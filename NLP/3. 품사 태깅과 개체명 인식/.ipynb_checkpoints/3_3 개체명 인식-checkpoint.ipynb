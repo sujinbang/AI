{
 "cells": [
  {
   "cell_type": "markdown",
   "id": "800b8306-d903-4924-93c2-7bf6c16dc55b",
   "metadata": {},
   "source": [
    "- 개체명 인식 : 텍스트 원문에서 언급된 개체명을 찾아 미리 정의해 놓은 범주로 분류\n",
    "    - 범주예시 : 인명, 조직, 장소, 의료코드, 시간표현, 수량, 백분율, 금전가치 등"
   ]
  },
  {
   "cell_type": "code",
   "execution_count": 1,
   "id": "214b16b1-0ff2-456f-9eff-2a0417c48c34",
   "metadata": {},
   "outputs": [],
   "source": [
    "import spacy"
   ]
  },
  {
   "cell_type": "code",
   "execution_count": 2,
   "id": "1fc89b19-3b64-493b-aba4-77d4e9d32492",
   "metadata": {},
   "outputs": [],
   "source": [
    "nlp = spacy.load('en_core_web_sm')"
   ]
  },
  {
   "cell_type": "code",
   "execution_count": 4,
   "id": "793ca1b8-8585-490b-a6f2-c08a1acb3835",
   "metadata": {},
   "outputs": [],
   "source": [
    "def show_ents(doc):\n",
    "    if doc.ents:\n",
    "        for ent in doc.ents:\n",
    "            print(ent.text + '-' + ent.label_ + ' - ' + str(spacy.explain(ent.label_)))\n",
    "    else:\n",
    "        print('No entities fount')"
   ]
  },
  {
   "cell_type": "code",
   "execution_count": 5,
   "id": "5a0aad0d-a44f-4414-a1f0-05747a05cee8",
   "metadata": {},
   "outputs": [],
   "source": [
    "doc = nlp(u'Hi how are you?')"
   ]
  },
  {
   "cell_type": "code",
   "execution_count": 6,
   "id": "bb742b26-76bc-49d4-adb4-47b70b7b15cf",
   "metadata": {},
   "outputs": [
    {
     "name": "stdout",
     "output_type": "stream",
     "text": [
      "No entities fount\n"
     ]
    }
   ],
   "source": [
    "show_ents(doc)"
   ]
  },
  {
   "cell_type": "code",
   "execution_count": 7,
   "id": "ccc41f36-2f8c-4725-b7ed-17e45ac1d6d9",
   "metadata": {},
   "outputs": [],
   "source": [
    "doc = nlp(u\"May I go to Washington, DC next May to see the Washington Monument?\")"
   ]
  },
  {
   "cell_type": "code",
   "execution_count": 8,
   "id": "9c1cbd58-d695-4834-a056-39e01bef2608",
   "metadata": {},
   "outputs": [
    {
     "name": "stdout",
     "output_type": "stream",
     "text": [
      "Washington, DC-GPE - Countries, cities, states\n",
      "next May-DATE - Absolute or relative dates or periods\n",
      "the Washington Monument-ORG - Companies, agencies, institutions, etc.\n"
     ]
    }
   ],
   "source": [
    "show_ents(doc)"
   ]
  },
  {
   "cell_type": "code",
   "execution_count": 9,
   "id": "bfea2e00-6087-41ab-abb5-110de96afed4",
   "metadata": {},
   "outputs": [],
   "source": [
    "doc = nlp(u\"Can I please have 500 dollars of Microsoft stock?\")"
   ]
  },
  {
   "cell_type": "code",
   "execution_count": 10,
   "id": "ceeee0bd-5d75-4993-ac55-8d90709c42d5",
   "metadata": {},
   "outputs": [
    {
     "name": "stdout",
     "output_type": "stream",
     "text": [
      "500 dollars-MONEY - Monetary values, including unit\n",
      "Microsoft-ORG - Companies, agencies, institutions, etc.\n"
     ]
    }
   ],
   "source": [
    "show_ents(doc)"
   ]
  },
  {
   "cell_type": "code",
   "execution_count": 11,
   "id": "e638c0ec-a9c1-4d83-9133-853646634db4",
   "metadata": {},
   "outputs": [],
   "source": [
    "doc = nlp(u\"Tesla to build a U.K. factory for $6 million\")"
   ]
  },
  {
   "cell_type": "code",
   "execution_count": 12,
   "id": "58a6ce19-0e47-48b0-b215-d46c57637c45",
   "metadata": {},
   "outputs": [
    {
     "name": "stdout",
     "output_type": "stream",
     "text": [
      "U.K.-GPE - Countries, cities, states\n",
      "$6 million-MONEY - Monetary values, including unit\n"
     ]
    }
   ],
   "source": [
    "show_ents(doc)"
   ]
  },
  {
   "cell_type": "markdown",
   "id": "25e5e235-a181-49fe-bb93-25be9c154c77",
   "metadata": {},
   "source": [
    "### Tesla를 회사명으로 인식하지 못한 경우"
   ]
  },
  {
   "cell_type": "code",
   "execution_count": 13,
   "id": "028684c0-3af5-4f4f-a4f4-06c3ac291e96",
   "metadata": {},
   "outputs": [],
   "source": [
    "from spacy.tokens import Span"
   ]
  },
  {
   "cell_type": "code",
   "execution_count": 15,
   "id": "7baff4c1-6145-402a-978c-d9f04a1b5925",
   "metadata": {},
   "outputs": [],
   "source": [
    "ORG = doc.vocab.strings[u\"ORG\"]"
   ]
  },
  {
   "cell_type": "code",
   "execution_count": 16,
   "id": "cf6736f7-c969-4853-80fc-e0c50566d922",
   "metadata": {},
   "outputs": [
    {
     "data": {
      "text/plain": [
       "381"
      ]
     },
     "execution_count": 16,
     "metadata": {},
     "output_type": "execute_result"
    }
   ],
   "source": [
    "ORG"
   ]
  },
  {
   "cell_type": "code",
   "execution_count": 17,
   "id": "5e2c1b78-d1df-4c91-b408-4f213b25d6cd",
   "metadata": {},
   "outputs": [],
   "source": [
    "new_ent = Span(doc,0,1,label=ORG)"
   ]
  },
  {
   "cell_type": "code",
   "execution_count": 18,
   "id": "129bc3b4-97f6-4dfc-8a26-d42c6045dbfe",
   "metadata": {},
   "outputs": [],
   "source": [
    "doc.ents = list(doc.ents) + [new_ent]"
   ]
  },
  {
   "cell_type": "code",
   "execution_count": 19,
   "id": "b4e9d355-519a-49b6-ad25-632ab13932d7",
   "metadata": {},
   "outputs": [
    {
     "name": "stdout",
     "output_type": "stream",
     "text": [
      "Tesla-ORG - Companies, agencies, institutions, etc.\n",
      "U.K.-GPE - Countries, cities, states\n",
      "$6 million-MONEY - Monetary values, including unit\n"
     ]
    }
   ],
   "source": [
    "show_ents(doc)"
   ]
  },
  {
   "cell_type": "code",
   "execution_count": null,
   "id": "229e755d-95b9-4f74-8499-235fa2f8fea9",
   "metadata": {},
   "outputs": [],
   "source": []
  },
  {
   "cell_type": "code",
   "execution_count": null,
   "id": "2fb069c1-a61f-425b-a2b2-11f8a01c9266",
   "metadata": {},
   "outputs": [],
   "source": []
  },
  {
   "cell_type": "code",
   "execution_count": 20,
   "id": "0c2ed4d1-72d5-45f4-8e9f-dae7b5924ff6",
   "metadata": {},
   "outputs": [],
   "source": [
    "doc = nlp(u\"Our company created a brand new vacuum cleaner.\"\n",
    "          u\"This new vacuum-cleaner is the best in show.\")"
   ]
  },
  {
   "cell_type": "code",
   "execution_count": 21,
   "id": "c870a3f0-0e81-4ca2-a067-ffcafc47a0a9",
   "metadata": {},
   "outputs": [
    {
     "name": "stdout",
     "output_type": "stream",
     "text": [
      "No entities fount\n"
     ]
    }
   ],
   "source": [
    "show_ents(doc)"
   ]
  },
  {
   "cell_type": "code",
   "execution_count": 22,
   "id": "bd938432-e425-4bca-bb89-ded3b64f1f13",
   "metadata": {},
   "outputs": [],
   "source": [
    "from spacy.matcher import PhraseMatcher"
   ]
  },
  {
   "cell_type": "code",
   "execution_count": 23,
   "id": "89cf2f59-e68b-4e13-8b56-1a50e50112de",
   "metadata": {},
   "outputs": [],
   "source": [
    "matcher = PhraseMatcher(nlp.vocab)"
   ]
  },
  {
   "cell_type": "code",
   "execution_count": 24,
   "id": "f9a32af1-b5e5-4913-b192-ceb181944594",
   "metadata": {},
   "outputs": [],
   "source": [
    "phrase_list = ['vacuum cleaner', 'vacuum-cleaner']"
   ]
  },
  {
   "cell_type": "code",
   "execution_count": 25,
   "id": "a4c27c4d-deb0-4dad-b21f-98eef38d74e7",
   "metadata": {},
   "outputs": [],
   "source": [
    "phrase_patterns = [nlp(text) for text in phrase_list]"
   ]
  },
  {
   "cell_type": "code",
   "execution_count": 26,
   "id": "1ab98099-c998-463f-90e4-adaac8eb82d9",
   "metadata": {},
   "outputs": [],
   "source": [
    "matcher.add('newproduct',None,*phrase_patterns)"
   ]
  },
  {
   "cell_type": "code",
   "execution_count": 27,
   "id": "dbccda71-b1bb-4efd-832d-14b6ac6cce94",
   "metadata": {},
   "outputs": [],
   "source": [
    "found_matches = matcher(doc)"
   ]
  },
  {
   "cell_type": "code",
   "execution_count": 29,
   "id": "22fb6c27-8c4f-48cc-9de9-70cdfed5cb17",
   "metadata": {},
   "outputs": [
    {
     "data": {
      "text/plain": [
       "[(2689272359382549672, 6, 8), (2689272359382549672, 11, 14)]"
      ]
     },
     "execution_count": 29,
     "metadata": {},
     "output_type": "execute_result"
    }
   ],
   "source": [
    "found_matches"
   ]
  },
  {
   "cell_type": "code",
   "execution_count": 30,
   "id": "1182b7dc-5dc1-4d44-95e3-5f406b860754",
   "metadata": {},
   "outputs": [],
   "source": [
    "from spacy.tokens import Span"
   ]
  },
  {
   "cell_type": "code",
   "execution_count": 31,
   "id": "8ceaad19-b815-40b1-b52f-e723ddeee4ef",
   "metadata": {},
   "outputs": [],
   "source": [
    "PROD = doc.vocab.strings[u\"PRODUCT\"]"
   ]
  },
  {
   "cell_type": "code",
   "execution_count": 32,
   "id": "6e50d412-59da-436a-89e0-3fe05f977512",
   "metadata": {},
   "outputs": [
    {
     "data": {
      "text/plain": [
       "[(2689272359382549672, 6, 8), (2689272359382549672, 11, 14)]"
      ]
     },
     "execution_count": 32,
     "metadata": {},
     "output_type": "execute_result"
    }
   ],
   "source": [
    "found_matches"
   ]
  },
  {
   "cell_type": "code",
   "execution_count": 34,
   "id": "e60030a3-edc3-41af-b890-e9de7402e4f9",
   "metadata": {},
   "outputs": [],
   "source": [
    "new_ents = [Span(doc, match[1], match[2], label=PROD) for match in found_matches]"
   ]
  },
  {
   "cell_type": "code",
   "execution_count": 35,
   "id": "98151acc-676a-49d4-b635-52622d8e92bf",
   "metadata": {},
   "outputs": [],
   "source": [
    "doc.ents = list(doc.ents) + new_ents"
   ]
  },
  {
   "cell_type": "code",
   "execution_count": 36,
   "id": "77ce725b-2582-4fd6-bd85-5b5f311c1ef5",
   "metadata": {},
   "outputs": [
    {
     "name": "stdout",
     "output_type": "stream",
     "text": [
      "vacuum cleaner-PRODUCT - Objects, vehicles, foods, etc. (not services)\n",
      "vacuum-cleaner-PRODUCT - Objects, vehicles, foods, etc. (not services)\n"
     ]
    }
   ],
   "source": [
    "show_ents(doc)"
   ]
  },
  {
   "cell_type": "code",
   "execution_count": 37,
   "id": "ca4c6d69-771e-4012-9b6d-2973f4fc1004",
   "metadata": {},
   "outputs": [],
   "source": [
    "doc = nlp(u\"Originally I paid $29.95 for this car toy, but no it is marked down by 10 dollars.\")"
   ]
  },
  {
   "cell_type": "code",
   "execution_count": 39,
   "id": "13180bee-8d2c-4f50-ad67-d215b6cdb7e2",
   "metadata": {},
   "outputs": [
    {
     "data": {
      "text/plain": [
       "2"
      ]
     },
     "execution_count": 39,
     "metadata": {},
     "output_type": "execute_result"
    }
   ],
   "source": [
    "len([ent for ent in doc.ents if ent.label_ == \"MONEY\"])"
   ]
  },
  {
   "cell_type": "code",
   "execution_count": null,
   "id": "a3c482e0-3346-4cc8-80a3-8687c85991dc",
   "metadata": {},
   "outputs": [],
   "source": []
  }
 ],
 "metadata": {
  "kernelspec": {
   "display_name": "Python 3 (ipykernel)",
   "language": "python",
   "name": "python3"
  },
  "language_info": {
   "codemirror_mode": {
    "name": "ipython",
    "version": 3
   },
   "file_extension": ".py",
   "mimetype": "text/x-python",
   "name": "python",
   "nbconvert_exporter": "python",
   "pygments_lexer": "ipython3",
   "version": "3.7.13"
  }
 },
 "nbformat": 4,
 "nbformat_minor": 5
}
