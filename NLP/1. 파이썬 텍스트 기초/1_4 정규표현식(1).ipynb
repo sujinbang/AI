{
 "cells": [
  {
   "cell_type": "code",
   "execution_count": 18,
   "id": "15caca79-e72a-4609-9940-95c780950697",
   "metadata": {},
   "outputs": [],
   "source": [
    "text = \"The phone number of the agent is 408-555-1234. Call soon!\""
   ]
  },
  {
   "cell_type": "code",
   "execution_count": 19,
   "id": "6e0c18dc-b9b3-4fda-8fbb-fe115936b3d5",
   "metadata": {},
   "outputs": [
    {
     "data": {
      "text/plain": [
       "True"
      ]
     },
     "execution_count": 19,
     "metadata": {},
     "output_type": "execute_result"
    }
   ],
   "source": [
    "\"408-555-1234\" in text"
   ]
  },
  {
   "cell_type": "code",
   "execution_count": 20,
   "id": "6aafdbe6-2ca2-45f9-b230-529538c77e2d",
   "metadata": {},
   "outputs": [],
   "source": [
    "import re"
   ]
  },
  {
   "cell_type": "code",
   "execution_count": 21,
   "id": "bb0cf5fc-bbdc-46f1-8624-0c5bbb83b3bb",
   "metadata": {},
   "outputs": [],
   "source": [
    "pattern = \"phone\""
   ]
  },
  {
   "cell_type": "code",
   "execution_count": 22,
   "id": "8b146a15-0659-4979-802d-5b8e96af17bb",
   "metadata": {},
   "outputs": [
    {
     "data": {
      "text/plain": [
       "<re.Match object; span=(4, 9), match='phone'>"
      ]
     },
     "execution_count": 22,
     "metadata": {},
     "output_type": "execute_result"
    }
   ],
   "source": [
    "re.search(pattern, text) # text내에서 \"phone\"이 어디있는지"
   ]
  },
  {
   "cell_type": "code",
   "execution_count": 23,
   "id": "3cf6d8e0-b0fb-49d5-8bff-15c4ad5e86c0",
   "metadata": {},
   "outputs": [],
   "source": [
    "my_match = re.search(pattern,text)"
   ]
  },
  {
   "cell_type": "code",
   "execution_count": 24,
   "id": "24035fbe-bbac-4131-bf21-917fcd55cbe2",
   "metadata": {},
   "outputs": [
    {
     "data": {
      "text/plain": [
       "(4, 9)"
      ]
     },
     "execution_count": 24,
     "metadata": {},
     "output_type": "execute_result"
    }
   ],
   "source": [
    "my_match.span() # phone의 위치"
   ]
  },
  {
   "cell_type": "code",
   "execution_count": 25,
   "id": "f903f630-556a-45dd-9556-74daec86a4d5",
   "metadata": {},
   "outputs": [
    {
     "data": {
      "text/plain": [
       "4"
      ]
     },
     "execution_count": 25,
     "metadata": {},
     "output_type": "execute_result"
    }
   ],
   "source": [
    "my_match.start() # phone 시작 위치"
   ]
  },
  {
   "cell_type": "code",
   "execution_count": 26,
   "id": "57aeef25-227f-4f89-8c2c-089e27752af3",
   "metadata": {},
   "outputs": [
    {
     "data": {
      "text/plain": [
       "9"
      ]
     },
     "execution_count": 26,
     "metadata": {},
     "output_type": "execute_result"
    }
   ],
   "source": [
    "my_match.end() # phone 끝 위치"
   ]
  },
  {
   "cell_type": "code",
   "execution_count": 27,
   "id": "9a45d4ff-35be-46c9-b463-3b2432f347e3",
   "metadata": {},
   "outputs": [],
   "source": [
    "text = \"my phone is a new phone\""
   ]
  },
  {
   "cell_type": "code",
   "execution_count": 28,
   "id": "28fd202e-8e3d-4629-8a98-b409db5a045e",
   "metadata": {},
   "outputs": [],
   "source": [
    "match = re.search(pattern, text)"
   ]
  },
  {
   "cell_type": "code",
   "execution_count": 29,
   "id": "a683655c-da9c-4922-b3d0-9829719f3c92",
   "metadata": {},
   "outputs": [
    {
     "data": {
      "text/plain": [
       "(3, 8)"
      ]
     },
     "execution_count": 29,
     "metadata": {},
     "output_type": "execute_result"
    }
   ],
   "source": [
    "match.span()"
   ]
  },
  {
   "cell_type": "code",
   "execution_count": 30,
   "id": "9ab763a7-20f9-4bb7-8e30-c9af435ee699",
   "metadata": {},
   "outputs": [],
   "source": [
    "all_matches = re.findall(\"phone\", text) # text에서 phone을 모두 찾아라"
   ]
  },
  {
   "cell_type": "code",
   "execution_count": 31,
   "id": "0bc6619d-10ae-40fa-8f9e-65bbeadc5433",
   "metadata": {},
   "outputs": [
    {
     "data": {
      "text/plain": [
       "2"
      ]
     },
     "execution_count": 31,
     "metadata": {},
     "output_type": "execute_result"
    }
   ],
   "source": [
    "len(all_matches) # phone 개수"
   ]
  },
  {
   "cell_type": "code",
   "execution_count": 35,
   "id": "32b4a379-a14a-4ab1-ae1f-c672738c7485",
   "metadata": {},
   "outputs": [
    {
     "name": "stdout",
     "output_type": "stream",
     "text": [
      "(3, 8)\n",
      "(18, 23)\n"
     ]
    }
   ],
   "source": [
    "for match in re.finditer(\"phone\",text):\n",
    "    print(match.span())"
   ]
  },
  {
   "cell_type": "code",
   "execution_count": 42,
   "id": "7477304b-e04d-4525-a479-7b9c3653a363",
   "metadata": {},
   "outputs": [],
   "source": [
    "text = 'My telephone number is 888-555-1234'"
   ]
  },
  {
   "cell_type": "code",
   "execution_count": 43,
   "id": "3b359cd4-b8ac-45f4-8856-781c58836b8a",
   "metadata": {},
   "outputs": [
    {
     "data": {
      "text/plain": [
       "'My telephone number is 888-555-1234'"
      ]
     },
     "execution_count": 43,
     "metadata": {},
     "output_type": "execute_result"
    }
   ],
   "source": [
    "text"
   ]
  },
  {
   "cell_type": "code",
   "execution_count": 44,
   "id": "b9058000-27c5-4759-8272-f9ebfe697e4c",
   "metadata": {},
   "outputs": [],
   "source": [
    "# 정규표현식\n",
    "# UPDATED_NLP_COURSE\\00-Python-Text-Basics\\02-Regular-Expressions.ipynb 파일 참고\n",
    "pattern = r'\\d\\d\\d-\\d\\d\\d-\\d\\d\\d\\d'"
   ]
  },
  {
   "cell_type": "code",
   "execution_count": 45,
   "id": "b1170a85-d603-4cc1-a7bb-a5694d52b2bf",
   "metadata": {},
   "outputs": [],
   "source": [
    "phone_number = re.search(pattern,text)"
   ]
  },
  {
   "cell_type": "code",
   "execution_count": 46,
   "id": "64810d31-f10f-4b26-b145-a228a641bc1a",
   "metadata": {},
   "outputs": [
    {
     "data": {
      "text/plain": [
       "'888-555-1234'"
      ]
     },
     "execution_count": 46,
     "metadata": {},
     "output_type": "execute_result"
    }
   ],
   "source": [
    "phone_number.group()"
   ]
  },
  {
   "cell_type": "code",
   "execution_count": 47,
   "id": "9dab5cde-b4ff-4c50-9c43-f9ca164ab295",
   "metadata": {},
   "outputs": [],
   "source": [
    "pattern = r\"\\d{3}-\\d{3}-\\d{4}\""
   ]
  },
  {
   "cell_type": "code",
   "execution_count": 49,
   "id": "d846d072-f9e9-4bdd-b41d-48b8281b7194",
   "metadata": {},
   "outputs": [],
   "source": [
    "mymatch = re.search(pattern,text)"
   ]
  },
  {
   "cell_type": "code",
   "execution_count": 50,
   "id": "32ba35b7-c303-498c-8ccf-aba1219e9658",
   "metadata": {},
   "outputs": [
    {
     "data": {
      "text/plain": [
       "'888-555-1234'"
      ]
     },
     "execution_count": 50,
     "metadata": {},
     "output_type": "execute_result"
    }
   ],
   "source": [
    "mymatch.group()"
   ]
  },
  {
   "cell_type": "code",
   "execution_count": 51,
   "id": "5e5218cd-fab7-40d5-b1ee-c5ab815e26d2",
   "metadata": {},
   "outputs": [],
   "source": [
    "re.search(r\"man|woman\", \"This women was here\")"
   ]
  },
  {
   "cell_type": "code",
   "execution_count": 54,
   "id": "befcb5ad-6f19-4275-a373-53a9533a8947",
   "metadata": {},
   "outputs": [
    {
     "data": {
      "text/plain": [
       "[' cat', ' hat', ' sat', 'plat']"
      ]
     },
     "execution_count": 54,
     "metadata": {},
     "output_type": "execute_result"
    }
   ],
   "source": [
    "re.findall(r\"..at\",\"The cat in the hat sat splat\")"
   ]
  },
  {
   "cell_type": "code",
   "execution_count": 57,
   "id": "0335f40a-153e-455e-a2f4-744c475ed88c",
   "metadata": {},
   "outputs": [
    {
     "data": {
      "text/plain": [
       "['1']"
      ]
     },
     "execution_count": 57,
     "metadata": {},
     "output_type": "execute_result"
    }
   ],
   "source": [
    "re.findall(r\"^\\d\",'1 is the loneliest number')"
   ]
  },
  {
   "cell_type": "code",
   "execution_count": 58,
   "id": "0541b006-e38d-417d-b9c1-f614ba381b7d",
   "metadata": {},
   "outputs": [],
   "source": [
    "phrase = \"there are 3 numbers 34 inside 5 this sentence\""
   ]
  },
  {
   "cell_type": "code",
   "execution_count": 61,
   "id": "5fd4edf9-13c2-4310-9522-eed66a117381",
   "metadata": {},
   "outputs": [
    {
     "data": {
      "text/plain": [
       "['there are ', ' numbers ', ' inside ', ' this sentence']"
      ]
     },
     "execution_count": 61,
     "metadata": {},
     "output_type": "execute_result"
    }
   ],
   "source": [
    "re.findall(r\"[^\\d]+\", phrase)"
   ]
  },
  {
   "cell_type": "code",
   "execution_count": 62,
   "id": "c305e965-f458-42a0-84de-38c675383dca",
   "metadata": {},
   "outputs": [],
   "source": [
    "test_phrase = \"This is a string! but it has puncutation. How to remove it?\""
   ]
  },
  {
   "cell_type": "code",
   "execution_count": 64,
   "id": "81bacf0d-e0cb-405d-a21b-8c91737e2cb9",
   "metadata": {},
   "outputs": [],
   "source": [
    "mylist = re.findall(r\"[^!.? ]+\", test_phrase)"
   ]
  },
  {
   "cell_type": "code",
   "execution_count": 65,
   "id": "bf3589af-163d-4fb5-9523-cea148ef7944",
   "metadata": {},
   "outputs": [
    {
     "data": {
      "text/plain": [
       "['This',\n",
       " 'is',\n",
       " 'a',\n",
       " 'string',\n",
       " 'but',\n",
       " 'it',\n",
       " 'has',\n",
       " 'puncutation',\n",
       " 'How',\n",
       " 'to',\n",
       " 'remove',\n",
       " 'it']"
      ]
     },
     "execution_count": 65,
     "metadata": {},
     "output_type": "execute_result"
    }
   ],
   "source": [
    "mylist"
   ]
  },
  {
   "cell_type": "code",
   "execution_count": 67,
   "id": "51e8159a-97c5-4aba-bbb9-034f01a1fabc",
   "metadata": {},
   "outputs": [
    {
     "data": {
      "text/plain": [
       "'This is a string but it has puncutation How to remove it'"
      ]
     },
     "execution_count": 67,
     "metadata": {},
     "output_type": "execute_result"
    }
   ],
   "source": [
    "' '.join(mylist)"
   ]
  },
  {
   "cell_type": "code",
   "execution_count": 68,
   "id": "14e89b7a-ebbf-44c1-abb0-2080956b2219",
   "metadata": {},
   "outputs": [],
   "source": [
    "text = \"Only find the hyphen-words. Were are the long-ish dash words?\""
   ]
  },
  {
   "cell_type": "code",
   "execution_count": 69,
   "id": "61d7360e-444f-4cd8-9eed-ef5e3d52b384",
   "metadata": {},
   "outputs": [
    {
     "data": {
      "text/plain": [
       "['hyphen-words', 'long-ish']"
      ]
     },
     "execution_count": 69,
     "metadata": {},
     "output_type": "execute_result"
    }
   ],
   "source": [
    "re.findall(r'[\\w]+-[\\w]+', text)"
   ]
  },
  {
   "cell_type": "code",
   "execution_count": null,
   "id": "a55344da-2421-4447-8037-22dfa4dbccaa",
   "metadata": {},
   "outputs": [],
   "source": []
  }
 ],
 "metadata": {
  "kernelspec": {
   "display_name": "Python 3 (ipykernel)",
   "language": "python",
   "name": "python3"
  },
  "language_info": {
   "codemirror_mode": {
    "name": "ipython",
    "version": 3
   },
   "file_extension": ".py",
   "mimetype": "text/x-python",
   "name": "python",
   "nbconvert_exporter": "python",
   "pygments_lexer": "ipython3",
   "version": "3.9.12"
  }
 },
 "nbformat": 4,
 "nbformat_minor": 5
}
