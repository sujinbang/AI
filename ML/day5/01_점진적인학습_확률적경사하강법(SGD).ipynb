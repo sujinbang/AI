{
 "cells": [
  {
   "cell_type": "code",
   "execution_count": 42,
   "id": "8a60a84b",
   "metadata": {},
   "outputs": [],
   "source": [
    "import pandas as pd\n",
    "import numpy as np"
   ]
  },
  {
   "cell_type": "markdown",
   "id": "eebb5036",
   "metadata": {},
   "source": [
    "## 점진적인 학습 이란\n",
    "##### - 훈련에 필요한 데이터가 한번에 다 수집된 경우가 아니라,\n",
    "##### - 시간 차를 두고 수집이 되는 경우에는 훈련모델 학습은 언제 해야 할까?\n",
    "##### - 이런 문제를 해결하기 위해 수집될 때 마다 학습을 계속 이어나가는 훈련방식을\n",
    "##### - \"점진적인 학습\" 이라고 합니다.\n",
    "##### -->> \"점진적인 학습\" 또는 온라인 학습이라고 칭함\n",
    "##### - 대표적인 점진적 학습 알고리즘은 \"확률적 경사하강법\" 입니다."
   ]
  },
  {
   "cell_type": "markdown",
   "id": "4cf8986c",
   "metadata": {},
   "source": [
    "## 확률적 경사 하강법(SGD; Stochastic Gradient Descent)\n",
    "##### - 경사 란 : 우리가 흔히 사용하는 단어인 경사(기울기) 입니다.\n",
    "##### - 하강법 이란 : 내려가는 방법 입니다.\n",
    "##### - 경사 하강법 이란 ?\n",
    "##### ... : 원하는 지점에 도달하기 위해 가장 가파른 경사를 따라 내려가는 방법을 찾는 방법\n",
    "##### - 확률적 이란 : \"무작위하게\" 또는 \"랜덤하게\"의 기술적 표현 언어 입니다.\n",
    "#####  : 훈련데이터의 전체 특성들 중에서 하나씩 랜덤하게 선택하여 가장 가파른 길을 찾음\n",
    "## <확률적 경사 하강법 순서>\n",
    "##### 1. 훈련데이터에서 랜덤하게 하나의 특성을 선택\n",
    "##### 2. 선택한 특성을 이용하여 경사를 조금씩(아주조금씩) 내려갑니다.\n",
    "##### 3. 내려 갈 수 있을 때 까지 내려갑니다.\n",
    "##### 4. 훈련 세트에서 다른 특성을 랜덤하게 또 다시 하나 선택 \n",
    "##### 4. 선택된 특성을 이용해서 경사를 조금씩 내려갈 수 있을 때 까지 내려간다."
   ]
  },
  {
   "cell_type": "markdown",
   "id": "92e21211",
   "metadata": {},
   "source": [
    "## 1. 데이터 준비하기"
   ]
  },
  {
   "cell_type": "code",
   "execution_count": 43,
   "id": "df3a081a",
   "metadata": {},
   "outputs": [
    {
     "data": {
      "text/html": [
       "<div>\n",
       "<style scoped>\n",
       "    .dataframe tbody tr th:only-of-type {\n",
       "        vertical-align: middle;\n",
       "    }\n",
       "\n",
       "    .dataframe tbody tr th {\n",
       "        vertical-align: top;\n",
       "    }\n",
       "\n",
       "    .dataframe thead th {\n",
       "        text-align: right;\n",
       "    }\n",
       "</style>\n",
       "<table border=\"1\" class=\"dataframe\">\n",
       "  <thead>\n",
       "    <tr style=\"text-align: right;\">\n",
       "      <th></th>\n",
       "      <th>Species</th>\n",
       "      <th>Weight</th>\n",
       "      <th>Length</th>\n",
       "      <th>Diagonal</th>\n",
       "      <th>Height</th>\n",
       "      <th>Width</th>\n",
       "    </tr>\n",
       "  </thead>\n",
       "  <tbody>\n",
       "    <tr>\n",
       "      <th>0</th>\n",
       "      <td>Bream</td>\n",
       "      <td>242.0</td>\n",
       "      <td>25.4</td>\n",
       "      <td>30.0</td>\n",
       "      <td>11.5200</td>\n",
       "      <td>4.0200</td>\n",
       "    </tr>\n",
       "    <tr>\n",
       "      <th>1</th>\n",
       "      <td>Bream</td>\n",
       "      <td>290.0</td>\n",
       "      <td>26.3</td>\n",
       "      <td>31.2</td>\n",
       "      <td>12.4800</td>\n",
       "      <td>4.3056</td>\n",
       "    </tr>\n",
       "    <tr>\n",
       "      <th>2</th>\n",
       "      <td>Bream</td>\n",
       "      <td>340.0</td>\n",
       "      <td>26.5</td>\n",
       "      <td>31.1</td>\n",
       "      <td>12.3778</td>\n",
       "      <td>4.6961</td>\n",
       "    </tr>\n",
       "    <tr>\n",
       "      <th>3</th>\n",
       "      <td>Bream</td>\n",
       "      <td>363.0</td>\n",
       "      <td>29.0</td>\n",
       "      <td>33.5</td>\n",
       "      <td>12.7300</td>\n",
       "      <td>4.4555</td>\n",
       "    </tr>\n",
       "    <tr>\n",
       "      <th>4</th>\n",
       "      <td>Bream</td>\n",
       "      <td>430.0</td>\n",
       "      <td>29.0</td>\n",
       "      <td>34.0</td>\n",
       "      <td>12.4440</td>\n",
       "      <td>5.1340</td>\n",
       "    </tr>\n",
       "    <tr>\n",
       "      <th>...</th>\n",
       "      <td>...</td>\n",
       "      <td>...</td>\n",
       "      <td>...</td>\n",
       "      <td>...</td>\n",
       "      <td>...</td>\n",
       "      <td>...</td>\n",
       "    </tr>\n",
       "    <tr>\n",
       "      <th>154</th>\n",
       "      <td>Smelt</td>\n",
       "      <td>12.2</td>\n",
       "      <td>12.2</td>\n",
       "      <td>13.4</td>\n",
       "      <td>2.0904</td>\n",
       "      <td>1.3936</td>\n",
       "    </tr>\n",
       "    <tr>\n",
       "      <th>155</th>\n",
       "      <td>Smelt</td>\n",
       "      <td>13.4</td>\n",
       "      <td>12.4</td>\n",
       "      <td>13.5</td>\n",
       "      <td>2.4300</td>\n",
       "      <td>1.2690</td>\n",
       "    </tr>\n",
       "    <tr>\n",
       "      <th>156</th>\n",
       "      <td>Smelt</td>\n",
       "      <td>12.2</td>\n",
       "      <td>13.0</td>\n",
       "      <td>13.8</td>\n",
       "      <td>2.2770</td>\n",
       "      <td>1.2558</td>\n",
       "    </tr>\n",
       "    <tr>\n",
       "      <th>157</th>\n",
       "      <td>Smelt</td>\n",
       "      <td>19.7</td>\n",
       "      <td>14.3</td>\n",
       "      <td>15.2</td>\n",
       "      <td>2.8728</td>\n",
       "      <td>2.0672</td>\n",
       "    </tr>\n",
       "    <tr>\n",
       "      <th>158</th>\n",
       "      <td>Smelt</td>\n",
       "      <td>19.9</td>\n",
       "      <td>15.0</td>\n",
       "      <td>16.2</td>\n",
       "      <td>2.9322</td>\n",
       "      <td>1.8792</td>\n",
       "    </tr>\n",
       "  </tbody>\n",
       "</table>\n",
       "<p>159 rows × 6 columns</p>\n",
       "</div>"
      ],
      "text/plain": [
       "    Species  Weight  Length  Diagonal   Height   Width\n",
       "0     Bream   242.0    25.4      30.0  11.5200  4.0200\n",
       "1     Bream   290.0    26.3      31.2  12.4800  4.3056\n",
       "2     Bream   340.0    26.5      31.1  12.3778  4.6961\n",
       "3     Bream   363.0    29.0      33.5  12.7300  4.4555\n",
       "4     Bream   430.0    29.0      34.0  12.4440  5.1340\n",
       "..      ...     ...     ...       ...      ...     ...\n",
       "154   Smelt    12.2    12.2      13.4   2.0904  1.3936\n",
       "155   Smelt    13.4    12.4      13.5   2.4300  1.2690\n",
       "156   Smelt    12.2    13.0      13.8   2.2770  1.2558\n",
       "157   Smelt    19.7    14.3      15.2   2.8728  2.0672\n",
       "158   Smelt    19.9    15.0      16.2   2.9322  1.8792\n",
       "\n",
       "[159 rows x 6 columns]"
      ]
     },
     "execution_count": 43,
     "metadata": {},
     "output_type": "execute_result"
    }
   ],
   "source": [
    "file_path = './data/07_fish.csv'\n",
    "fish = pd.read_csv(file_path)\n",
    "fish"
   ]
  },
  {
   "cell_type": "code",
   "execution_count": 44,
   "id": "c18d503e",
   "metadata": {},
   "outputs": [
    {
     "name": "stdout",
     "output_type": "stream",
     "text": [
      "<class 'pandas.core.frame.DataFrame'>\n",
      "RangeIndex: 159 entries, 0 to 158\n",
      "Data columns (total 6 columns):\n",
      " #   Column    Non-Null Count  Dtype  \n",
      "---  ------    --------------  -----  \n",
      " 0   Species   159 non-null    object \n",
      " 1   Weight    159 non-null    float64\n",
      " 2   Length    159 non-null    float64\n",
      " 3   Diagonal  159 non-null    float64\n",
      " 4   Height    159 non-null    float64\n",
      " 5   Width     159 non-null    float64\n",
      "dtypes: float64(5), object(1)\n",
      "memory usage: 7.6+ KB\n"
     ]
    }
   ],
   "source": [
    "# 결측치 확인\n",
    "fish.info()"
   ]
  },
  {
   "cell_type": "code",
   "execution_count": 45,
   "id": "9d8c38f8",
   "metadata": {},
   "outputs": [
    {
     "data": {
      "text/html": [
       "<div>\n",
       "<style scoped>\n",
       "    .dataframe tbody tr th:only-of-type {\n",
       "        vertical-align: middle;\n",
       "    }\n",
       "\n",
       "    .dataframe tbody tr th {\n",
       "        vertical-align: top;\n",
       "    }\n",
       "\n",
       "    .dataframe thead th {\n",
       "        text-align: right;\n",
       "    }\n",
       "</style>\n",
       "<table border=\"1\" class=\"dataframe\">\n",
       "  <thead>\n",
       "    <tr style=\"text-align: right;\">\n",
       "      <th></th>\n",
       "      <th>Weight</th>\n",
       "      <th>Length</th>\n",
       "      <th>Diagonal</th>\n",
       "      <th>Height</th>\n",
       "      <th>Width</th>\n",
       "    </tr>\n",
       "  </thead>\n",
       "  <tbody>\n",
       "    <tr>\n",
       "      <th>count</th>\n",
       "      <td>159.000000</td>\n",
       "      <td>159.000000</td>\n",
       "      <td>159.000000</td>\n",
       "      <td>159.000000</td>\n",
       "      <td>159.000000</td>\n",
       "    </tr>\n",
       "    <tr>\n",
       "      <th>mean</th>\n",
       "      <td>398.326415</td>\n",
       "      <td>28.415723</td>\n",
       "      <td>31.227044</td>\n",
       "      <td>8.970994</td>\n",
       "      <td>4.417486</td>\n",
       "    </tr>\n",
       "    <tr>\n",
       "      <th>std</th>\n",
       "      <td>357.978317</td>\n",
       "      <td>10.716328</td>\n",
       "      <td>11.610246</td>\n",
       "      <td>4.286208</td>\n",
       "      <td>1.685804</td>\n",
       "    </tr>\n",
       "    <tr>\n",
       "      <th>min</th>\n",
       "      <td>0.000000</td>\n",
       "      <td>8.400000</td>\n",
       "      <td>8.800000</td>\n",
       "      <td>1.728400</td>\n",
       "      <td>1.047600</td>\n",
       "    </tr>\n",
       "    <tr>\n",
       "      <th>25%</th>\n",
       "      <td>120.000000</td>\n",
       "      <td>21.000000</td>\n",
       "      <td>23.150000</td>\n",
       "      <td>5.944800</td>\n",
       "      <td>3.385650</td>\n",
       "    </tr>\n",
       "    <tr>\n",
       "      <th>50%</th>\n",
       "      <td>273.000000</td>\n",
       "      <td>27.300000</td>\n",
       "      <td>29.400000</td>\n",
       "      <td>7.786000</td>\n",
       "      <td>4.248500</td>\n",
       "    </tr>\n",
       "    <tr>\n",
       "      <th>75%</th>\n",
       "      <td>650.000000</td>\n",
       "      <td>35.500000</td>\n",
       "      <td>39.650000</td>\n",
       "      <td>12.365900</td>\n",
       "      <td>5.584500</td>\n",
       "    </tr>\n",
       "    <tr>\n",
       "      <th>max</th>\n",
       "      <td>1650.000000</td>\n",
       "      <td>63.400000</td>\n",
       "      <td>68.000000</td>\n",
       "      <td>18.957000</td>\n",
       "      <td>8.142000</td>\n",
       "    </tr>\n",
       "  </tbody>\n",
       "</table>\n",
       "</div>"
      ],
      "text/plain": [
       "            Weight      Length    Diagonal      Height       Width\n",
       "count   159.000000  159.000000  159.000000  159.000000  159.000000\n",
       "mean    398.326415   28.415723   31.227044    8.970994    4.417486\n",
       "std     357.978317   10.716328   11.610246    4.286208    1.685804\n",
       "min       0.000000    8.400000    8.800000    1.728400    1.047600\n",
       "25%     120.000000   21.000000   23.150000    5.944800    3.385650\n",
       "50%     273.000000   27.300000   29.400000    7.786000    4.248500\n",
       "75%     650.000000   35.500000   39.650000   12.365900    5.584500\n",
       "max    1650.000000   63.400000   68.000000   18.957000    8.142000"
      ]
     },
     "execution_count": 45,
     "metadata": {},
     "output_type": "execute_result"
    }
   ],
   "source": [
    "fish.describe()"
   ]
  },
  {
   "cell_type": "markdown",
   "id": "d8b90471",
   "metadata": {},
   "source": [
    "## 2. 데이터 전처리"
   ]
  },
  {
   "cell_type": "code",
   "execution_count": 46,
   "id": "fc58f83e",
   "metadata": {},
   "outputs": [],
   "source": [
    "### 독립변수와 종속변수 분리하여 변수화\n",
    "# 독립변수명 : fish_input\n",
    "# 종속변수명 : fish_target"
   ]
  },
  {
   "cell_type": "code",
   "execution_count": 47,
   "id": "b04bcdf9",
   "metadata": {},
   "outputs": [],
   "source": [
    "fish_target = fish['Species'].to_numpy()\n",
    "fish_input = fish[['Weight', 'Length', 'Diagonal', 'Height', 'Width']].to_numpy()"
   ]
  },
  {
   "cell_type": "code",
   "execution_count": 48,
   "id": "e83edf65",
   "metadata": {},
   "outputs": [],
   "source": [
    "### 훈련(입력, 타겟), 테스트(입력, 타겟) 데이터 분류하기\n",
    "from sklearn.model_selection import train_test_split"
   ]
  },
  {
   "cell_type": "code",
   "execution_count": 49,
   "id": "2d2e7a77",
   "metadata": {},
   "outputs": [
    {
     "name": "stdout",
     "output_type": "stream",
     "text": [
      "(119, 5)\n",
      "(119,)\n",
      "(40, 5)\n",
      "(40,)\n"
     ]
    }
   ],
   "source": [
    "train_input, test_input, train_target, test_target = \\\n",
    "train_test_split(fish_input, fish_target, random_state=42)\n",
    "print(train_input.shape)\n",
    "print(train_target.shape)\n",
    "print(test_input.shape)\n",
    "print(test_target.shape)"
   ]
  },
  {
   "cell_type": "code",
   "execution_count": 50,
   "id": "a5b9f18a",
   "metadata": {},
   "outputs": [],
   "source": [
    "from sklearn.preprocessing import StandardScaler"
   ]
  },
  {
   "cell_type": "code",
   "execution_count": 51,
   "id": "6ce6e501",
   "metadata": {},
   "outputs": [],
   "source": [
    "ss = StandardScaler()\n",
    "ss.fit(train_input)\n",
    "train_scaled = ss.transform(train_input)\n",
    "test_scaled = ss.transform(test_input)"
   ]
  },
  {
   "cell_type": "markdown",
   "id": "638d04ca",
   "metadata": {},
   "source": [
    "## 확률적 경사 하강법을 이용한 분류"
   ]
  },
  {
   "cell_type": "code",
   "execution_count": null,
   "id": "7e99c8e6",
   "metadata": {},
   "outputs": [],
   "source": [
    "### 객체(모델) 생성하기\n",
    "# - loss : 손실함수 (log=로지스틱 손실함수 사용)\n",
    "#        : 조금씩 내려오면서 손실이 작은쪽을 찾아서 내려오기 위한 방법\n",
    "#        : 사람은 손실이 작은 값들을 알 수 없습니다.\n",
    "#          (학습모델이 가지고 있는 손실 계산식을 통해 결정합니다.)\n",
    "#        : 분류 결과에 만족한다면, 다 내려왔다고 인정해야 함\n",
    "#          (범주가 2개인 이진분류시에 log를 사용합니다.)\n",
    "#        : 사람이 직접 만들거나 직접 계산하지는 않음(관여하지 않음)\n",
    "#        : 훈련모델이 직접 수행\n",
    "#        : 사람은 분류 성격에 맞게 사용할 손실함수를 지정만 합니다.\n",
    "# - max_iter : 훈련 반복 횟수 \n",
    "#            (전체 특성이 다 끝나면 1회로 본다 -> 이를 \"에포크\"라 함)\n",
    "#        : 훈련 반복 회수가 부족한 경우 다 내려오기 전에 끝..?\n",
    "#        : 분류 정확도가 낮아질수도(과소적합), 높아질수도(과대적합)\n",
    "#        : 가장 적합한 반복 시점(에포크)을 찾아야 함..\n",
    "#          (에포크는 사람이 찾아서 max_iter에 넣어 줄 수 있음)"
   ]
  },
  {
   "cell_type": "code",
   "execution_count": 52,
   "id": "28d7d103",
   "metadata": {},
   "outputs": [],
   "source": [
    "### 사용 클래스(모델) : SGDClassifier\n",
    "\n",
    "from sklearn.linear_model import SGDClassifier"
   ]
  },
  {
   "cell_type": "code",
   "execution_count": 74,
   "id": "b4ed71ff",
   "metadata": {},
   "outputs": [],
   "source": [
    "# 클래스(모델) 생성\n",
    "sc = SGDClassifier(loss='log', max_iter=10, random_state=42)"
   ]
  },
  {
   "cell_type": "code",
   "execution_count": 75,
   "id": "8371098c",
   "metadata": {},
   "outputs": [
    {
     "name": "stdout",
     "output_type": "stream",
     "text": [
      "0.773109243697479\n",
      "0.775\n"
     ]
    },
    {
     "name": "stderr",
     "output_type": "stream",
     "text": [
      "C:\\DEV\\Tools\\anaconda3\\lib\\site-packages\\sklearn\\linear_model\\_stochastic_gradient.py:173: FutureWarning: The loss 'log' was deprecated in v1.1 and will be removed in version 1.3. Use `loss='log_loss'` which is equivalent.\n",
      "  warnings.warn(\n",
      "C:\\DEV\\Tools\\anaconda3\\lib\\site-packages\\sklearn\\linear_model\\_stochastic_gradient.py:705: ConvergenceWarning: Maximum number of iteration reached before convergence. Consider increasing max_iter to improve the fit.\n",
      "  warnings.warn(\n"
     ]
    }
   ],
   "source": [
    "sc.fit(train_scaled, train_target)\n",
    "\n",
    "print(sc.score(train_scaled, train_target))\n",
    "print(sc.score(test_scaled, test_target))"
   ]
  },
  {
   "cell_type": "code",
   "execution_count": 76,
   "id": "ac024b1c",
   "metadata": {},
   "outputs": [
    {
     "name": "stdout",
     "output_type": "stream",
     "text": [
      "0.8151260504201681\n",
      "0.85\n"
     ]
    },
    {
     "name": "stderr",
     "output_type": "stream",
     "text": [
      "C:\\DEV\\Tools\\anaconda3\\lib\\site-packages\\sklearn\\linear_model\\_stochastic_gradient.py:173: FutureWarning: The loss 'log' was deprecated in v1.1 and will be removed in version 1.3. Use `loss='log_loss'` which is equivalent.\n",
      "  warnings.warn(\n"
     ]
    }
   ],
   "source": [
    "### 점진적 학습 시작\n",
    "# 새로운 데이터가 들어왔다고 가정..(실제로는 새로운 데이터 사용)\n",
    "sc.partial_fit(train_scaled, train_target)\n",
    "\n",
    "print(sc.score(train_scaled, train_target))\n",
    "print(sc.score(test_scaled, test_target))"
   ]
  },
  {
   "cell_type": "markdown",
   "id": "fec1a009",
   "metadata": {},
   "source": [
    "## 에포크 반복횟수 찾기"
   ]
  },
  {
   "cell_type": "code",
   "execution_count": 98,
   "id": "0f9b96ec",
   "metadata": {},
   "outputs": [],
   "source": [
    "sc = SGDClassifier(loss='log_loss', random_state=42)\n",
    "\n",
    "train_score = []\n",
    "test_score = []\n",
    "\n",
    "# 범주 고유값\n",
    "classes = np.unique(train_target)\n",
    "\n",
    "# 반복을 300회 이상으로 테스트하여 정확도를 리스트에 저장\n",
    "for _ in range(0, 300):\n",
    "    sc.partial_fit(train_scaled, train_target, classes=classes)\n",
    "    \n",
    "    train_score.append(sc.score(train_scaled, train_target))\n",
    "    test_score.append(sc.score(test_scaled, test_target))"
   ]
  },
  {
   "cell_type": "code",
   "execution_count": 103,
   "id": "9d0310ce",
   "metadata": {},
   "outputs": [],
   "source": [
    "### 최적의 에포크 위치확인하기 : 시각화\n",
    "import matplotlib.pyplot as plt"
   ]
  },
  {
   "cell_type": "code",
   "execution_count": 109,
   "id": "0783c409",
   "metadata": {},
   "outputs": [
    {
     "data": {
      "image/png": "[encoded data removed]",
      "text/plain": [
       "<Figure size 1152x720 with 1 Axes>"
      ]
     },
     "metadata": {
      "needs_background": "light"
     },
     "output_type": "display_data"
    }
   ],
   "source": [
    "plt.figure(figsize=(16,10))\n",
    "plt.plot(train_score, label='train_score')\n",
    "plt.plot(test_score, label='test_score')\n",
    "plt.legend()\n",
    "plt.show()"
   ]
  },
  {
   "cell_type": "code",
   "execution_count": 120,
   "id": "2b4a9fb9",
   "metadata": {},
   "outputs": [],
   "source": [
    "# 클래스(모델) 생성\n",
    "sc = SGDClassifier(loss='log_loss', max_iter=100, tol=None, random_state=42)"
   ]
  },
  {
   "cell_type": "code",
   "execution_count": 121,
   "id": "cb564b3e",
   "metadata": {},
   "outputs": [
    {
     "name": "stdout",
     "output_type": "stream",
     "text": [
      "0.957983193277311\n",
      "0.925\n"
     ]
    }
   ],
   "source": [
    "sc.fit(train_scaled, train_target)\n",
    "\n",
    "print(sc.score(train_scaled, train_target))\n",
    "print(sc.score(test_scaled, test_target))"
   ]
  },
  {
   "cell_type": "markdown",
   "id": "d3bd0e80",
   "metadata": {},
   "source": [
    "## 모델 예측값 데이터프레임에 저장하기"
   ]
  },
  {
   "cell_type": "code",
   "execution_count": null,
   "id": "674fc039",
   "metadata": {},
   "outputs": [],
   "source": [
    "##### [문제]\n",
    "##### - 새로운 데이터가 수집되었다고 가정하고 예측을 통해 결과값 저장하기\n",
    "# - 기존 fish 데이터 전체를 신규데이터라고 가정하고 진행\n",
    "# - 신규 데이터는 Weight, Length, Diagonal, Height, Width\n",
    "#   (데이터프레임 변수는 별도로 만들어서 사용)\n",
    "\n",
    "##### - 데이터프레임에 예측결과에 대한 Species_pred 컬럼 추가\n",
    "\n",
    "##### <출력 결과>\n",
    "# - Species_pred가 추가된 데이터프레임 출력\n",
    "#   (출력결과)데이터프레임의 7개 컬럼 모두 출력\n",
    "#   Weight, Length, Diagonal, Height, Width, Species, Species_pred\n",
    "\n",
    "# - 정답을 맞춘 갯수와 틀린 갯수 출력하기\n",
    "#   (출력 예시) 총 갯수[159]건 중에, 정답갯수[149]건, 오답 갯수[10]건\n",
    "\n",
    "# - 정답률과 오답률 출력하기\n",
    "#   (출력 예시) 총 100.0% 중 정답률[93.71%], 오답률[6.29%]"
   ]
  },
  {
   "cell_type": "code",
   "execution_count": 133,
   "id": "bd7c7587",
   "metadata": {},
   "outputs": [],
   "source": [
    "fish_test = fish.copy()\n",
    "fish_test_input = fish_test[['Weight', 'Length', 'Diagonal', 'Height', 'Width']].to_numpy()"
   ]
  },
  {
   "cell_type": "code",
   "execution_count": 135,
   "id": "c79e3c74",
   "metadata": {},
   "outputs": [],
   "source": [
    "fish_test_scaled = ss.transform(fish_test_input)"
   ]
  },
  {
   "cell_type": "code",
   "execution_count": 140,
   "id": "ed521dfd",
   "metadata": {},
   "outputs": [
    {
     "data": {
      "text/html": [
       "<div>\n",
       "<style scoped>\n",
       "    .dataframe tbody tr th:only-of-type {\n",
       "        vertical-align: middle;\n",
       "    }\n",
       "\n",
       "    .dataframe tbody tr th {\n",
       "        vertical-align: top;\n",
       "    }\n",
       "\n",
       "    .dataframe thead th {\n",
       "        text-align: right;\n",
       "    }\n",
       "</style>\n",
       "<table border=\"1\" class=\"dataframe\">\n",
       "  <thead>\n",
       "    <tr style=\"text-align: right;\">\n",
       "      <th></th>\n",
       "      <th>Species</th>\n",
       "      <th>Weight</th>\n",
       "      <th>Length</th>\n",
       "      <th>Diagonal</th>\n",
       "      <th>Height</th>\n",
       "      <th>Width</th>\n",
       "      <th>Species_pred</th>\n",
       "    </tr>\n",
       "  </thead>\n",
       "  <tbody>\n",
       "    <tr>\n",
       "      <th>0</th>\n",
       "      <td>Bream</td>\n",
       "      <td>242.0</td>\n",
       "      <td>25.4</td>\n",
       "      <td>30.0</td>\n",
       "      <td>11.5200</td>\n",
       "      <td>4.0200</td>\n",
       "      <td>Bream</td>\n",
       "    </tr>\n",
       "    <tr>\n",
       "      <th>1</th>\n",
       "      <td>Bream</td>\n",
       "      <td>290.0</td>\n",
       "      <td>26.3</td>\n",
       "      <td>31.2</td>\n",
       "      <td>12.4800</td>\n",
       "      <td>4.3056</td>\n",
       "      <td>Bream</td>\n",
       "    </tr>\n",
       "    <tr>\n",
       "      <th>2</th>\n",
       "      <td>Bream</td>\n",
       "      <td>340.0</td>\n",
       "      <td>26.5</td>\n",
       "      <td>31.1</td>\n",
       "      <td>12.3778</td>\n",
       "      <td>4.6961</td>\n",
       "      <td>Bream</td>\n",
       "    </tr>\n",
       "    <tr>\n",
       "      <th>3</th>\n",
       "      <td>Bream</td>\n",
       "      <td>363.0</td>\n",
       "      <td>29.0</td>\n",
       "      <td>33.5</td>\n",
       "      <td>12.7300</td>\n",
       "      <td>4.4555</td>\n",
       "      <td>Bream</td>\n",
       "    </tr>\n",
       "    <tr>\n",
       "      <th>4</th>\n",
       "      <td>Bream</td>\n",
       "      <td>430.0</td>\n",
       "      <td>29.0</td>\n",
       "      <td>34.0</td>\n",
       "      <td>12.4440</td>\n",
       "      <td>5.1340</td>\n",
       "      <td>Bream</td>\n",
       "    </tr>\n",
       "    <tr>\n",
       "      <th>...</th>\n",
       "      <td>...</td>\n",
       "      <td>...</td>\n",
       "      <td>...</td>\n",
       "      <td>...</td>\n",
       "      <td>...</td>\n",
       "      <td>...</td>\n",
       "      <td>...</td>\n",
       "    </tr>\n",
       "    <tr>\n",
       "      <th>154</th>\n",
       "      <td>Smelt</td>\n",
       "      <td>12.2</td>\n",
       "      <td>12.2</td>\n",
       "      <td>13.4</td>\n",
       "      <td>2.0904</td>\n",
       "      <td>1.3936</td>\n",
       "      <td>Smelt</td>\n",
       "    </tr>\n",
       "    <tr>\n",
       "      <th>155</th>\n",
       "      <td>Smelt</td>\n",
       "      <td>13.4</td>\n",
       "      <td>12.4</td>\n",
       "      <td>13.5</td>\n",
       "      <td>2.4300</td>\n",
       "      <td>1.2690</td>\n",
       "      <td>Smelt</td>\n",
       "    </tr>\n",
       "    <tr>\n",
       "      <th>156</th>\n",
       "      <td>Smelt</td>\n",
       "      <td>12.2</td>\n",
       "      <td>13.0</td>\n",
       "      <td>13.8</td>\n",
       "      <td>2.2770</td>\n",
       "      <td>1.2558</td>\n",
       "      <td>Smelt</td>\n",
       "    </tr>\n",
       "    <tr>\n",
       "      <th>157</th>\n",
       "      <td>Smelt</td>\n",
       "      <td>19.7</td>\n",
       "      <td>14.3</td>\n",
       "      <td>15.2</td>\n",
       "      <td>2.8728</td>\n",
       "      <td>2.0672</td>\n",
       "      <td>Smelt</td>\n",
       "    </tr>\n",
       "    <tr>\n",
       "      <th>158</th>\n",
       "      <td>Smelt</td>\n",
       "      <td>19.9</td>\n",
       "      <td>15.0</td>\n",
       "      <td>16.2</td>\n",
       "      <td>2.9322</td>\n",
       "      <td>1.8792</td>\n",
       "      <td>Smelt</td>\n",
       "    </tr>\n",
       "  </tbody>\n",
       "</table>\n",
       "<p>159 rows × 7 columns</p>\n",
       "</div>"
      ],
      "text/plain": [
       "    Species  Weight  Length  Diagonal   Height   Width Species_pred\n",
       "0     Bream   242.0    25.4      30.0  11.5200  4.0200        Bream\n",
       "1     Bream   290.0    26.3      31.2  12.4800  4.3056        Bream\n",
       "2     Bream   340.0    26.5      31.1  12.3778  4.6961        Bream\n",
       "3     Bream   363.0    29.0      33.5  12.7300  4.4555        Bream\n",
       "4     Bream   430.0    29.0      34.0  12.4440  5.1340        Bream\n",
       "..      ...     ...     ...       ...      ...     ...          ...\n",
       "154   Smelt    12.2    12.2      13.4   2.0904  1.3936        Smelt\n",
       "155   Smelt    13.4    12.4      13.5   2.4300  1.2690        Smelt\n",
       "156   Smelt    12.2    13.0      13.8   2.2770  1.2558        Smelt\n",
       "157   Smelt    19.7    14.3      15.2   2.8728  2.0672        Smelt\n",
       "158   Smelt    19.9    15.0      16.2   2.9322  1.8792        Smelt\n",
       "\n",
       "[159 rows x 7 columns]"
      ]
     },
     "execution_count": 140,
     "metadata": {},
     "output_type": "execute_result"
    }
   ],
   "source": [
    "fish_test_pred = sc.predict(fish_test_scaled)\n",
    "fish_test_series = pd.Series(fish_test_pred)\n",
    "fish_test['Species_pred'] = fish_test_series\n",
    "fish_test"
   ]
  },
  {
   "cell_type": "code",
   "execution_count": 151,
   "id": "f9f7cd1f",
   "metadata": {},
   "outputs": [
    {
     "name": "stdout",
     "output_type": "stream",
     "text": [
      "총 갯수 [159]건 중에, 정답갯수[151]건, 오답 갯수[8]건\n"
     ]
    }
   ],
   "source": [
    "print('총 갯수 [{}]건 중에, 정답갯수[{}]건, 오답 갯수[{}]건'.format(len(fish_test), \\\n",
    "    sum(fish_test['Species'] == fish_test['Species_pred']), \\\n",
    "    len(fish_test)-sum(fish_test['Species'] == fish_test['Species_pred'])))"
   ]
  },
  {
   "cell_type": "code",
   "execution_count": 160,
   "id": "e9220cba",
   "metadata": {},
   "outputs": [
    {
     "name": "stdout",
     "output_type": "stream",
     "text": [
      "총 100.0% 중 정답률[94.97%], 오답률[5.03%]\n"
     ]
    }
   ],
   "source": [
    "print('총 100.0% 중 정답률[{}%], 오답률[{}%]' \\\n",
    "      .format(round(sum(fish_test['Species'] == fish_test['Species_pred'])/len(fish_test) * 100, 2), \\\n",
    "              round(100 - sum(fish_test['Species'] == fish_test['Species_pred'])/len(fish_test) * 100, 2)))"
   ]
  }
 ],
 "metadata": {
  "kernelspec": {
   "display_name": "ml_kernel",
   "language": "python",
   "name": "ml"
  },
  "language_info": {
   "codemirror_mode": {
    "name": "ipython",
    "version": 3
   },
   "file_extension": ".py",
   "mimetype": "text/x-python",
   "name": "python",
   "nbconvert_exporter": "python",
   "pygments_lexer": "ipython3",
   "version": "3.9.12"
  }
 },
 "nbformat": 4,
 "nbformat_minor": 5
}
