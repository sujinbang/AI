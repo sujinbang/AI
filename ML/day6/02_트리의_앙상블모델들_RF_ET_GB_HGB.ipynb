{
 "cells": [
  {
   "cell_type": "markdown",
   "id": "1c6c188c",
   "metadata": {},
   "source": [
    "## 트리의 앙상블"
   ]
  },
  {
   "cell_type": "code",
   "execution_count": 3,
   "id": "02b371e0",
   "metadata": {},
   "outputs": [],
   "source": [
    "# 정형데이터에 가장 뛰어난 성능을 보이는 모델들 입니다.\n",
    "# 앙상블 모델들은 결정트리(Decision Tree)를 기반으로 만들어졌습니다.\n",
    "# 앙삽르 모델들..\n",
    "# - 랜덤포레스트(Random Forest)\n",
    "# - 엑스트라 트리(Extra Trees)\n",
    "# - 그레디언트 부스팅(Gradient Boosting)\n",
    "# - 히스토그램 기반 그레디언트 부스팅(Histogram-base Gradient Boosting)"
   ]
  },
  {
   "cell_type": "markdown",
   "id": "8f0ef40b",
   "metadata": {},
   "source": [
    "## 랜덤포레스트(Random Forest)"
   ]
  },
  {
   "cell_type": "code",
   "execution_count": 4,
   "id": "737c7ecd",
   "metadata": {},
   "outputs": [],
   "source": [
    "### 앙상블 모델 중에 가장 대표격 모델로 사용됨\n",
    "# - 안정적인 성능으로 널리 사용됨\n",
    "# - 앙상블 모델 중에 가장 먼저 시도하는 모델이라고 보면 됩니다.\n",
    "# - 훈련데이터에서 과대적합되는 것을 막아줍니다.\n",
    "# - 검증데이터와 테스트데이터에서 안정적인 성능을 얻을 수 있음\n",
    "\n",
    "### 학습 개념\n",
    "# - 결정트리 하나하나를 랜덤하게 만들어서 숲을 만든다고 보시면 됩니다.\n",
    "# - 훈련데이터에서 랜덤하게 샘플을 추출하여 훈련을 완료한 후\n",
    "#   다시 원본 훈련데이터에 반환을 합니다.\n",
    "# - 랜덤하게 추출 시 이전에 사용된 샘플을 사용할 수도 있음\n",
    "#   (중복을 허용함)\n",
    "\n",
    "### 부트스트랩 샘플(Bootstrap Sample0)\n",
    "# - 위에 설명한 랜덤한 샘플 추출 시 중복을 허용하여 데이터를 샘플링 하는 방식\n",
    "# - 샘플 추출 바익\n",
    "# 1. 원본에서 랜덤 샘플 추출\n",
    "# 2. 훈련 이후 사용이 끝나면 원본에 반환\n",
    "# 3. 다시 원본에서 샘플 추출, 이때 중복 값 추출 될 수도 있음\n",
    "# 위 순서를 반복하면서 샘플링을 통해 훈련하는 방식을 랜덤포레스트가 적용하고 있음\n",
    "\n",
    "### *** 랜덤포레스트는 교차검증을 허용 합니다. ***"
   ]
  },
  {
   "cell_type": "code",
   "execution_count": 5,
   "id": "438fa26a",
   "metadata": {},
   "outputs": [],
   "source": [
    "import numpy as np\n",
    "import pandas as pd\n",
    "from sklearn.model_selection import train_test_split"
   ]
  },
  {
   "cell_type": "code",
   "execution_count": 6,
   "id": "5a4e7b21",
   "metadata": {},
   "outputs": [
    {
     "data": {
      "text/html": [
       "<div>\n",
       "<style scoped>\n",
       "    .dataframe tbody tr th:only-of-type {\n",
       "        vertical-align: middle;\n",
       "    }\n",
       "\n",
       "    .dataframe tbody tr th {\n",
       "        vertical-align: top;\n",
       "    }\n",
       "\n",
       "    .dataframe thead th {\n",
       "        text-align: right;\n",
       "    }\n",
       "</style>\n",
       "<table border=\"1\" class=\"dataframe\">\n",
       "  <thead>\n",
       "    <tr style=\"text-align: right;\">\n",
       "      <th></th>\n",
       "      <th>alcohol</th>\n",
       "      <th>sugar</th>\n",
       "      <th>pH</th>\n",
       "      <th>class</th>\n",
       "    </tr>\n",
       "  </thead>\n",
       "  <tbody>\n",
       "    <tr>\n",
       "      <th>0</th>\n",
       "      <td>9.4</td>\n",
       "      <td>1.9</td>\n",
       "      <td>3.51</td>\n",
       "      <td>0.0</td>\n",
       "    </tr>\n",
       "    <tr>\n",
       "      <th>1</th>\n",
       "      <td>9.8</td>\n",
       "      <td>2.6</td>\n",
       "      <td>3.20</td>\n",
       "      <td>0.0</td>\n",
       "    </tr>\n",
       "    <tr>\n",
       "      <th>2</th>\n",
       "      <td>9.8</td>\n",
       "      <td>2.3</td>\n",
       "      <td>3.26</td>\n",
       "      <td>0.0</td>\n",
       "    </tr>\n",
       "    <tr>\n",
       "      <th>3</th>\n",
       "      <td>9.8</td>\n",
       "      <td>1.9</td>\n",
       "      <td>3.16</td>\n",
       "      <td>0.0</td>\n",
       "    </tr>\n",
       "    <tr>\n",
       "      <th>4</th>\n",
       "      <td>9.4</td>\n",
       "      <td>1.9</td>\n",
       "      <td>3.51</td>\n",
       "      <td>0.0</td>\n",
       "    </tr>\n",
       "    <tr>\n",
       "      <th>...</th>\n",
       "      <td>...</td>\n",
       "      <td>...</td>\n",
       "      <td>...</td>\n",
       "      <td>...</td>\n",
       "    </tr>\n",
       "    <tr>\n",
       "      <th>6492</th>\n",
       "      <td>11.2</td>\n",
       "      <td>1.6</td>\n",
       "      <td>3.27</td>\n",
       "      <td>1.0</td>\n",
       "    </tr>\n",
       "    <tr>\n",
       "      <th>6493</th>\n",
       "      <td>9.6</td>\n",
       "      <td>8.0</td>\n",
       "      <td>3.15</td>\n",
       "      <td>1.0</td>\n",
       "    </tr>\n",
       "    <tr>\n",
       "      <th>6494</th>\n",
       "      <td>9.4</td>\n",
       "      <td>1.2</td>\n",
       "      <td>2.99</td>\n",
       "      <td>1.0</td>\n",
       "    </tr>\n",
       "    <tr>\n",
       "      <th>6495</th>\n",
       "      <td>12.8</td>\n",
       "      <td>1.1</td>\n",
       "      <td>3.34</td>\n",
       "      <td>1.0</td>\n",
       "    </tr>\n",
       "    <tr>\n",
       "      <th>6496</th>\n",
       "      <td>11.8</td>\n",
       "      <td>0.8</td>\n",
       "      <td>3.26</td>\n",
       "      <td>1.0</td>\n",
       "    </tr>\n",
       "  </tbody>\n",
       "</table>\n",
       "<p>6497 rows × 4 columns</p>\n",
       "</div>"
      ],
      "text/plain": [
       "      alcohol  sugar    pH  class\n",
       "0         9.4    1.9  3.51    0.0\n",
       "1         9.8    2.6  3.20    0.0\n",
       "2         9.8    2.3  3.26    0.0\n",
       "3         9.8    1.9  3.16    0.0\n",
       "4         9.4    1.9  3.51    0.0\n",
       "...       ...    ...   ...    ...\n",
       "6492     11.2    1.6  3.27    1.0\n",
       "6493      9.6    8.0  3.15    1.0\n",
       "6494      9.4    1.2  2.99    1.0\n",
       "6495     12.8    1.1  3.34    1.0\n",
       "6496     11.8    0.8  3.26    1.0\n",
       "\n",
       "[6497 rows x 4 columns]"
      ]
     },
     "execution_count": 6,
     "metadata": {},
     "output_type": "execute_result"
    }
   ],
   "source": [
    "### 08_wine.csv 읽어들이고, 훈련 및 테스트 데이터까지 생성해 주세요..\n",
    "file_path = './data/08_wine.csv'\n",
    "wine = pd.read_csv(file_path)\n",
    "wine"
   ]
  },
  {
   "cell_type": "code",
   "execution_count": 7,
   "id": "ac585bf4",
   "metadata": {},
   "outputs": [],
   "source": [
    "wine_data = wine[['alcohol', 'sugar', 'pH']].to_numpy()\n",
    "wine_target = wine['class'].to_numpy()"
   ]
  },
  {
   "cell_type": "code",
   "execution_count": 8,
   "id": "21007b24",
   "metadata": {},
   "outputs": [
    {
     "name": "stdout",
     "output_type": "stream",
     "text": [
      "(4872, 3) (4872,)\n",
      "(1625, 3) (1625,)\n"
     ]
    }
   ],
   "source": [
    "train_input, test_input, train_target, test_target = \\\n",
    "train_test_split(wine_data, wine_target, random_state=42)\n",
    "\n",
    "print(train_input.shape, train_target.shape)\n",
    "print(test_input.shape, test_target.shape)"
   ]
  },
  {
   "cell_type": "markdown",
   "id": "4acfebfb",
   "metadata": {},
   "source": [
    "## 훈련모델 생성하기"
   ]
  },
  {
   "cell_type": "code",
   "execution_count": 9,
   "id": "b39fdcf6",
   "metadata": {},
   "outputs": [],
   "source": [
    "# 랜덤포레스트 패키지 : sklearn.ensemble\n",
    "# 랜덤포레스트 클래스(모델) : RandomForestClassifier\n",
    "# 교차검증 패키지 : sklearn.model_selection\n",
    "# 교차검증 : cross_validate\n",
    "# 교차검증 후 훈련검증결과와 테스트검증결과 확인하기."
   ]
  },
  {
   "cell_type": "code",
   "execution_count": 10,
   "id": "2093998a",
   "metadata": {},
   "outputs": [],
   "source": [
    "from sklearn.ensemble import RandomForestClassifier\n",
    "from sklearn.model_selection import cross_validate"
   ]
  },
  {
   "cell_type": "code",
   "execution_count": 11,
   "id": "79415604",
   "metadata": {},
   "outputs": [],
   "source": [
    "rf = RandomForestClassifier(n_jobs = -1, random_state=42)"
   ]
  },
  {
   "cell_type": "code",
   "execution_count": 12,
   "id": "7b22bab1",
   "metadata": {},
   "outputs": [
    {
     "data": {
      "text/plain": [
       "{'fit_time': array([0.24580169, 0.2524488 , 0.22632861, 0.25470209, 0.32727528]),\n",
       " 'score_time': array([0.04266071, 0.0346837 , 0.04682708, 0.03512597, 0.01695895]),\n",
       " 'test_score': array([0.88      , 0.90051282, 0.90349076, 0.89014374, 0.88295688]),\n",
       " 'train_score': array([0.99743392, 0.99692071, 0.99846075, 0.99820421, 0.99820421])}"
      ]
     },
     "execution_count": 12,
     "metadata": {},
     "output_type": "execute_result"
    }
   ],
   "source": [
    "scores = cross_validate(rf, train_input, train_target,\n",
    "                        return_train_score=True, n_jobs=-1)\n",
    "scores"
   ]
  },
  {
   "cell_type": "code",
   "execution_count": 13,
   "id": "144b7fcd",
   "metadata": {},
   "outputs": [
    {
     "name": "stdout",
     "output_type": "stream",
     "text": [
      "0.997844759088341\n",
      "0.8914208392565683\n"
     ]
    }
   ],
   "source": [
    "# 최종 훈련평가 결과 및 검증결과\n",
    "print(scores['train_score'].mean())\n",
    "print(scores['test_score'].mean())"
   ]
  },
  {
   "cell_type": "code",
   "execution_count": 14,
   "id": "1d12ec02",
   "metadata": {},
   "outputs": [
    {
     "data": {
      "text/plain": [
       "array([0.23155241, 0.49706658, 0.27138101])"
      ]
     },
     "execution_count": 14,
     "metadata": {},
     "output_type": "execute_result"
    }
   ],
   "source": [
    "rf.fit(train_input, train_target)\n",
    "# 특성중요도 조회하기\n",
    "# 랜덤 포레스트는 각 특성을 골고루 사용함\n",
    "rf.feature_importances_"
   ]
  },
  {
   "cell_type": "code",
   "execution_count": 15,
   "id": "4d6dd86a",
   "metadata": {},
   "outputs": [
    {
     "name": "stdout",
     "output_type": "stream",
     "text": [
      "0.8981937602627258\n"
     ]
    }
   ],
   "source": [
    "### oob 기능 사용\n",
    "# 훈련에 참여하지 못한 잔여샘플 사용하는 기능\n",
    "# 기본은 사용안함,\n",
    "rf = RandomForestClassifier(oob_score = True, n_jobs=-1, random_state=42)\n",
    "rf.fit(train_input, train_target)\n",
    "print(rf.oob_score_)"
   ]
  },
  {
   "cell_type": "markdown",
   "id": "e9b7101e",
   "metadata": {},
   "source": [
    "## 엑스트라 트리(Extra Tree)"
   ]
  },
  {
   "cell_type": "code",
   "execution_count": 16,
   "id": "3f63ea6f",
   "metadata": {},
   "outputs": [],
   "source": [
    "# - 랜덤포레스트와 유사하게 작동\n",
    "# - 기본적으로 100개의 결정트리를 훈련함\n",
    "# - 랜덤포레스트와의 차이점\n",
    "# : 부트스트랩 샘플링을 지원하지 않음\n",
    "# : 훈련데이터 전체를 이용하여 결정트리를 생성\n",
    "# : 무작위로 트리를 분리함\n",
    "# - 사용되는 속성 : splitter = 'random' 무작위속성\n",
    "# - 장점\n",
    "# : 과대적합을 막고, 검증데이터의 평가 값을 높일 수 있음\n",
    "# : 특성 데이터가 많지 않은 경우에는 랜덤포레스트와 큰 차이가 없음\n",
    "# - 랜덤포레스트는 불순도 등 여러가지 조건에 따라 결정트리를 생성하기 때문에\n",
    "#   속도가 느린 반면에,\n",
    "# - 엑스트라트리는 랜덤하게 결정트리를 생성하기에 속도가 다소 빠르다는 장점있음"
   ]
  },
  {
   "cell_type": "code",
   "execution_count": 17,
   "id": "fb90ba7d",
   "metadata": {},
   "outputs": [],
   "source": [
    "### 사용패키지 : 랜덤포레스트와 동일\n",
    "# 사용되는 클래스(모델) : ExtraTreesClassifier\n",
    "\n",
    "### 코어 전체사용, train 및 test 결과값 출력\n",
    "### 교차검증 결과인 train 및 test 결과 확인해 주세요."
   ]
  },
  {
   "cell_type": "code",
   "execution_count": 18,
   "id": "d9dd3818",
   "metadata": {},
   "outputs": [],
   "source": [
    "from sklearn.ensemble import ExtraTreesClassifier"
   ]
  },
  {
   "cell_type": "code",
   "execution_count": 19,
   "id": "4d7cc4f8",
   "metadata": {},
   "outputs": [],
   "source": [
    "et = ExtraTreesClassifier(n_jobs=-1, random_state=42)"
   ]
  },
  {
   "cell_type": "code",
   "execution_count": 20,
   "id": "7c0fce30",
   "metadata": {},
   "outputs": [
    {
     "data": {
      "text/plain": [
       "{'fit_time': array([0.15869212, 0.16670156, 0.14089012, 0.18645   , 0.19135976]),\n",
       " 'score_time': array([0.02730465, 0.02602482, 0.03419304, 0.0299046 , 0.03008032]),\n",
       " 'test_score': array([0.89128205, 0.89128205, 0.89938398, 0.88706366, 0.88295688]),\n",
       " 'train_score': array([0.99743392, 0.99692071, 0.99846075, 0.99820421, 0.99820421])}"
      ]
     },
     "execution_count": 20,
     "metadata": {},
     "output_type": "execute_result"
    }
   ],
   "source": [
    "scores = cross_validate(et, train_input, train_target, \\\n",
    "                        return_train_score = True, n_jobs = -1)\n",
    "scores"
   ]
  },
  {
   "cell_type": "code",
   "execution_count": 21,
   "id": "f301c8ca",
   "metadata": {},
   "outputs": [
    {
     "name": "stdout",
     "output_type": "stream",
     "text": [
      "0.997844759088341\n",
      "0.8903937240035804\n"
     ]
    }
   ],
   "source": [
    "print(scores['train_score'].mean())\n",
    "print(scores['test_score'].mean())"
   ]
  },
  {
   "cell_type": "code",
   "execution_count": 22,
   "id": "e9d2ebe2",
   "metadata": {},
   "outputs": [
    {
     "data": {
      "text/plain": [
       "array([0.20702369, 0.51313261, 0.2798437 ])"
      ]
     },
     "execution_count": 22,
     "metadata": {},
     "output_type": "execute_result"
    }
   ],
   "source": [
    "et.fit(train_input, train_target)\n",
    "et.feature_importances_"
   ]
  },
  {
   "cell_type": "markdown",
   "id": "c64084a2",
   "metadata": {},
   "source": [
    "## 그레디언트 부스팅(Gradient Boosting)"
   ]
  },
  {
   "cell_type": "code",
   "execution_count": 23,
   "id": "158fa2d9",
   "metadata": {},
   "outputs": [],
   "source": [
    "# 깊이(max_depth)가 얕은 결정트리를 사용함\n",
    "# - 기본적으로 max_depth = 3을 사용\n",
    "# = 결정트리는 100개 사용\n",
    "### **** 기존에 다른 훈련모델의 결과가 좋지 않을 때 사용하는 모델 ****\n",
    "# 기존 훈련모델의 오차를 많이 보완해 줍니다.\n",
    "# 성능 향상을 위한 모델로 주로 사용됩니다.\n",
    "# 과대적합에 강하며, 일반화(과대/과소적합이 없는 상태)에 강합니다.\n",
    "\n",
    "# 성능향상 테스트 방법\n",
    "# - 결정트리의 갯수를 조절하면서 테스트 진행\n",
    "# - 학습률을 지원하기 때문에 학습률의 값을 증가시키면서 테스트 진행\n",
    "#   : 기본 학습률은 0.1\n",
    "\n",
    "# 단점\n",
    "# - 순서대로 트리를 추가(랜덤하지 않음)하지 않기 때문에\n",
    "# - 훈련 속도는 느림\n",
    "# - 이런 느린 속도를 개선한 모델이\n",
    "#   '히스토그램 기반 그레디언트 부스팅' 모델임"
   ]
  },
  {
   "cell_type": "markdown",
   "id": "98629099",
   "metadata": {},
   "source": [
    "## 그레디언트 부스팅 모델 생성"
   ]
  },
  {
   "cell_type": "code",
   "execution_count": 24,
   "id": "66daf6d0",
   "metadata": {},
   "outputs": [],
   "source": [
    "### 사용하는 클래스(모델) :GradientBoostingClassifier\n",
    "# 객체 생성시 아무것도 안주고 seed값만 줍니다.\n",
    "# 교차검증시에는 train, test 결과값 출력 합니다."
   ]
  },
  {
   "cell_type": "code",
   "execution_count": 25,
   "id": "05c42b66",
   "metadata": {},
   "outputs": [],
   "source": [
    "from sklearn.ensemble import GradientBoostingClassifier"
   ]
  },
  {
   "cell_type": "code",
   "execution_count": 26,
   "id": "b07187e5",
   "metadata": {},
   "outputs": [],
   "source": [
    "gb = GradientBoostingClassifier(random_state = 42)"
   ]
  },
  {
   "cell_type": "code",
   "execution_count": 27,
   "id": "540233e0",
   "metadata": {},
   "outputs": [
    {
     "data": {
      "text/plain": [
       "{'fit_time': array([0.24703121, 0.26337528, 0.27246761, 0.29498243, 0.282727  ]),\n",
       " 'score_time': array([0.00702858, 0.00204277, 0.00303578, 0.007056  , 0.        ]),\n",
       " 'test_score': array([0.86461538, 0.87794872, 0.88090349, 0.8613963 , 0.87268994]),\n",
       " 'train_score': array([0.89299461, 0.88555299, 0.88660852, 0.89276552, 0.88943048])}"
      ]
     },
     "execution_count": 27,
     "metadata": {},
     "output_type": "execute_result"
    }
   ],
   "source": [
    "score = cross_validate(gb, train_input, train_target, \\\n",
    "               return_train_score = True, n_jobs=-1)\n",
    "score"
   ]
  },
  {
   "cell_type": "code",
   "execution_count": 28,
   "id": "812e966b",
   "metadata": {},
   "outputs": [
    {
     "name": "stdout",
     "output_type": "stream",
     "text": [
      "0.8894704231708938\n",
      "0.8715107671247301\n"
     ]
    }
   ],
   "source": [
    "print(score['train_score'].mean())\n",
    "print(score['test_score'].mean())"
   ]
  },
  {
   "cell_type": "code",
   "execution_count": 29,
   "id": "69b11435",
   "metadata": {},
   "outputs": [
    {
     "data": {
      "text/plain": [
       "array([0.12517641, 0.73300095, 0.14182264])"
      ]
     },
     "execution_count": 29,
     "metadata": {},
     "output_type": "execute_result"
    }
   ],
   "source": [
    "gb.fit(train_input, train_target)\n",
    "gb.feature_importances_"
   ]
  },
  {
   "cell_type": "markdown",
   "id": "10a53b3e",
   "metadata": {},
   "source": [
    "## 학습률 적용하기"
   ]
  },
  {
   "cell_type": "code",
   "execution_count": 30,
   "id": "31d59341",
   "metadata": {},
   "outputs": [
    {
     "data": {
      "text/plain": [
       "{'fit_time': array([0.24377608, 0.28320765, 0.27103209, 0.25127316, 0.25868988]),\n",
       " 'score_time': array([0.        , 0.00702095, 0.00099874, 0.        , 0.        ]),\n",
       " 'test_score': array([0.86461538, 0.87794872, 0.88090349, 0.8613963 , 0.87268994]),\n",
       " 'train_score': array([0.89299461, 0.88555299, 0.88660852, 0.89276552, 0.88943048])}"
      ]
     },
     "execution_count": 30,
     "metadata": {},
     "output_type": "execute_result"
    }
   ],
   "source": [
    "# : 학습률이 커지면 트리 보정을 강하게 하기 때문에,\n",
    "#   복잡한 모델을 만들어서 일반화 성능을 떨어뜨리게 된다.\n",
    "# 학습률 : learning_rate=0.1 기본값...\n",
    "\n",
    "gb = GradientBoostingClassifier(n_estimators = 100,\n",
    "                                learning_rate = 0.1,\n",
    "                                random_state = 42)\n",
    "\n",
    "score = cross_validate(gb, train_input, train_target, \\\n",
    "               return_train_score = True, n_jobs=-1)\n",
    "score"
   ]
  },
  {
   "cell_type": "code",
   "execution_count": 31,
   "id": "a866df57",
   "metadata": {},
   "outputs": [
    {
     "name": "stdout",
     "output_type": "stream",
     "text": [
      "0.8894704231708938\n",
      "0.8715107671247301\n"
     ]
    }
   ],
   "source": [
    "print(score['train_score'].mean())\n",
    "print(score['test_score'].mean())"
   ]
  },
  {
   "cell_type": "markdown",
   "id": "417429ac",
   "metadata": {},
   "source": [
    "## 히스토그램 기반 그레디언트 부스팅\n",
    "##### - Histogram_base Gradient Boosting"
   ]
  },
  {
   "cell_type": "code",
   "execution_count": 32,
   "id": "4c69a1af",
   "metadata": {},
   "outputs": [],
   "source": [
    "## 사용하는 클래스(모델) : HistGradientBoostingClassifier"
   ]
  },
  {
   "cell_type": "code",
   "execution_count": 64,
   "id": "e35d0415",
   "metadata": {},
   "outputs": [],
   "source": [
    "from sklearn.ensemble import HistGradientBoostingClassifier"
   ]
  },
  {
   "cell_type": "code",
   "execution_count": 65,
   "id": "5480f958",
   "metadata": {},
   "outputs": [],
   "source": [
    "hgb = HistGradientBoostingClassifier(random_state=42)"
   ]
  },
  {
   "cell_type": "code",
   "execution_count": 66,
   "id": "d9f67330",
   "metadata": {},
   "outputs": [
    {
     "data": {
      "text/plain": [
       "{'fit_time': array([0.12248969, 0.12335443, 0.14288497, 0.1366117 , 0.11931729]),\n",
       " 'score_time': array([0.0009985 , 0.00465178, 0.00802088, 0.00823569, 0.00201225]),\n",
       " 'test_score': array([1.        , 0.92592593, 0.92592593, 0.92307692, 1.        ]),\n",
       " 'train_score': array([1., 1., 1., 1., 1.])}"
      ]
     },
     "execution_count": 66,
     "metadata": {},
     "output_type": "execute_result"
    }
   ],
   "source": [
    "scores = cross_validate(hgb, train_input, train_target, \\\n",
    "                        return_train_score = True, n_jobs = -1)\n",
    "scores"
   ]
  },
  {
   "cell_type": "code",
   "execution_count": 67,
   "id": "d300c700",
   "metadata": {},
   "outputs": [
    {
     "name": "stdout",
     "output_type": "stream",
     "text": [
      "1.0\n",
      "0.9549857549857551\n"
     ]
    }
   ],
   "source": [
    "print(scores['train_score'].mean())\n",
    "print(scores['test_score'].mean())"
   ]
  },
  {
   "cell_type": "code",
   "execution_count": 68,
   "id": "a203810d",
   "metadata": {},
   "outputs": [
    {
     "data": {
      "text/plain": [
       "0.9777777777777777"
      ]
     },
     "execution_count": 68,
     "metadata": {},
     "output_type": "execute_result"
    }
   ],
   "source": [
    "hgb.fit(train_input, train_target)\n",
    "hgb.score(test_input, test_target)"
   ]
  },
  {
   "cell_type": "markdown",
   "id": "2e65885e",
   "metadata": {},
   "source": [
    "## 사이킷런 이외 다른 패키지에서 지원하는\n",
    "## 히스토그램 기반 그레디언트 부스팅 기능 모델들"
   ]
  },
  {
   "cell_type": "markdown",
   "id": "5fc7f287",
   "metadata": {},
   "source": [
    "## XGBoost"
   ]
  },
  {
   "cell_type": "code",
   "execution_count": 38,
   "id": "84c8115a",
   "metadata": {},
   "outputs": [],
   "source": [
    "from xgboost import XGBClassifier"
   ]
  },
  {
   "cell_type": "code",
   "execution_count": 39,
   "id": "3e494531",
   "metadata": {},
   "outputs": [
    {
     "data": {
      "text/plain": [
       "{'fit_time': array([0.11939478, 0.12039256, 0.09842801, 0.08450651, 0.08800364]),\n",
       " 'score_time': array([0.00099778, 0.00806308, 0.        , 0.0175488 , 0.01568651]),\n",
       " 'test_score': array([0.87487179, 0.89333333, 0.8973306 , 0.87268994, 0.8788501 ]),\n",
       " 'train_score': array([0.96176546, 0.96279189, 0.95997948, 0.95690097, 0.9656234 ])}"
      ]
     },
     "execution_count": 39,
     "metadata": {},
     "output_type": "execute_result"
    }
   ],
   "source": [
    "xgb = XGBClassifier(tree_method='hist', random_state=42)\n",
    "scores = cross_validate(xgb, train_input, train_target, \\\n",
    "                        return_train_score = True, n_jobs = -1)\n",
    "scores"
   ]
  },
  {
   "cell_type": "code",
   "execution_count": 40,
   "id": "361efd5e",
   "metadata": {},
   "outputs": [
    {
     "name": "stdout",
     "output_type": "stream",
     "text": [
      "0.9614122399872658\n",
      "0.8834151529510873\n"
     ]
    }
   ],
   "source": [
    "print(scores['train_score'].mean())\n",
    "print(scores['test_score'].mean())"
   ]
  },
  {
   "cell_type": "markdown",
   "id": "6261b340",
   "metadata": {},
   "source": [
    "## LightGBM"
   ]
  },
  {
   "cell_type": "code",
   "execution_count": 41,
   "id": "f515d2bb",
   "metadata": {},
   "outputs": [],
   "source": [
    "# - 마이크로소프트에서 만든 히스토그램 기반 그레디언트 부스트 패키지\n",
    "# - 훈련 속도가 매우 빠름\n",
    "# - 최신 기술을 많이 적용하고 있어서, 인기가 올라가고 있음\n",
    "# - "
   ]
  },
  {
   "cell_type": "code",
   "execution_count": 42,
   "id": "f07e5013",
   "metadata": {},
   "outputs": [],
   "source": [
    "# conda install -c conda-forge lightgbm\n",
    "# pip install lightgbm"
   ]
  },
  {
   "cell_type": "code",
   "execution_count": 43,
   "id": "0aec847e",
   "metadata": {},
   "outputs": [],
   "source": [
    "from lightgbm import LGBMClassifier"
   ]
  },
  {
   "cell_type": "code",
   "execution_count": 44,
   "id": "fe23678c",
   "metadata": {},
   "outputs": [],
   "source": [
    "lg = LGBMClassifier(random_state=42)"
   ]
  },
  {
   "cell_type": "code",
   "execution_count": 46,
   "id": "eb50c46e",
   "metadata": {},
   "outputs": [
    {
     "data": {
      "text/plain": [
       "{'fit_time': array([0.03670454, 0.05293918, 0.05568457, 0.06076908, 0.04601431]),\n",
       " 'score_time': array([0.01566529, 0.00568104, 0.        , 0.00613189, 0.01716137]),\n",
       " 'test_score': array([0.87487179, 0.89846154, 0.90862423, 0.85934292, 0.88193018]),\n",
       " 'train_score': array([0.93892738, 0.94277649, 0.94125192, 0.93996921, 0.94381734])}"
      ]
     },
     "execution_count": 46,
     "metadata": {},
     "output_type": "execute_result"
    }
   ],
   "source": [
    "scores = cross_validate(lg, train_input, train_target, \\\n",
    "                       return_train_score = True, n_jobs=-1)\n",
    "scores"
   ]
  },
  {
   "cell_type": "code",
   "execution_count": 47,
   "id": "8c1484d2",
   "metadata": {},
   "outputs": [
    {
     "name": "stdout",
     "output_type": "stream",
     "text": [
      "0.9413484712095832\n",
      "0.8846461327857632\n"
     ]
    }
   ],
   "source": [
    "print(scores['train_score'].mean())\n",
    "print(scores['test_score'].mean())"
   ]
  },
  {
   "cell_type": "markdown",
   "id": "ffc2b04b",
   "metadata": {},
   "source": [
    "## 와인데이터로 오늘 배운 내용들 실습"
   ]
  },
  {
   "cell_type": "code",
   "execution_count": 60,
   "id": "94f7f24b",
   "metadata": {},
   "outputs": [],
   "source": [
    "import pandas as pd\n",
    "import numpy as np"
   ]
  },
  {
   "cell_type": "code",
   "execution_count": 45,
   "id": "2e2820ae",
   "metadata": {
    "scrolled": true
   },
   "outputs": [
    {
     "data": {
      "text/plain": [
       "{'data': array([[1.423e+01, 1.710e+00, 2.430e+00, ..., 1.040e+00, 3.920e+00,\n",
       "         1.065e+03],\n",
       "        [1.320e+01, 1.780e+00, 2.140e+00, ..., 1.050e+00, 3.400e+00,\n",
       "         1.050e+03],\n",
       "        [1.316e+01, 2.360e+00, 2.670e+00, ..., 1.030e+00, 3.170e+00,\n",
       "         1.185e+03],\n",
       "        ...,\n",
       "        [1.327e+01, 4.280e+00, 2.260e+00, ..., 5.900e-01, 1.560e+00,\n",
       "         8.350e+02],\n",
       "        [1.317e+01, 2.590e+00, 2.370e+00, ..., 6.000e-01, 1.620e+00,\n",
       "         8.400e+02],\n",
       "        [1.413e+01, 4.100e+00, 2.740e+00, ..., 6.100e-01, 1.600e+00,\n",
       "         5.600e+02]]),\n",
       " 'target': array([0, 0, 0, 0, 0, 0, 0, 0, 0, 0, 0, 0, 0, 0, 0, 0, 0, 0, 0, 0, 0, 0,\n",
       "        0, 0, 0, 0, 0, 0, 0, 0, 0, 0, 0, 0, 0, 0, 0, 0, 0, 0, 0, 0, 0, 0,\n",
       "        0, 0, 0, 0, 0, 0, 0, 0, 0, 0, 0, 0, 0, 0, 0, 1, 1, 1, 1, 1, 1, 1,\n",
       "        1, 1, 1, 1, 1, 1, 1, 1, 1, 1, 1, 1, 1, 1, 1, 1, 1, 1, 1, 1, 1, 1,\n",
       "        1, 1, 1, 1, 1, 1, 1, 1, 1, 1, 1, 1, 1, 1, 1, 1, 1, 1, 1, 1, 1, 1,\n",
       "        1, 1, 1, 1, 1, 1, 1, 1, 1, 1, 1, 1, 1, 1, 1, 1, 1, 1, 1, 1, 2, 2,\n",
       "        2, 2, 2, 2, 2, 2, 2, 2, 2, 2, 2, 2, 2, 2, 2, 2, 2, 2, 2, 2, 2, 2,\n",
       "        2, 2, 2, 2, 2, 2, 2, 2, 2, 2, 2, 2, 2, 2, 2, 2, 2, 2, 2, 2, 2, 2,\n",
       "        2, 2]),\n",
       " 'frame': None,\n",
       " 'target_names': array(['class_0', 'class_1', 'class_2'], dtype='<U7'),\n",
       " 'DESCR': '.. _wine_dataset:\\n\\nWine recognition dataset\\n------------------------\\n\\n**Data Set Characteristics:**\\n\\n    :Number of Instances: 178 (50 in each of three classes)\\n    :Number of Attributes: 13 numeric, predictive attributes and the class\\n    :Attribute Information:\\n \\t\\t- Alcohol\\n \\t\\t- Malic acid\\n \\t\\t- Ash\\n\\t\\t- Alcalinity of ash  \\n \\t\\t- Magnesium\\n\\t\\t- Total phenols\\n \\t\\t- Flavanoids\\n \\t\\t- Nonflavanoid phenols\\n \\t\\t- Proanthocyanins\\n\\t\\t- Color intensity\\n \\t\\t- Hue\\n \\t\\t- OD280/OD315 of diluted wines\\n \\t\\t- Proline\\n\\n    - class:\\n            - class_0\\n            - class_1\\n            - class_2\\n\\t\\t\\n    :Summary Statistics:\\n    \\n    ============================= ==== ===== ======= =====\\n                                   Min   Max   Mean     SD\\n    ============================= ==== ===== ======= =====\\n    Alcohol:                      11.0  14.8    13.0   0.8\\n    Malic Acid:                   0.74  5.80    2.34  1.12\\n    Ash:                          1.36  3.23    2.36  0.27\\n    Alcalinity of Ash:            10.6  30.0    19.5   3.3\\n    Magnesium:                    70.0 162.0    99.7  14.3\\n    Total Phenols:                0.98  3.88    2.29  0.63\\n    Flavanoids:                   0.34  5.08    2.03  1.00\\n    Nonflavanoid Phenols:         0.13  0.66    0.36  0.12\\n    Proanthocyanins:              0.41  3.58    1.59  0.57\\n    Colour Intensity:              1.3  13.0     5.1   2.3\\n    Hue:                          0.48  1.71    0.96  0.23\\n    OD280/OD315 of diluted wines: 1.27  4.00    2.61  0.71\\n    Proline:                       278  1680     746   315\\n    ============================= ==== ===== ======= =====\\n\\n    :Missing Attribute Values: None\\n    :Class Distribution: class_0 (59), class_1 (71), class_2 (48)\\n    :Creator: R.A. Fisher\\n    :Donor: Michael Marshall (MARSHALL%PLU@io.arc.nasa.gov)\\n    :Date: July, 1988\\n\\nThis is a copy of UCI ML Wine recognition datasets.\\nhttps://archive.ics.uci.edu/ml/machine-learning-databases/wine/wine.data\\n\\nThe data is the results of a chemical analysis of wines grown in the same\\nregion in Italy by three different cultivators. There are thirteen different\\nmeasurements taken for different constituents found in the three types of\\nwine.\\n\\nOriginal Owners: \\n\\nForina, M. et al, PARVUS - \\nAn Extendible Package for Data Exploration, Classification and Correlation. \\nInstitute of Pharmaceutical and Food Analysis and Technologies,\\nVia Brigata Salerno, 16147 Genoa, Italy.\\n\\nCitation:\\n\\nLichman, M. (2013). UCI Machine Learning Repository\\n[https://archive.ics.uci.edu/ml]. Irvine, CA: University of California,\\nSchool of Information and Computer Science. \\n\\n.. topic:: References\\n\\n  (1) S. Aeberhard, D. Coomans and O. de Vel, \\n  Comparison of Classifiers in High Dimensional Settings, \\n  Tech. Rep. no. 92-02, (1992), Dept. of Computer Science and Dept. of  \\n  Mathematics and Statistics, James Cook University of North Queensland. \\n  (Also submitted to Technometrics). \\n\\n  The data was used with many others for comparing various \\n  classifiers. The classes are separable, though only RDA \\n  has achieved 100% correct classification. \\n  (RDA : 100%, QDA 99.4%, LDA 98.9%, 1NN 96.1% (z-transformed data)) \\n  (All results using the leave-one-out technique) \\n\\n  (2) S. Aeberhard, D. Coomans and O. de Vel, \\n  \"THE CLASSIFICATION PERFORMANCE OF RDA\" \\n  Tech. Rep. no. 92-01, (1992), Dept. of Computer Science and Dept. of \\n  Mathematics and Statistics, James Cook University of North Queensland. \\n  (Also submitted to Journal of Chemometrics).\\n',\n",
       " 'feature_names': ['alcohol',\n",
       "  'malic_acid',\n",
       "  'ash',\n",
       "  'alcalinity_of_ash',\n",
       "  'magnesium',\n",
       "  'total_phenols',\n",
       "  'flavanoids',\n",
       "  'nonflavanoid_phenols',\n",
       "  'proanthocyanins',\n",
       "  'color_intensity',\n",
       "  'hue',\n",
       "  'od280/od315_of_diluted_wines',\n",
       "  'proline']}"
      ]
     },
     "execution_count": 45,
     "metadata": {},
     "output_type": "execute_result"
    }
   ],
   "source": [
    "from sklearn.datasets import load_wine\n",
    "\n",
    "wine_all = load_wine()\n",
    "wine_all"
   ]
  },
  {
   "cell_type": "code",
   "execution_count": 52,
   "id": "efb52594",
   "metadata": {},
   "outputs": [],
   "source": [
    "wine_input = wine_all['data']\n",
    "wine_target = wine_all['target']"
   ]
  },
  {
   "cell_type": "code",
   "execution_count": 61,
   "id": "b68c4f4e",
   "metadata": {},
   "outputs": [],
   "source": [
    "from sklearn.model_selection import train_test_split"
   ]
  },
  {
   "cell_type": "code",
   "execution_count": 59,
   "id": "136e5352",
   "metadata": {},
   "outputs": [],
   "source": [
    "train_input, test_input, train_target, test_target = \\\n",
    "train_test_split(wine_input, wine_target, random_state = 42)"
   ]
  },
  {
   "cell_type": "code",
   "execution_count": 73,
   "id": "d3a41df4",
   "metadata": {},
   "outputs": [
    {
     "name": "stdout",
     "output_type": "stream",
     "text": [
      "(133, 13) (133,)\n",
      "(45, 13) (45,)\n"
     ]
    }
   ],
   "source": [
    "print(train_input.shape, train_target.shape)\n",
    "print(test_input.shape, test_target.shape)"
   ]
  },
  {
   "cell_type": "markdown",
   "id": "795c965e",
   "metadata": {},
   "source": [
    "## 결정트리 모델을 이용해서 교차검증"
   ]
  },
  {
   "cell_type": "code",
   "execution_count": 69,
   "id": "1a2ae6e0",
   "metadata": {},
   "outputs": [],
   "source": [
    "from sklearn.tree import DecisionTreeClassifier\n",
    "from sklearn.model_selection import cross_validate"
   ]
  },
  {
   "cell_type": "code",
   "execution_count": 75,
   "id": "e060b73d",
   "metadata": {},
   "outputs": [],
   "source": [
    "dt = DecisionTreeClassifier(random_state = 42)"
   ]
  },
  {
   "cell_type": "code",
   "execution_count": 76,
   "id": "0e742ef1",
   "metadata": {},
   "outputs": [
    {
     "data": {
      "text/plain": [
       "{'fit_time': array([0.00099373, 0.00199652, 0.00099874, 0.00199342, 0.00099707]),\n",
       " 'score_time': array([0.00099778, 0.        , 0.00099635, 0.        , 0.        ]),\n",
       " 'test_score': array([0.96296296, 0.92592593, 0.92592593, 0.96153846, 0.92307692]),\n",
       " 'train_score': array([1., 1., 1., 1., 1.])}"
      ]
     },
     "execution_count": 76,
     "metadata": {},
     "output_type": "execute_result"
    }
   ],
   "source": [
    "scores = cross_validate(dt, train_input, train_target, \\\n",
    "                       return_train_score = True, n_jobs=-1)\n",
    "scores"
   ]
  },
  {
   "cell_type": "code",
   "execution_count": 77,
   "id": "54442345",
   "metadata": {},
   "outputs": [
    {
     "name": "stdout",
     "output_type": "stream",
     "text": [
      "1.0\n",
      "0.93988603988604\n"
     ]
    }
   ],
   "source": [
    "print(scores['train_score'].mean())\n",
    "print(scores['test_score'].mean())"
   ]
  }
 ],
 "metadata": {
  "kernelspec": {
   "display_name": "ml_kernel",
   "language": "python",
   "name": "ml"
  },
  "language_info": {
   "codemirror_mode": {
    "name": "ipython",
    "version": 3
   },
   "file_extension": ".py",
   "mimetype": "text/x-python",
   "name": "python",
   "nbconvert_exporter": "python",
   "pygments_lexer": "ipython3",
   "version": "3.9.12"
  }
 },
 "nbformat": 4,
 "nbformat_minor": 5
}
