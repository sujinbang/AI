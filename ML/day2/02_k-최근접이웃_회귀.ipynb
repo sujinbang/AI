{
 "cells": [
  {
   "cell_type": "markdown",
   "id": "3dc4a749",
   "metadata": {},
   "source": [
    "## k-최근접 이웃 회귀모델\n",
    "##### - 분류 : 범주형 데이터를 기준으로 분류하는 방식\n",
    "##### - 회귀 : 연속형 데이터(숫자)를 예측하는 방식\n",
    "##### - 회귀는 정해진 범주가 없으며, 임의의 수치값을 출력합니다.\n",
    "##### \n",
    "## k-최근접 이웃 알고리즘은 회귀에도 작동을 합니다.\n",
    "##### - 작동방식..\n",
    "##### - 분류와 유사, 예측하려는 데이터에 가장 가까운 이웃 갯수 선택\n",
    "##### - 종속변수 target데이터가 연속형 데이터를 사용하여 임의 수치값 예측\n",
    "##### \n",
    "## 예측값 결정 방식\n",
    "##### - 최근접 이웃의 갯수가 정해지면, 이웃한 숫자값들의 '평균'을 계산하여\n",
    "##### - 평균과 같거나 평균에 가장 근사한 값의 이웃 데이터가 예측값으로 결정됨\n",
    "#####    (일반 책에서 나오는 개념으로, 실제는 이웃데이터의 평균값이 나온다고 보시면 됩니다.)\n",
    "#####    그래서 임의 결과값이라고 합니다."
   ]
  },
  {
   "cell_type": "code",
   "execution_count": 68,
   "id": "795f2713",
   "metadata": {},
   "outputs": [],
   "source": [
    "import numpy as np \n",
    "perch_length = np.array(\n",
    "    [8.4, 13.7, 15.0, 16.2, 17.4, 18.0, 18.7, 19.0, 19.6, 20.0, \n",
    "     21.0, 21.0, 21.0, 21.3, 22.0, 22.0, 22.0, 22.0, 22.0, 22.5, \n",
    "     22.5, 22.7, 23.0, 23.5, 24.0, 24.0, 24.6, 25.0, 25.6, 26.5, \n",
    "     27.3, 27.5, 27.5, 27.5, 28.0, 28.7, 30.0, 32.8, 34.5, 35.0, \n",
    "     36.5, 36.0, 37.0, 37.0, 39.0, 39.0, 39.0, 40.0, 40.0, 40.0, \n",
    "     40.0, 42.0, 43.0, 43.0, 43.5, 44.0]\n",
    "     )\n",
    "perch_weight = np.array(\n",
    "    [5.9, 32.0, 40.0, 51.5, 70.0, 100.0, 78.0, 80.0, 85.0, 85.0, \n",
    "     110.0, 115.0, 125.0, 130.0, 120.0, 120.0, 130.0, 135.0, 110.0, \n",
    "     130.0, 150.0, 145.0, 150.0, 170.0, 225.0, 145.0, 188.0, 180.0, \n",
    "     197.0, 218.0, 300.0, 260.0, 265.0, 250.0, 250.0, 300.0, 320.0, \n",
    "     514.0, 556.0, 840.0, 685.0, 700.0, 700.0, 690.0, 900.0, 650.0, \n",
    "     820.0, 850.0, 900.0, 1015.0, 820.0, 1100.0, 1000.0, 1100.0, \n",
    "     1000.0, 1000.0]\n",
    "     )"
   ]
  },
  {
   "cell_type": "code",
   "execution_count": 69,
   "id": "e4e9a8ec",
   "metadata": {},
   "outputs": [
    {
     "name": "stdout",
     "output_type": "stream",
     "text": [
      "56 56\n",
      "[ 8.4 13.7 15.  16.2 17.4 18.  18.7 19.  19.6 20.  21.  21.  21.  21.3\n",
      " 22.  22.  22.  22.  22.  22.5 22.5 22.7 23.  23.5 24.  24.  24.6 25.\n",
      " 25.6 26.5 27.3 27.5 27.5 27.5 28.  28.7 30.  32.8 34.5 35.  36.5 36.\n",
      " 37.  37.  39.  39.  39.  40.  40.  40.  40.  42.  43.  43.  43.5 44. ]\n",
      "--------------------\n",
      "[   5.9   32.    40.    51.5   70.   100.    78.    80.    85.    85.\n",
      "  110.   115.   125.   130.   120.   120.   130.   135.   110.   130.\n",
      "  150.   145.   150.   170.   225.   145.   188.   180.   197.   218.\n",
      "  300.   260.   265.   250.   250.   300.   320.   514.   556.   840.\n",
      "  685.   700.   700.   690.   900.   650.   820.   850.   900.  1015.\n",
      "  820.  1100.  1000.  1100.  1000.  1000. ]\n"
     ]
    }
   ],
   "source": [
    "print(len(perch_length), len(perch_weight))\n",
    "\n",
    "print(perch_length)\n",
    "print('--------------------')\n",
    "print(perch_weight)\n",
    "\n",
    "# length(길이) : 특성 데이터(훈련데이터, train_data)\n",
    "# weight(무게) : 정답 데이터(train_target)"
   ]
  },
  {
   "cell_type": "code",
   "execution_count": 70,
   "id": "6ca9c8a8",
   "metadata": {},
   "outputs": [],
   "source": [
    "### 시각화를 통해 데이터의 형태 확인 하기..\n",
    "# - 산점도 시각화"
   ]
  },
  {
   "cell_type": "code",
   "execution_count": 71,
   "id": "93738c2c",
   "metadata": {},
   "outputs": [],
   "source": [
    "import matplotlib.pyplot as plt"
   ]
  },
  {
   "cell_type": "code",
   "execution_count": 72,
   "id": "d43cc7e1",
   "metadata": {},
   "outputs": [
    {
     "data": {
      "image/png": "[encoded data removed]",
      "text/plain": [
       "<Figure size 432x288 with 1 Axes>"
      ]
     },
     "metadata": {
      "needs_background": "light"
     },
     "output_type": "display_data"
    }
   ],
   "source": [
    "plt.rc('font', family = \"Malgun Gothic\")\n",
    "plt.scatter(x=perch_length, y=perch_weight)\n",
    "\n",
    "plt.xlabel('length')\n",
    "plt.ylabel('weight')\n",
    "\n",
    "plt.title('농어의 길이와 무게의 관계 산점도')\n",
    "\n",
    "plt.show()\n",
    "\n",
    "# (해석)\n",
    "# 농어의 길이가 길어질수록 무게가 무거워지는 현상을 보임\n",
    "# 길이와 무게는 연관성이 있으며,\n",
    "# 분포 형태는 선형에 가까우나, 조금 라운드가 있음\n",
    "# 그러나, 선형적 모델을 이용하여 분석을 실시 한후\n",
    "# 향후, 다항회귀모델을 통해 선형적 모델과 다항회귀모델의 검증결과를 통해\n",
    "# 선택하고자 함."
   ]
  },
  {
   "cell_type": "markdown",
   "id": "78d823f2",
   "metadata": {},
   "source": [
    "## 훈련데이터와 테스트데이터 분류하기"
   ]
  },
  {
   "cell_type": "code",
   "execution_count": 73,
   "id": "b834cc85",
   "metadata": {},
   "outputs": [],
   "source": [
    "from sklearn.model_selection import train_test_split"
   ]
  },
  {
   "cell_type": "code",
   "execution_count": 74,
   "id": "5180aaf5",
   "metadata": {},
   "outputs": [],
   "source": [
    "train_x, test_x, train_y, test_y = train_test_split(perch_length, perch_weight, random_state=42)"
   ]
  },
  {
   "cell_type": "code",
   "execution_count": 75,
   "id": "ea2d0776",
   "metadata": {},
   "outputs": [
    {
     "name": "stdout",
     "output_type": "stream",
     "text": [
      "[19.6 22.  18.7 17.4 36.  25.  40.  39.  43.  22.  20.  22.  24.  27.5\n",
      " 43.  40.  24.  21.  27.5 40.  32.8 26.5 36.5 13.7 22.7 15.  37.  35.\n",
      " 28.7 23.5 39.  21.  23.  22.  44.  22.5 19.  37.  22.  25.6 42.  34.5]\n",
      "-----------------\n",
      "[  85.  135.   78.   70.  700.  180.  850.  820. 1000.  120.   85.  130.\n",
      "  225.  260. 1100.  900.  145.  115.  265. 1015.  514.  218.  685.   32.\n",
      "  145.   40.  690.  840.  300.  170.  650.  110.  150.  110. 1000.  150.\n",
      "   80.  700.  120.  197. 1100.  556.]\n",
      "-----------------\n",
      "[ 8.4 18.  27.5 21.3 22.5 40.  30.  24.6 39.  21.  43.5 16.2 28.  27.3]\n",
      "-----------------\n",
      "[   5.9  100.   250.   130.   130.   820.   320.   188.   900.   125.\n",
      " 1000.    51.5  250.   300. ]\n"
     ]
    }
   ],
   "source": [
    "print(train_x)\n",
    "print('-----------------')\n",
    "print(train_y)\n",
    "print('-----------------')\n",
    "print(test_x)\n",
    "print('-----------------')\n",
    "print(test_y)"
   ]
  },
  {
   "cell_type": "markdown",
   "id": "4608cf71",
   "metadata": {},
   "source": [
    "## 2차원 데이터로 변환하기"
   ]
  },
  {
   "cell_type": "code",
   "execution_count": 76,
   "id": "461b778b",
   "metadata": {
    "scrolled": true
   },
   "outputs": [],
   "source": [
    "train_x_temp = [[e] for e in train_x]\n",
    "test_x_temp = [[e] for e in test_x]"
   ]
  },
  {
   "cell_type": "code",
   "execution_count": 77,
   "id": "0dd845de",
   "metadata": {},
   "outputs": [],
   "source": [
    "train_x_temp = np.column_stack([train_x])\n",
    "test_x_temp = np.column_stack([test_x])"
   ]
  },
  {
   "cell_type": "code",
   "execution_count": 78,
   "id": "b246d1cf",
   "metadata": {},
   "outputs": [
    {
     "name": "stdout",
     "output_type": "stream",
     "text": [
      "[1 2 3 4]\n",
      "(4,)\n"
     ]
    }
   ],
   "source": [
    "## 차원 확인하기 : numpy 배열 속성에 있습니다.\n",
    "# 샘플\n",
    "test_array = np.array([1,2,3,4])\n",
    "print(test_array)\n",
    "print(test_array.shape)"
   ]
  },
  {
   "cell_type": "code",
   "execution_count": 79,
   "id": "c0330c45",
   "metadata": {},
   "outputs": [
    {
     "name": "stdout",
     "output_type": "stream",
     "text": [
      "[[1 2]\n",
      " [3 4]]\n",
      "[[1]\n",
      " [2]\n",
      " [3]\n",
      " [4]]\n"
     ]
    }
   ],
   "source": [
    "# 샘플 2행 2열로 만들기\n",
    "print(test_array.reshape(2,2))\n",
    "print(test_array.reshape(4,1))"
   ]
  },
  {
   "cell_type": "code",
   "execution_count": 80,
   "id": "55dbee5c",
   "metadata": {},
   "outputs": [],
   "source": [
    "# 1차원 데이터를 특정 행렬의 2차원으로 재생성할 때 사용하는 함수\n",
    "# 보통 1차원을 2차원으로 만들때는 각 행의 값이 차원이 됩니다.\n",
    "# 즉, 각 행의 값이 배열(리스트) 1개라고 보시면 됩니다.\n",
    "# 1차원을 2차원으로 만들때는 첫번째 행은 전체 갯수, 두번째는 1\n",
    "# 전체 갯수를 모를 때는 -1값을 사용하면 전체 행의 갯수를 체크합니다.\n",
    "train_x = train_x.reshape(-1,1)\n",
    "test_x = test_x.reshape(-1,1)"
   ]
  },
  {
   "cell_type": "code",
   "execution_count": 81,
   "id": "877517c5",
   "metadata": {
    "scrolled": true
   },
   "outputs": [
    {
     "name": "stdout",
     "output_type": "stream",
     "text": [
      "[[19.6]\n",
      " [22. ]\n",
      " [18.7]\n",
      " [17.4]\n",
      " [36. ]\n",
      " [25. ]\n",
      " [40. ]\n",
      " [39. ]\n",
      " [43. ]\n",
      " [22. ]\n",
      " [20. ]\n",
      " [22. ]\n",
      " [24. ]\n",
      " [27.5]\n",
      " [43. ]\n",
      " [40. ]\n",
      " [24. ]\n",
      " [21. ]\n",
      " [27.5]\n",
      " [40. ]\n",
      " [32.8]\n",
      " [26.5]\n",
      " [36.5]\n",
      " [13.7]\n",
      " [22.7]\n",
      " [15. ]\n",
      " [37. ]\n",
      " [35. ]\n",
      " [28.7]\n",
      " [23.5]\n",
      " [39. ]\n",
      " [21. ]\n",
      " [23. ]\n",
      " [22. ]\n",
      " [44. ]\n",
      " [22.5]\n",
      " [19. ]\n",
      " [37. ]\n",
      " [22. ]\n",
      " [25.6]\n",
      " [42. ]\n",
      " [34.5]]\n",
      "---------------------\n",
      "[[ 8.4]\n",
      " [18. ]\n",
      " [27.5]\n",
      " [21.3]\n",
      " [22.5]\n",
      " [40. ]\n",
      " [30. ]\n",
      " [24.6]\n",
      " [39. ]\n",
      " [21. ]\n",
      " [43.5]\n",
      " [16.2]\n",
      " [28. ]\n",
      " [27.3]]\n"
     ]
    }
   ],
   "source": [
    "print(train_x)\n",
    "print('---------------------')\n",
    "print(test_x)"
   ]
  },
  {
   "cell_type": "markdown",
   "id": "219db588",
   "metadata": {},
   "source": [
    "## k-최근접이웃 회귀 클래스(모델)생성"
   ]
  },
  {
   "cell_type": "code",
   "execution_count": 82,
   "id": "71fd8eff",
   "metadata": {},
   "outputs": [
    {
     "data": {
      "text/html": [
       "<style>#sk-container-id-5 {color: black;background-color: white;}#sk-container-id-5 pre{padding: 0;}#sk-container-id-5 div.sk-toggleable {background-color: white;}#sk-container-id-5 label.sk-toggleable__label {cursor: pointer;display: block;width: 100%;margin-bottom: 0;padding: 0.3em;box-sizing: border-box;text-align: center;}#sk-container-id-5 label.sk-toggleable__label-arrow:before {content: \"▸\";float: left;margin-right: 0.25em;color: #696969;}#sk-container-id-5 label.sk-toggleable__label-arrow:hover:before {color: black;}#sk-container-id-5 div.sk-estimator:hover label.sk-toggleable__label-arrow:before {color: black;}#sk-container-id-5 div.sk-toggleable__content {max-height: 0;max-width: 0;overflow: hidden;text-align: left;background-color: #f0f8ff;}#sk-container-id-5 div.sk-toggleable__content pre {margin: 0.2em;color: black;border-radius: 0.25em;background-color: #f0f8ff;}#sk-container-id-5 input.sk-toggleable__control:checked~div.sk-toggleable__content {max-height: 200px;max-width: 100%;overflow: auto;}#sk-container-id-5 input.sk-toggleable__control:checked~label.sk-toggleable__label-arrow:before {content: \"▾\";}#sk-container-id-5 div.sk-estimator input.sk-toggleable__control:checked~label.sk-toggleable__label {background-color: #d4ebff;}#sk-container-id-5 div.sk-label input.sk-toggleable__control:checked~label.sk-toggleable__label {background-color: #d4ebff;}#sk-container-id-5 input.sk-hidden--visually {border: 0;clip: rect(1px 1px 1px 1px);clip: rect(1px, 1px, 1px, 1px);height: 1px;margin: -1px;overflow: hidden;padding: 0;position: absolute;width: 1px;}#sk-container-id-5 div.sk-estimator {font-family: monospace;background-color: #f0f8ff;border: 1px dotted black;border-radius: 0.25em;box-sizing: border-box;margin-bottom: 0.5em;}#sk-container-id-5 div.sk-estimator:hover {background-color: #d4ebff;}#sk-container-id-5 div.sk-parallel-item::after {content: \"\";width: 100%;border-bottom: 1px solid gray;flex-grow: 1;}#sk-container-id-5 div.sk-label:hover label.sk-toggleable__label {background-color: #d4ebff;}#sk-container-id-5 div.sk-serial::before {content: \"\";position: absolute;border-left: 1px solid gray;box-sizing: border-box;top: 0;bottom: 0;left: 50%;z-index: 0;}#sk-container-id-5 div.sk-serial {display: flex;flex-direction: column;align-items: center;background-color: white;padding-right: 0.2em;padding-left: 0.2em;position: relative;}#sk-container-id-5 div.sk-item {position: relative;z-index: 1;}#sk-container-id-5 div.sk-parallel {display: flex;align-items: stretch;justify-content: center;background-color: white;position: relative;}#sk-container-id-5 div.sk-item::before, #sk-container-id-5 div.sk-parallel-item::before {content: \"\";position: absolute;border-left: 1px solid gray;box-sizing: border-box;top: 0;bottom: 0;left: 50%;z-index: -1;}#sk-container-id-5 div.sk-parallel-item {display: flex;flex-direction: column;z-index: 1;position: relative;background-color: white;}#sk-container-id-5 div.sk-parallel-item:first-child::after {align-self: flex-end;width: 50%;}#sk-container-id-5 div.sk-parallel-item:last-child::after {align-self: flex-start;width: 50%;}#sk-container-id-5 div.sk-parallel-item:only-child::after {width: 0;}#sk-container-id-5 div.sk-dashed-wrapped {border: 1px dashed gray;margin: 0 0.4em 0.5em 0.4em;box-sizing: border-box;padding-bottom: 0.4em;background-color: white;}#sk-container-id-5 div.sk-label label {font-family: monospace;font-weight: bold;display: inline-block;line-height: 1.2em;}#sk-container-id-5 div.sk-label-container {text-align: center;}#sk-container-id-5 div.sk-container {/* jupyter's `normalize.less` sets `[hidden] { display: none; }` but bootstrap.min.css set `[hidden] { display: none !important; }` so we also need the `!important` here to be able to override the default hidden behavior on the sphinx rendered scikit-learn.org. See: https://github.com/scikit-learn/scikit-learn/issues/21755 */display: inline-block !important;position: relative;}#sk-container-id-5 div.sk-text-repr-fallback {display: none;}</style><div id=\"sk-container-id-5\" class=\"sk-top-container\"><div class=\"sk-text-repr-fallback\"><pre>KNeighborsRegressor()</pre><b>In a Jupyter environment, please rerun this cell to show the HTML representation or trust the notebook. <br />On GitHub, the HTML representation is unable to render, please try loading this page with nbviewer.org.</b></div><div class=\"sk-container\" hidden><div class=\"sk-item\"><div class=\"sk-estimator sk-toggleable\"><input class=\"sk-toggleable__control sk-hidden--visually\" id=\"sk-estimator-id-5\" type=\"checkbox\" checked><label for=\"sk-estimator-id-5\" class=\"sk-toggleable__label sk-toggleable__label-arrow\">KNeighborsRegressor</label><div class=\"sk-toggleable__content\"><pre>KNeighborsRegressor()</pre></div></div></div></div></div>"
      ],
      "text/plain": [
       "KNeighborsRegressor()"
      ]
     },
     "execution_count": 82,
     "metadata": {},
     "output_type": "execute_result"
    }
   ],
   "source": [
    "### 클래스(모델) 이름 : KNeighborsRegressor()\n",
    "from sklearn.neighbors import KNeighborsRegressor\n",
    "knr = KNeighborsRegressor()\n",
    "knr"
   ]
  },
  {
   "cell_type": "code",
   "execution_count": 83,
   "id": "ba99a4c9",
   "metadata": {},
   "outputs": [
    {
     "data": {
      "text/html": [
       "<style>#sk-container-id-6 {color: black;background-color: white;}#sk-container-id-6 pre{padding: 0;}#sk-container-id-6 div.sk-toggleable {background-color: white;}#sk-container-id-6 label.sk-toggleable__label {cursor: pointer;display: block;width: 100%;margin-bottom: 0;padding: 0.3em;box-sizing: border-box;text-align: center;}#sk-container-id-6 label.sk-toggleable__label-arrow:before {content: \"▸\";float: left;margin-right: 0.25em;color: #696969;}#sk-container-id-6 label.sk-toggleable__label-arrow:hover:before {color: black;}#sk-container-id-6 div.sk-estimator:hover label.sk-toggleable__label-arrow:before {color: black;}#sk-container-id-6 div.sk-toggleable__content {max-height: 0;max-width: 0;overflow: hidden;text-align: left;background-color: #f0f8ff;}#sk-container-id-6 div.sk-toggleable__content pre {margin: 0.2em;color: black;border-radius: 0.25em;background-color: #f0f8ff;}#sk-container-id-6 input.sk-toggleable__control:checked~div.sk-toggleable__content {max-height: 200px;max-width: 100%;overflow: auto;}#sk-container-id-6 input.sk-toggleable__control:checked~label.sk-toggleable__label-arrow:before {content: \"▾\";}#sk-container-id-6 div.sk-estimator input.sk-toggleable__control:checked~label.sk-toggleable__label {background-color: #d4ebff;}#sk-container-id-6 div.sk-label input.sk-toggleable__control:checked~label.sk-toggleable__label {background-color: #d4ebff;}#sk-container-id-6 input.sk-hidden--visually {border: 0;clip: rect(1px 1px 1px 1px);clip: rect(1px, 1px, 1px, 1px);height: 1px;margin: -1px;overflow: hidden;padding: 0;position: absolute;width: 1px;}#sk-container-id-6 div.sk-estimator {font-family: monospace;background-color: #f0f8ff;border: 1px dotted black;border-radius: 0.25em;box-sizing: border-box;margin-bottom: 0.5em;}#sk-container-id-6 div.sk-estimator:hover {background-color: #d4ebff;}#sk-container-id-6 div.sk-parallel-item::after {content: \"\";width: 100%;border-bottom: 1px solid gray;flex-grow: 1;}#sk-container-id-6 div.sk-label:hover label.sk-toggleable__label {background-color: #d4ebff;}#sk-container-id-6 div.sk-serial::before {content: \"\";position: absolute;border-left: 1px solid gray;box-sizing: border-box;top: 0;bottom: 0;left: 50%;z-index: 0;}#sk-container-id-6 div.sk-serial {display: flex;flex-direction: column;align-items: center;background-color: white;padding-right: 0.2em;padding-left: 0.2em;position: relative;}#sk-container-id-6 div.sk-item {position: relative;z-index: 1;}#sk-container-id-6 div.sk-parallel {display: flex;align-items: stretch;justify-content: center;background-color: white;position: relative;}#sk-container-id-6 div.sk-item::before, #sk-container-id-6 div.sk-parallel-item::before {content: \"\";position: absolute;border-left: 1px solid gray;box-sizing: border-box;top: 0;bottom: 0;left: 50%;z-index: -1;}#sk-container-id-6 div.sk-parallel-item {display: flex;flex-direction: column;z-index: 1;position: relative;background-color: white;}#sk-container-id-6 div.sk-parallel-item:first-child::after {align-self: flex-end;width: 50%;}#sk-container-id-6 div.sk-parallel-item:last-child::after {align-self: flex-start;width: 50%;}#sk-container-id-6 div.sk-parallel-item:only-child::after {width: 0;}#sk-container-id-6 div.sk-dashed-wrapped {border: 1px dashed gray;margin: 0 0.4em 0.5em 0.4em;box-sizing: border-box;padding-bottom: 0.4em;background-color: white;}#sk-container-id-6 div.sk-label label {font-family: monospace;font-weight: bold;display: inline-block;line-height: 1.2em;}#sk-container-id-6 div.sk-label-container {text-align: center;}#sk-container-id-6 div.sk-container {/* jupyter's `normalize.less` sets `[hidden] { display: none; }` but bootstrap.min.css set `[hidden] { display: none !important; }` so we also need the `!important` here to be able to override the default hidden behavior on the sphinx rendered scikit-learn.org. See: https://github.com/scikit-learn/scikit-learn/issues/21755 */display: inline-block !important;position: relative;}#sk-container-id-6 div.sk-text-repr-fallback {display: none;}</style><div id=\"sk-container-id-6\" class=\"sk-top-container\"><div class=\"sk-text-repr-fallback\"><pre>KNeighborsRegressor()</pre><b>In a Jupyter environment, please rerun this cell to show the HTML representation or trust the notebook. <br />On GitHub, the HTML representation is unable to render, please try loading this page with nbviewer.org.</b></div><div class=\"sk-container\" hidden><div class=\"sk-item\"><div class=\"sk-estimator sk-toggleable\"><input class=\"sk-toggleable__control sk-hidden--visually\" id=\"sk-estimator-id-6\" type=\"checkbox\" checked><label for=\"sk-estimator-id-6\" class=\"sk-toggleable__label sk-toggleable__label-arrow\">KNeighborsRegressor</label><div class=\"sk-toggleable__content\"><pre>KNeighborsRegressor()</pre></div></div></div></div></div>"
      ],
      "text/plain": [
       "KNeighborsRegressor()"
      ]
     },
     "execution_count": 83,
     "metadata": {},
     "output_type": "execute_result"
    }
   ],
   "source": [
    "### 훈련데이터 학습시키기 : 훈련모델 생성하기\n",
    "knr.fit(train_x, train_y)"
   ]
  },
  {
   "cell_type": "markdown",
   "id": "e953320c",
   "metadata": {},
   "source": [
    "### 결정계수 공식\n",
    "###### 결정계수($R^2$) = $1 - ((target - 예측) ^2$ 의 합 / $(target - 평균) ^2$ 의 합)"
   ]
  },
  {
   "cell_type": "code",
   "execution_count": 84,
   "id": "494021eb",
   "metadata": {},
   "outputs": [
    {
     "data": {
      "text/plain": [
       "0.992809406101064"
      ]
     },
     "execution_count": 84,
     "metadata": {},
     "output_type": "execute_result"
    }
   ],
   "source": [
    "### 훈련모델 평가하기\n",
    "# 분류에서는 score의 결과값을 정확도라고 했다면,\n",
    "# 회귀에서는 결정계수(R^2)라는 용어를 사용합니다.\n",
    "\n",
    "### 회귀모델의 학습평가 결과 : 결정계수를 이용\n",
    "# - 회귀에서는 정확한 숫자를 맞히는 것은 불가능\n",
    "\n",
    "### 결정계수의 범위\n",
    "# - 0 ~ 1 사이의 값을 반환 받습니다.\n",
    "# - 1에 가까울 수록 훈련이 잘된 모델이라고 판단하면 됩니다.\n",
    "# - 보통 0.95이상을 좋다고 판단합니다.(기준은 아님..)\n",
    "\n",
    "knr.score(test_x, test_y)"
   ]
  },
  {
   "cell_type": "markdown",
   "id": "f3a2c5b6",
   "metadata": {},
   "source": [
    "## 오차 확인하기\n",
    "##### - 일반적으로 계산에 의한 결정계수값을 봐서는 오차가 어느정도 인지 모릅니다.\n",
    "##### - 오차 값 확인이 필요합니다."
   ]
  },
  {
   "cell_type": "code",
   "execution_count": 85,
   "id": "3d72f5c2",
   "metadata": {},
   "outputs": [
    {
     "data": {
      "text/plain": [
       "array([  60. ,   79.6,  248. ,  122. ,  136. ,  847. ,  311.4,  183.4,\n",
       "        847. ,  113. , 1010. ,   60. ,  248. ,  248. ])"
      ]
     },
     "execution_count": 85,
     "metadata": {},
     "output_type": "execute_result"
    }
   ],
   "source": [
    "### 오차를 확인하기 위해서는 예측을 먼저 선행해야 합니다.\n",
    "test_prediction = knr.predict(test_x)\n",
    "test_prediction"
   ]
  },
  {
   "cell_type": "code",
   "execution_count": 86,
   "id": "e257aa98",
   "metadata": {},
   "outputs": [],
   "source": [
    "### 타깃값과 예측값 간의 오차를 확인하는 라이브러리 불러들이기\n",
    "from sklearn.metrics import mean_absolute_error"
   ]
  },
  {
   "cell_type": "code",
   "execution_count": 87,
   "id": "421f5220",
   "metadata": {},
   "outputs": [
    {
     "data": {
      "text/plain": [
       "19.157142857142862"
      ]
     },
     "execution_count": 87,
     "metadata": {},
     "output_type": "execute_result"
    }
   ],
   "source": [
    "### 오차값은 : 테스트 데이터에 대한 평균 절대값 오차를 계산합니다.\n",
    "mae = mean_absolute_error(test_y, test_prediction)\n",
    "mae\n",
    "\n",
    "# (해석)\n",
    "# 예측값이 평균적으로 19g 정도 타깃값과 차이가 있다는 것을 의미\n",
    "# 차이 = 다르다는 의미는 아닙니다."
   ]
  },
  {
   "cell_type": "code",
   "execution_count": 88,
   "id": "132f5bd2",
   "metadata": {},
   "outputs": [
    {
     "data": {
      "text/plain": [
       "0.9698823289099254"
      ]
     },
     "execution_count": 88,
     "metadata": {},
     "output_type": "execute_result"
    }
   ],
   "source": [
    "### 훈련 결정계수\n",
    "knr.score(train_x, train_y)"
   ]
  },
  {
   "cell_type": "markdown",
   "id": "239fe98f",
   "metadata": {},
   "source": [
    "## 과대적합 vs 과소적합\n",
    "##### - 훈련데이터와 테스트데이터를 각각 평가하여 비교 했을 때....\n",
    "##### - 1. 과대적합 : 훈련데이터의 평가결과가 너무 높고, 테스트데이터의 평가가 너무 낮을 경우\n",
    "##### - 2. 과소적합 : 훈련데이터의 평가결과가 낮고, 테스트데이터의 평가가 높은 경우\n",
    "##### \n",
    "## 과소적합이 발생하는 이유?\n",
    "##### - 사용된 전체 데이터의 갯수가 너무 작은 경우에 주로 발생합니다.\n",
    "##### - 데이터가 작으면 테스트데이터가 훈련데이터의 특징을 잘 따르지 못하는 경우가 발생.."
   ]
  },
  {
   "cell_type": "code",
   "execution_count": null,
   "id": "6f7bdf1f",
   "metadata": {},
   "outputs": [],
   "source": [
    "### 과소적합 해소 방법\n",
    "# - 훈련모델을 복잡하게 만들어서 평가결과를 높일 수 있음\n",
    "\n",
    "### 모델을 복잡하게 만드는 방법\n",
    "# - 이웃의 갯수를 작게하면 됩니다.\n",
    "# - 이웃의 갯수가 작아지면, 이웃의 비교 대상이 조금 더 압축되기 때문에\n",
    "# - 훈련의 집중도가 높아 집니다. 정확도가 높아집니다.\n",
    "\n",
    "### 이웃의 갯수 : 기본 5개\n",
    "# - 이웃의 갯수는 최소 3개 이상, 홀수로 해야함\n",
    "# - 복잡도를 높이는 방법은 이웃의 갯수를 줄여나가는 방법 입니다."
   ]
  },
  {
   "cell_type": "code",
   "execution_count": 112,
   "id": "df7f2a46",
   "metadata": {
    "scrolled": true
   },
   "outputs": [
    {
     "name": "stdout",
     "output_type": "stream",
     "text": [
      "n이  3 개 일때\n",
      "테스트데이터의 결정계수 =  0.9746459963987609\n",
      "훈련데이터의 결정계수 =  0.9804899950518966\n"
     ]
    }
   ],
   "source": [
    "for n in range(4, 0, -1):    \n",
    "    knr = KNeighborsRegressor(n_neighbors = n)\n",
    "    knr.fit(train_x, train_y)\n",
    "    if knr.score(test_x, test_y) < knr.score(train_x, train_y):\n",
    "        print('n이 ', n, '개 일때')\n",
    "        print('테스트데이터의 결정계수 = ',knr.score(test_x, test_y))\n",
    "        print('훈련데이터의 결정계수 = ',knr.score(train_x, train_y))\n",
    "        break"
   ]
  }
 ],
 "metadata": {
  "kernelspec": {
   "display_name": "ml_kernel",
   "language": "python",
   "name": "ml"
  },
  "language_info": {
   "codemirror_mode": {
    "name": "ipython",
    "version": 3
   },
   "file_extension": ".py",
   "mimetype": "text/x-python",
   "name": "python",
   "nbconvert_exporter": "python",
   "pygments_lexer": "ipython3",
   "version": "3.9.12"
  }
 },
 "nbformat": 4,
 "nbformat_minor": 5
}
