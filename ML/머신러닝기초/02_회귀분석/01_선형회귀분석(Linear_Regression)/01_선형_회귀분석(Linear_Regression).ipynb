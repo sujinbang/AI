{
 "cells": [
  {
   "cell_type": "markdown",
   "id": "043e57ce",
   "metadata": {},
   "source": [
    "### 선형 회귀분석(Linear Regression)\n",
    "##### - 독립 변수(x)가 종속변수(y)에 얼마나 영향을 주는지 인과관계를 분석.\n",
    "##### - 독립변수(x) - 연속형, .....종속변수(y) - 연속형.\n",
    "##### - 두 변수는 상관관계 및 인과관계가 있어야한다. (상관계수 > 0.3)\n",
    "##### - 머신러닝의 지도학습 : 학습(fit)을 통해 모델 생성 후, \n",
    "##### ....새로운 데이터에 대한 예측 및 분류(predict)"
   ]
  },
  {
   "cell_type": "code",
   "execution_count": 1,
   "id": "3533c906",
   "metadata": {},
   "outputs": [
    {
     "data": {
      "text/plain": [
       "' \\n<선형회귀분석의 충족 조건>\\n1. 선형성     : 독립변수(독립변수를 feature라는 용어사용)의 \\n                변화에 따라 종속변수도 \"일정 크기로 변화\"해야 한다.\\n2. 정규성     : 잔차항이 \"정규분포\"를 따라야 한다.\\n3. 독립성     : 독립변수의 값이 서로 관련되지 않아야 한다.\\n4. 등분산성   : 그룹간의 분산이 유사해야 한다. \\n                독립변수의 모든 값에 대한 오차들의 분산은 일정해야 한다.\\n5. 다중공선성 : 다중회귀 분석 시 3 개 이상의 독립변수 간에 \\n                강한 상관관계가 있어서는 안된다. \\n'"
      ]
     },
     "execution_count": 1,
     "metadata": {},
     "output_type": "execute_result"
    }
   ],
   "source": [
    "\"\"\" \n",
    "<선형회귀분석의 충족 조건>\n",
    "1. 선형성     : 독립변수(독립변수를 feature라는 용어사용)의 \n",
    "                변화에 따라 종속변수도 \"일정 크기로 변화\"해야 한다.\n",
    "2. 정규성     : 잔차항이 \"정규분포\"를 따라야 한다.\n",
    "3. 독립성     : 독립변수의 값이 서로 관련되지 않아야 한다.\n",
    "4. 등분산성   : 그룹간의 분산이 유사해야 한다. \n",
    "                독립변수의 모든 값에 대한 오차들의 분산은 일정해야 한다.\n",
    "5. 다중공선성 : 다중회귀 분석 시 3 개 이상의 독립변수 간에 \n",
    "                강한 상관관계가 있어서는 안된다. \n",
    "\"\"\""
   ]
  },
  {
   "cell_type": "markdown",
   "id": "40061518",
   "metadata": {},
   "source": [
    "### exe-1) 임의 데이터를 이용하여 선형회귀분석 테스트"
   ]
  },
  {
   "cell_type": "code",
   "execution_count": 2,
   "id": "2b093125",
   "metadata": {},
   "outputs": [],
   "source": [
    "### 사용할 라이브러리 불러오기\n",
    "\n",
    "import numpy.linalg as lin\n",
    "import numpy as np\n",
    "import matplotlib.pyplot as plt"
   ]
  },
  {
   "cell_type": "code",
   "execution_count": 3,
   "id": "b5bfcccc",
   "metadata": {},
   "outputs": [
    {
     "data": {
      "image/png": "[encoded data removed]",
      "text/plain": [
       "<Figure size 432x288 with 1 Axes>"
      ]
     },
     "metadata": {
      "needs_background": "light"
     },
     "output_type": "display_data"
    }
   ],
   "source": [
    "### 데이터 생성하기\n",
    "x = np.array([0, 1, 2, 3])\n",
    "y = np.array([-1, 0.2, 0.9, 2.1])\n",
    "\n",
    "### 선형 그래프 시각화하기\n",
    "plt.plot(x, y)\n",
    "plt.grid(True)\n",
    "plt.show()"
   ]
  },
  {
   "cell_type": "code",
   "execution_count": 4,
   "id": "e6eeac84",
   "metadata": {},
   "outputs": [
    {
     "name": "stdout",
     "output_type": "stream",
     "text": [
      "x = \n",
      " [0 1 2 3]\n",
      "----------------------------------\n",
      "np.ones(len(x)) = \n",
      " [1. 1. 1. 1.]\n",
      "----------------------------------\n",
      "np.vstack([x, np.ones(len(x))]) = \n",
      " [[0. 1. 2. 3.]\n",
      " [1. 1. 1. 1.]]\n",
      "----------------------------------\n",
      "A = \n",
      " [[0. 1.]\n",
      " [1. 1.]\n",
      " [2. 1.]\n",
      " [3. 1.]]\n",
      "----------------------------------\n",
      "기울기 : 0.9999999999999997  y절편: -0.949999999999999\n",
      "----------------------------------\n"
     ]
    },
    {
     "data": {
      "image/png": "[encoded data removed]",
      "text/plain": [
       "<Figure size 432x288 with 1 Axes>"
      ]
     },
     "metadata": {
      "needs_background": "light"
     },
     "output_type": "display_data"
    }
   ],
   "source": [
    "A = np.vstack([x, np.ones(len(x))]).T\n",
    "\n",
    "print(\"x = \\n\", x)\n",
    "print(\"----------------------------------\")\n",
    "\n",
    "# np.ones(x) : 1로 채워진 행렬 생성\n",
    "print(\"np.ones(len(x)) = \\n\", np.ones(len(x)))\n",
    "print(\"----------------------------------\")\n",
    "\n",
    "# np.vstack(x, y) : x에 y 행 추가 (2차원 리스트가 만들어짐)\n",
    "print(\"np.vstack([x, np.ones(len(x))]) = \\n\", \n",
    "          np.vstack([x, np.ones(len(x))]))\n",
    "print(\"----------------------------------\")\n",
    "\n",
    "# A = ().T : 전치 (행과 열을 변경 한다 - 2차원 행렬 생성)\n",
    "print(\"A = \\n\", A)\n",
    "print(\"----------------------------------\")\n",
    "\n",
    "### 알고리즘(직선의 방정식) : y = ax + b\n",
    "# - y : 예측값(학습 시 종속변수를 사용, 수집데이터)\n",
    "# - x : 관측값(학습 시 독립변수를 사용, \n",
    "#       테스트 시에는 임의 값 사용, 수집데이터)\n",
    "# - a : 기울기 값(함수를 이용하여 추출)\n",
    "# - b : y절편 값(함수를 이용하여 추출)\n",
    "# 알고리즘을 통해 y값을 예측하는 것이 목적이다.\n",
    "\n",
    "### 기울기값(a)와 y절편값 추출하기\n",
    "a, b = np.linalg.lstsq(A, y, rcond=None)[0]\n",
    "print('기울기 :', a, ' y절편:', b) \n",
    "print(\"----------------------------------\")\n",
    "\n",
    "### 선 그래프로 시각화 하기..\n",
    "# 수집 데이터를 이용한 표시\n",
    "plt.plot(x, y, 'o', label='Original data', markersize=10)\n",
    "\n",
    "# Fitted line : 회귀 추세선\n",
    "plt.plot(x, a*x + b, 'r', label='Fitted line')\n",
    "\n",
    "plt.legend()\n",
    "plt.show()"
   ]
  },
  {
   "cell_type": "code",
   "execution_count": 5,
   "id": "4145fe42",
   "metadata": {},
   "outputs": [],
   "source": [
    "### 모델 생성하기\n",
    "\n",
    "### <선형 회귀분석 모델 생성방법 4가지>\n",
    "## 1. make_regression() 함수를 이용한 방법\n",
    "#  - 모델은 생성할 수 없으며, 알고리즘의 기울기와 y절편값을 확인만 가능\n",
    "#  - 모델을 생설할 수 없기 때문에 학습(fit()) 및 예측(predict()) \n",
    "#    함수를 지원하지 않음\n",
    "#  - 직접 회귀식(y=a * x + b)을 이용해서 계산해야함\n",
    "#  - 직접 계산에 의해 y값을 예측할 수 있다.\n",
    "\n",
    "## 2. Linear Regression() 함수를 이용하는 방법\n",
    "#  - 모델을 생성할 수 있다.\n",
    "#  - 학습(fit()) 및 예측(predict()) 함수 사용 가능\n",
    "\n",
    "## 3. statsmodels의 smf 라이브러리의 ols() 함수를 이용하는 방법\n",
    "#  - 단순선형 회귀분석 및 다중회귀분석에 사용됨\n",
    "#  - 모델을 생성할 수 있다.\n",
    "#  - 학습(fit()) 및 예측(predict()) 함수 사용 가능\n",
    "#  *** [단순선형 및 다중선형 회귀분석]에서 사용되는 모델임 ***\n",
    "\n",
    "## 4. scipy의 stats 라이브러리의 linregress() 함수 사용 가능\n",
    "#  - 모델은 생성할 수 있으나, 알고리즘의 기울기와 y절편값을 확인만 가능\n",
    "#  - 학습(fit()) 및 예측(predict()) 함수를 지원하지 않으며,\n",
    "#  - numpy 라이브러이의 polyval() 함수를 이용하여 예측이 가능함\n",
    "#  - polyval(기울기, y절편, 테스트에 사용할 독립변수)\n"
   ]
  },
  {
   "cell_type": "markdown",
   "id": "93d861b1",
   "metadata": {},
   "source": [
    "### 1. make_regression() 함수를 이용한 방법"
   ]
  },
  {
   "cell_type": "code",
   "execution_count": 6,
   "id": "4656cc79",
   "metadata": {},
   "outputs": [],
   "source": [
    "### 1. make_regression() 함수를 이용한 방법\n",
    "#  - 모델은 생성할 수 없으며, 알고리즘의 기울기와 y절편값을 확인만 가능\n",
    "#  - 모델을 생설할 수 없기 때문에 학습(fit()) 및 예측(predict()) \n",
    "#    함수를 지원하지 않음\n",
    "#  - 직접 회귀식(y=a * x + b)을 이용해서 계산해야함\n",
    "#  - 직접 계산에 의해 y값을 예측할 수 있다."
   ]
  },
  {
   "cell_type": "code",
   "execution_count": 7,
   "id": "515578f7",
   "metadata": {},
   "outputs": [],
   "source": [
    "# 사용할 라이브러리\n",
    "import statsmodels.api as sm\n",
    "from sklearn.datasets import make_regression\n",
    "import numpy as np"
   ]
  },
  {
   "cell_type": "code",
   "execution_count": 8,
   "id": "435202d6",
   "metadata": {},
   "outputs": [
    {
     "name": "stdout",
     "output_type": "stream",
     "text": [
      "x = \n",
      " [[-1.70073563]\n",
      " [-0.67794537]\n",
      " [ 0.31866529]\n",
      " [ 0.13884618]\n",
      " [ 0.53513589]\n",
      " [-0.03920917]\n",
      " [ 0.03541635]\n",
      " [-0.71385629]\n",
      " [-0.11491994]\n",
      " [ 1.01251548]\n",
      " [ 2.24181779]\n",
      " [ 0.00512708]\n",
      " [-1.02953021]\n",
      " [-0.64743078]\n",
      " [ 0.47298583]\n",
      " [-1.2151688 ]\n",
      " [-0.25390408]\n",
      " [-0.3843588 ]\n",
      " [ 0.52733267]\n",
      " [ 0.47245699]\n",
      " [-0.91386915]\n",
      " [ 0.5018723 ]\n",
      " [-0.68142588]\n",
      " [-2.21333348]\n",
      " [-0.12214979]\n",
      " [-0.57188106]\n",
      " [ 1.34235637]\n",
      " [-1.15436024]\n",
      " [-0.58526828]\n",
      " [-3.14741652]\n",
      " [ 0.21497595]\n",
      " [-1.68175651]\n",
      " [-0.80698188]\n",
      " [ 1.20979645]\n",
      " [ 1.09595612]\n",
      " [-0.59782292]\n",
      " [-0.99720384]\n",
      " [-0.52840432]\n",
      " [-0.12022767]\n",
      " [ 0.07325207]\n",
      " [-0.10586232]\n",
      " [ 0.75314283]\n",
      " [ 0.2424395 ]\n",
      " [-2.21853495]\n",
      " [-1.78809425]\n",
      " [ 2.87181939]\n",
      " [ 1.33583134]\n",
      " [-1.53472134]\n",
      " [ 0.64076111]\n",
      " [-0.33759525]]\n",
      "----------------------\n",
      "y = \n",
      " [ -52.17214291   39.34130801  128.51235594  112.42316554  147.88091341\n",
      "   96.49178624  103.16885304   36.12820309   89.71761789  190.59412103\n",
      "  300.58509445  100.45874176    7.88349776   42.07157936  142.32007968\n",
      "   -8.72638684   77.28210847   65.60976235  147.18272498  142.27276227\n",
      "   18.23219105  144.90467678   39.0298914   -98.0364801    89.07073235\n",
      "   48.8313381   220.10640661   -3.28558253   47.63352619 -181.61291334\n",
      "  119.23482409  -50.47399897   27.79585534  208.24569942  198.05991459\n",
      "   46.51020834   10.77587732   52.72138937   89.24271248  106.55417864\n",
      "   90.52804266  167.38693344  121.69210605  -98.50187763  -59.98849467\n",
      "  356.95405132  219.52258382  -37.31812896  157.33165682   69.79389882]\n",
      "----------------------\n",
      "기울기(coef) = \n",
      " 89.47430739278907\n",
      "----------------------\n",
      "예측값(y) : -52.17214255248879\n"
     ]
    }
   ],
   "source": [
    "### 모델 생성\n",
    "# seed(12) : 랜덤값 생성시 12값 seed로 고정\n",
    "np.random.seed(12)\n",
    "\n",
    "# make_regression() 모델 생성 \n",
    "#  : 50개의 독립변수(1개), 종속변수(1개) 생성\n",
    "# - n_samples : 샘플 데이터 50개 생성\n",
    "# - n_features : 독립변수 1개 생성\n",
    "# - bias : y절편 값\n",
    "# - coef : 기울기 값을 출력할지 여부\n",
    "# - 결과값 \n",
    "#   : x(독립변수), y(종속변수), coef(기울기)\n",
    "x, y, coef = make_regression(n_samples=50, \n",
    "                             n_features=1, \n",
    "                             bias=100, \n",
    "                             coef=True)\n",
    "\n",
    "# x(독립변수)\n",
    "print(\"x = \\n\", x)\n",
    "print(\"----------------------\")\n",
    "\n",
    "# y(종속변수)\n",
    "print(\"y = \\n\", y)\n",
    "print(\"----------------------\")\n",
    "\n",
    "# coef(기울기)\n",
    "print(\"기울기(coef) = \\n\", coef)\n",
    "print(\"----------------------\")\n",
    "\n",
    "### 회귀식 완성 :  y = ax + b\n",
    "#    y = 89.47430739278907 * x + 100 \n",
    "\n",
    "### 직접 계산에 의한 예측하기\n",
    "# - 테스트 값 = 독립변수 -1.70073563 값 사용 \n",
    "# - 예측값은 -52.17214291 이 나와야 한다.\n",
    "y_pred = 100 + 89.47430739278907  * -1.70073563\n",
    "print('예측값(y) :', y_pred)"
   ]
  },
  {
   "cell_type": "markdown",
   "id": "82dc82e3",
   "metadata": {},
   "source": [
    "### 2. Linear Regression() 함수를 이용하는 방법"
   ]
  },
  {
   "cell_type": "code",
   "execution_count": 9,
   "id": "7bec4297",
   "metadata": {},
   "outputs": [],
   "source": [
    "### 2. Linear Regression() 함수를 이용하는 방법\n",
    "#  - 모델을 생성할 수 있다.\n",
    "#  - 학습(fit()) 및 예측(predict()) 함수 사용 가능"
   ]
  },
  {
   "cell_type": "code",
   "execution_count": 10,
   "id": "ef1e28af",
   "metadata": {},
   "outputs": [],
   "source": [
    "### 사용할 라이브러리 불러오기\n",
    "\n",
    "from sklearn.linear_model import LinearRegression"
   ]
  },
  {
   "cell_type": "code",
   "execution_count": 11,
   "id": "2dacf462",
   "metadata": {},
   "outputs": [
    {
     "name": "stdout",
     "output_type": "stream",
     "text": [
      "기울기 =  [89.47430739]\n",
      "-------------------------------\n",
      "y절편 =  100.0\n",
      "-------------------------------\n",
      "y_pred2 : [-52.17214291]\n",
      "-------------------------------\n",
      "y_pred2_new : [6005.30428792]\n"
     ]
    }
   ],
   "source": [
    "### 데이터 생성하기\n",
    "# - 위에서 사용한 독립변수(x) 및 종속변수(y) 값 사용\n",
    "xx = x\n",
    "yy = y\n",
    "\n",
    "### 모델 객체 생성하기 : LinearRegression()\n",
    "model = LinearRegression()\n",
    "\n",
    "### 학습모델 생성하기 : fit()\n",
    "# 학습 데이터로 모형 추정 : y절편, 기울기 추출\n",
    "fit_model = model.fit(xx, yy) \n",
    "\n",
    "# 기울기 89.47430739\n",
    "print(\"기울기 = \", fit_model.coef_)   \n",
    "print(\"-------------------------------\")\n",
    "\n",
    "# y절편 100.0\n",
    "print(\"y절편 = \", fit_model.intercept_) \n",
    "print(\"-------------------------------\")\n",
    "\n",
    "### 예측모델 테스트 : predict()\n",
    "\n",
    "# 예측값(y) 확인하기\n",
    "y_pred2 = fit_model.predict(xx[[0]])\n",
    "print('y_pred2 :', y_pred2)\n",
    "print(\"-------------------------------\")\n",
    "\n",
    "# 예측값(y) 확인하기\n",
    "y_pred2_new = fit_model.predict([[66]])\n",
    "print('y_pred2_new :', y_pred2_new)"
   ]
  },
  {
   "cell_type": "markdown",
   "id": "f38b4410",
   "metadata": {},
   "source": [
    "### 3. statsmodels의 smf  라이브러리의 ols() 함수를 이용하는 방법\n",
    "##### - 단순선형 회귀분석 및 다중회귀분석에 사용됨"
   ]
  },
  {
   "cell_type": "code",
   "execution_count": 12,
   "id": "cf6cd172",
   "metadata": {},
   "outputs": [],
   "source": [
    "### 3. statsmodels의 smf 라이브러리의 ols() 함수를 이용하는 방법\n",
    "#  - 단순선형 회귀분석 및 다중회귀분석에 사용됨\n",
    "#  - 모델을 생성할 수 있다.\n",
    "#  - 학습(fit()) 및 예측(predict()) 함수 사용 가능"
   ]
  },
  {
   "cell_type": "code",
   "execution_count": 13,
   "id": "1d602fc3",
   "metadata": {},
   "outputs": [],
   "source": [
    "### 사용할 라이브러리 불러오기\n",
    "import statsmodels.formula.api as smf\n",
    "import pandas as pd"
   ]
  },
  {
   "cell_type": "code",
   "execution_count": 22,
   "id": "41952b5c",
   "metadata": {},
   "outputs": [
    {
     "name": "stdout",
     "output_type": "stream",
     "text": [
      "독립변수(x1), x1.shape(차원확인) = \n",
      " (50,)\n",
      "-------------------------------\n",
      "종속변수(y1) = \n",
      " [ -52.17214291   39.34130801  128.51235594  112.42316554  147.88091341\n",
      "   96.49178624  103.16885304   36.12820309   89.71761789  190.59412103\n",
      "  300.58509445  100.45874176    7.88349776   42.07157936  142.32007968\n",
      "   -8.72638684   77.28210847   65.60976235  147.18272498  142.27276227\n",
      "   18.23219105  144.90467678   39.0298914   -98.0364801    89.07073235\n",
      "   48.8313381   220.10640661   -3.28558253   47.63352619 -181.61291334\n",
      "  119.23482409  -50.47399897   27.79585534  208.24569942  198.05991459\n",
      "   46.51020834   10.77587732   52.72138937   89.24271248  106.55417864\n",
      "   90.52804266  167.38693344  121.69210605  -98.50187763  -59.98849467\n",
      "  356.95405132  219.52258382  -37.31812896  157.33165682   69.79389882]\n",
      "-------------------------------\n",
      "생성된 데이터(df) 확인 = \n",
      "          x1          y1\n",
      "0 -1.700736  -52.172143\n",
      "1 -0.677945   39.341308\n",
      "2  0.318665  128.512356\n",
      "-------------------------------\n",
      "학습모델 결과 = \n",
      "                             OLS Regression Results                            \n",
      "==============================================================================\n",
      "Dep. Variable:                     y1   R-squared:                       1.000\n",
      "Model:                            OLS   Adj. R-squared:                  1.000\n",
      "Method:                 Least Squares   F-statistic:                 1.905e+32\n",
      "Date:                Tue, 26 Jul 2022   Prob (F-statistic):               0.00\n",
      "Time:                        10:09:38   Log-Likelihood:                 1460.6\n",
      "No. Observations:                  50   AIC:                            -2917.\n",
      "Df Residuals:                      48   BIC:                            -2913.\n",
      "Df Model:                           1                                         \n",
      "Covariance Type:            nonrobust                                         \n",
      "==============================================================================\n",
      "                 coef    std err          t      P>|t|      [0.025      0.975]\n",
      "------------------------------------------------------------------------------\n",
      "Intercept    100.0000   7.33e-15   1.36e+16      0.000     100.000     100.000\n",
      "x1            89.4743   6.48e-15   1.38e+16      0.000      89.474      89.474\n",
      "==============================================================================\n",
      "Omnibus:                        7.616   Durbin-Watson:                   1.798\n",
      "Prob(Omnibus):                  0.022   Jarque-Bera (JB):                8.746\n",
      "Skew:                           0.516   Prob(JB):                       0.0126\n",
      "Kurtosis:                       4.770   Cond. No.                         1.26\n",
      "==============================================================================\n",
      "\n",
      "Notes:\n",
      "[1] Standard Errors assume that the covariance matrix of the errors is correctly specified.\n",
      "-------------------------------\n",
      "표준오차(std err) : 7.29e-15 = 0.000000000\n",
      "-------------------------------\n",
      "예측에 사용할 독립변수 = \n",
      " [-1.70073563 -0.67794537]\n",
      "-------------------------------\n",
      "예측결과(new_pred) :\n",
      " 0   -52.172143\n",
      "1    39.341308\n",
      "dtype: float64\n",
      "-------------------------------\n",
      "예측결과(new_pred) :\n",
      " 0    11105.339809\n",
      "1     -109.877199\n",
      "dtype: float64\n"
     ]
    }
   ],
   "source": [
    "### 데이터 생성하기\n",
    "\n",
    "# - 데이터는 위에서 사용한 xx 및 yy 값 사용\n",
    "# - 독립변수(x)의 값의 경우 2차원 리스트에서 1차원으로 축소하여,\n",
    "#   x 및 y 컬럼을 가지는 데이터프레임 형태로 구성해야함\n",
    "# - 따라서, x값은 차원을 축소해야함 : flatten()함수 사용\n",
    "\n",
    "### 차원축소\n",
    "x1 = xx.flatten() \n",
    "print(\"독립변수(x1), x1.shape(차원확인) = \\n\", x1.shape)   \n",
    "print(\"-------------------------------\")\n",
    "\n",
    "y1 = yy\n",
    "print(\"종속변수(y1) = \\n\", y1)   \n",
    "print(\"-------------------------------\")\n",
    "\n",
    "data = np.array([x1, y1])\n",
    "\n",
    "### 데이터프레임 형태로 : 데이터 생성하기\n",
    "df = pd.DataFrame(data.T)\n",
    "df.columns = ['x1', 'y1']\n",
    "print(\"생성된 데이터(df) 확인 = \\n\", df.head(3))   \n",
    "print(\"-------------------------------\")\n",
    "\n",
    "### 학습모델 생성하기\n",
    "#  - 모델 객체 생성 : smf.ols()\n",
    "#  - 학습모델 생성 : fit()\n",
    "#  - 아래는 객체 생성과 학습모델 생성을 한번에 처리하였음\n",
    "#  - formula(학습 데이터) = '종속변수 ~ 독립변수'\n",
    "model2 = smf.ols(formula='y1 ~ x1', data=df).fit()\n",
    "\n",
    "### 학습모델 결과 확인하기\n",
    "# - R-squared : 결정계수(1에 까가울 수록 학습모델이 좋은 것임)\n",
    "# - Adj. R-squared : 수정결정계수(1에 까가울 수록 학습모델이 좋은 것임)\n",
    "# - *** 독립변수가 많을 경우 R-squared과 Adj. R-squared의 차이가 클 경우 \n",
    "#       독립변수 [이상치를 확인]해야한다. ***\n",
    "\n",
    "# - x1의 p-value : 0.000 < 0.05 => 모델은 유효하다.\n",
    "# - x1의 std err(표준 오차) : 7.29e-15 = 0.0000\n",
    "# - x1의 Intercept(y절편) : 100.0000\n",
    "# - x1의 coef(기울기) : 89.4743\n",
    "# - x1의 Kurtosis(첨도) : 6.605 => 일반적으로 3보다 클경우,\n",
    "#   평균에 데이터가 몰려있다고 판단한다.\n",
    "#   kurtosis() 첨도는 확률분포에서 분포의 [뾰족한 정도]를 나타내는 [척도]입니다. \n",
    "#   --> 첨도가 높은 경우: 데이터의 분포가 평균(혹은 중심)에 많이 몰려 있어 뾰족하다\n",
    "print(\"학습모델 결과 = \\n\", model2.summary())  \n",
    "print(\"-------------------------------\")\n",
    "\n",
    "print(\"표준오차(std err) : 7.29e-15 = {:.9f}\".format(7.29e-15))\n",
    "print(\"-------------------------------\")\n",
    "\n",
    "### 예측값 확인 함수\n",
    "# 예측에 사용할 독립변수 : [-1.70073563 -0.67794537]   \n",
    "print(\"예측에 사용할 독립변수 = \\n\", x1[:2]) \n",
    "print(\"-------------------------------\")\n",
    "\n",
    "# 예측(테스트)을 위해서는 사용할 독립변수도\n",
    "#  - 데이터프레임 형태로 구성해야 함\n",
    "# 기존 자료로 검증하기 위해 독립변수의 추출값을 데이터프레임으로 구성\n",
    "new_df = pd.DataFrame({'x1':[-1.70073563, -0.67794537]}) \n",
    "\n",
    "### 예측하기 : predict(테스트 데이터(x))\n",
    "new_pred = model2.predict(new_df)\n",
    "print('예측결과(new_pred) :\\n', new_pred)   \n",
    "print(\"-------------------------------\")\n",
    "\n",
    "new2_df = pd.DataFrame({'x1':[123, -2.34567]}) # 새로운 값에 대한 예측 결과 확인\n",
    "new2_pred = model2.predict(new2_df)\n",
    "print('예측결과(new_pred) :\\n', new2_pred)"
   ]
  },
  {
   "cell_type": "markdown",
   "id": "bfcb5b0f",
   "metadata": {},
   "source": [
    "### 4. scipy의 stats 라이브러리의 linregress() 함수 사용 가능"
   ]
  },
  {
   "cell_type": "code",
   "execution_count": 15,
   "id": "d90ef618",
   "metadata": {},
   "outputs": [],
   "source": [
    "## 4. scipy의 stats 라이브러리의 linregress() 함수 사용 가능\n",
    "#  - 모델은 생성할 수 있으나, 알고리즘의 기울기와 y절편값을 확인만 가능\n",
    "#  - 학습(fit()) 및 예측(predict()) 함수를 지원하지 않으며,\n",
    "#  - numpy 라이브러이의 polyval() 함수를 이용하여 예측이 가능함\n",
    "#  - polyval(기울기, y절편, 테스트에 사용할 독립변수)"
   ]
  },
  {
   "cell_type": "code",
   "execution_count": 16,
   "id": "96c721ff",
   "metadata": {},
   "outputs": [],
   "source": [
    "### 사용할 라이브러리 불러들이기\n",
    "\n",
    "from scipy import stats\n",
    "import numpy as np\n",
    "import pandas as pd\n",
    "import matplotlib.pyplot as plt"
   ]
  },
  {
   "cell_type": "code",
   "execution_count": 17,
   "id": "944d6458",
   "metadata": {},
   "outputs": [
    {
     "name": "stdout",
     "output_type": "stream",
     "text": [
      "     sid  score   iq  academy  game  tv\n",
      "0  10001     90  140        2     1   0\n",
      "1  10002     75  125        1     3   3\n",
      "2  10003     77  120        1     0   4\n",
      "-------------------------------\n",
      "<class 'pandas.core.frame.DataFrame'>\n",
      "RangeIndex: 150 entries, 0 to 149\n",
      "Data columns (total 6 columns):\n",
      " #   Column   Non-Null Count  Dtype\n",
      "---  ------   --------------  -----\n",
      " 0   sid      150 non-null    int64\n",
      " 1   score    150 non-null    int64\n",
      " 2   iq       150 non-null    int64\n",
      " 3   academy  150 non-null    int64\n",
      " 4   game     150 non-null    int64\n",
      " 5   tv       150 non-null    int64\n",
      "dtypes: int64(6)\n",
      "memory usage: 7.2 KB\n",
      "None\n"
     ]
    }
   ],
   "source": [
    "### 데이터 생성하기\n",
    "# - data 폴더의 score_iq.csv 파일 사용\n",
    "# - IQ가 점수(score)에 영향을 미치는지 예측\n",
    "\n",
    "score_iq = pd.read_csv('./data/score_iq.csv')\n",
    "print(score_iq.head(3))  \n",
    "print(\"-------------------------------\")\n",
    "print(score_iq.info())\n",
    "\n",
    "# iq가 score에 영향을 주는 지 검정\n",
    "# iq로 score(시험점수) 값 예측\n",
    "\n",
    "### 독립변수(x) 및 종속변수(y) 생성하기\n",
    "x = score_iq.iq\n",
    "y = score_iq.score"
   ]
  },
  {
   "cell_type": "code",
   "execution_count": 18,
   "id": "497f85ef",
   "metadata": {},
   "outputs": [
    {
     "name": "stdout",
     "output_type": "stream",
     "text": [
      "확인방법(pandas) = \n",
      "               sid     score        iq   academy      game        tv\n",
      "sid      1.000000 -0.014399 -0.007048 -0.004398  0.018806  0.024565\n",
      "score   -0.014399  1.000000  0.882220  0.896265 -0.298193 -0.819752\n",
      "iq      -0.007048  0.882220  1.000000  0.671783 -0.031516 -0.585033\n",
      "academy -0.004398  0.896265  0.671783  1.000000 -0.351315 -0.948551\n",
      "game     0.018806 -0.298193 -0.031516 -0.351315  1.000000  0.239217\n",
      "tv       0.024565 -0.819752 -0.585033 -0.948551  0.239217  1.000000\n",
      "-------------------------------\n",
      "확인방법(numpy) =  \n",
      " [[1.         0.88222034]\n",
      " [0.88222034 1.        ]]\n"
     ]
    }
   ],
   "source": [
    "### 상관계수 확인하기\n",
    "# 확인방법(1) : pandas 라이브러리에서 지원하는 corr() 사용\n",
    "# - iq와 score의 상관계수 : 0.882220\n",
    "print(\"확인방법(pandas) = \\n\", score_iq.corr())\n",
    "print(\"-------------------------------\")\n",
    "\n",
    "# 확인방법(2) : numpy 라이브러리에서 지원하는 corrcoef() 사용\n",
    "# - iq와 score의 상관계수 : 0.88222034\n",
    "print(\"확인방법(numpy) =  \\n\", np.corrcoef(x, y)) "
   ]
  },
  {
   "cell_type": "code",
   "execution_count": 19,
   "id": "845ed65d",
   "metadata": {},
   "outputs": [
    {
     "name": "stdout",
     "output_type": "stream",
     "text": [
      "LinregressResult(slope=0.6514309527270075, intercept=-2.8564471221974657, rvalue=0.8822203446134699, pvalue=2.8476895206683644e-50, stderr=0.028577934409305443, intercept_stderr=3.546211918048538)\n",
      "-------------------------------\n",
      "p-value : 2.8476895206683644e-50\n",
      "-------------------------------\n",
      "기울기(slope) : 0.6514309527270075\n",
      "-------------------------------\n",
      "y절편(intercept) : -2.8564471221974657\n",
      "-------------------------------\n",
      "예측결과 : 88.34388625958358\n",
      "-------------------------------\n",
      "예측결과 : 78.57242196867847\n",
      "-------------------------------\n",
      "예측결과 : 49.25802909596313\n",
      "-------------------------------\n",
      "예측결과 : 98.11535055048869\n",
      "-------------------------------\n",
      "예측결과 : 98.11535055048869\n"
     ]
    }
   ],
   "source": [
    "### 학습 모델 생성하기\n",
    "model = stats.linregress(x, y)\n",
    "\n",
    "print(model)\n",
    "print(\"-------------------------------\")\n",
    "\n",
    "print('p-value :', model.pvalue)  # p-value : 2.8476895206683644e-50\n",
    "print(\"-------------------------------\")\n",
    "\n",
    "print('기울기(slope) :', model.slope)      # 기울기 : 0.6514309527270075\n",
    "print(\"-------------------------------\")\n",
    "\n",
    "print('y절편(intercept) :', model.intercept)  # y절편 : -2.8564471221974657\n",
    "print(\"-------------------------------\")\n",
    "\n",
    "### (모델 해석)\n",
    "# pvalue=2.8476895206683644e-50 < 0.05 이므로 현재 모델은 유의하다.\n",
    "# iq가 score에 영향을 준다.\n",
    "# 회귀식(y = ax + b) 완성 \n",
    "#  : y = 0.6514309527270075 * x -2.8564471221974657 \n",
    "\n",
    "### 직접 예측해 보기\n",
    "print('예측결과 :', 0.6514309527270075 * 140 -2.8564471221974657)\n",
    "# 예측결과 : 88.34388625958358\n",
    "print(\"-------------------------------\")\n",
    "print('예측결과 :', 0.6514309527270075 * 125 -2.8564471221974657)\n",
    "# 예측결과 : 78.57242196867847\n",
    "print(\"-------------------------------\")\n",
    "print('예측결과 :', 0.6514309527270075 * 80 -2.8564471221974657)\n",
    "# 예측결과 : 49.25802909596313\n",
    "print(\"-------------------------------\")\n",
    "print('예측결과 :', 0.6514309527270075 * 155 -2.8564471221974657)\n",
    "# 예측결과 : 98.11535055048869\n",
    "print(\"-------------------------------\")\n",
    "print('예측결과 :', model.slope * 155 + model.intercept)\n",
    "# 예측결과 : 98.11535055048869"
   ]
  },
  {
   "cell_type": "code",
   "execution_count": 20,
   "id": "0a6e4475",
   "metadata": {},
   "outputs": [
    {
     "name": "stdout",
     "output_type": "stream",
     "text": [
      "기존 데이터로 예측결과 : \n",
      " [88.34388626 78.57242197 75.31526721 85.0867315  65.54380291 77.26956006\n",
      " 83.13243864 72.05811244 80.52671483 82.48100769 78.57242197 75.31526721\n",
      " 85.0867315  65.54380291 77.26956006 65.54380291 77.26956006 83.13243864\n",
      " 72.05811244 80.52671483 82.48100769 78.57242197 77.26956006 83.13243864\n",
      " 72.05811244 80.52671483 82.48100769 78.57242197 75.31526721 85.0867315\n",
      " 65.54380291 77.26956006 65.54380291 77.26956006 83.13243864 77.26956006\n",
      " 83.13243864 72.05811244 80.52671483 82.48100769 78.57242197 77.26956006\n",
      " 83.13243864 72.05811244 80.52671483 82.48100769 78.57242197 75.31526721\n",
      " 85.0867315  75.31526721 85.0867315  65.54380291 77.26956006 83.13243864\n",
      " 72.05811244 80.52671483 82.48100769 78.57242197 75.31526721 85.0867315\n",
      " 65.54380291 77.26956006 65.54380291 77.26956006 83.13243864 72.05811244\n",
      " 80.52671483 82.48100769 78.57242197 83.13243864 72.05811244 80.52671483\n",
      " 82.48100769 78.57242197 75.31526721 85.0867315  65.54380291 77.26956006\n",
      " 65.54380291 77.26956006 83.13243864 77.26956006 83.13243864 72.05811244\n",
      " 80.52671483 82.48100769 78.57242197 77.26956006 83.13243864 72.05811244\n",
      " 80.52671483 82.48100769 78.57242197 83.13243864 72.05811244 80.52671483\n",
      " 82.48100769 78.57242197 75.31526721 85.0867315  65.54380291 77.26956006\n",
      " 65.54380291 77.26956006 83.13243864 72.05811244 80.52671483 82.48100769\n",
      " 78.57242197 83.13243864 72.05811244 80.52671483 82.48100769 78.57242197\n",
      " 75.31526721 85.0867315  65.54380291 77.26956006 65.54380291 77.26956006\n",
      " 83.13243864 77.26956006 83.13243864 72.05811244 80.52671483 82.48100769\n",
      " 78.57242197 77.26956006 83.13243864 72.05811244 80.52671483 82.48100769\n",
      " 78.57242197 75.31526721 85.0867315  75.31526721 85.0867315  65.54380291\n",
      " 77.26956006 83.13243864 72.05811244 80.52671483 82.48100769 78.57242197\n",
      " 75.31526721 85.0867315  65.54380291 77.26956006 65.54380291 85.0867315 ]\n",
      "-------------------------------\n",
      "새로운 데이터로 예측결과 :\n",
      " [[32.97225528]\n",
      " [40.13799576]\n",
      " [47.30373624]\n",
      " [54.46947672]\n",
      " [98.11535055]]\n"
     ]
    }
   ],
   "source": [
    "### numpy 함수를 이용하여 예측하기\n",
    "\n",
    "# - linregress는 predict()가 지원되지않음. \n",
    "# - predict()함수의 역할을 하는 -> numpy의 polyval() 함수 이용.\n",
    "#   (numpy에서의 predict함수)\n",
    "\n",
    "print('기존 데이터로 예측결과 : \\n', \n",
    "          np.polyval([model.slope, model.intercept], np.array(score_iq['iq'])))\n",
    "print(\"-------------------------------\")\n",
    "\n",
    "new_df = pd.DataFrame({'iq':[55, 66, 77, 88, 155]})\n",
    "print('새로운 데이터로 예측결과 :\\n', \n",
    "          np.polyval([model.slope, model.intercept], new_df))"
   ]
  },
  {
   "cell_type": "code",
   "execution_count": null,
   "id": "7a3c18c4",
   "metadata": {},
   "outputs": [],
   "source": []
  }
 ],
 "metadata": {
  "kernelspec": {
   "display_name": "Python 3 (ipykernel)",
   "language": "python",
   "name": "python3"
  },
  "language_info": {
   "codemirror_mode": {
    "name": "ipython",
    "version": 3
   },
   "file_extension": ".py",
   "mimetype": "text/x-python",
   "name": "python",
   "nbconvert_exporter": "python",
   "pygments_lexer": "ipython3",
   "version": "3.9.12"
  }
 },
 "nbformat": 4,
 "nbformat_minor": 5
}
