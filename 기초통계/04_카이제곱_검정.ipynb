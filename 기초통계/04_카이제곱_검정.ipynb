{
 "cells": [
  {
   "cell_type": "markdown",
   "id": "6608007a",
   "metadata": {},
   "source": [
    "### 카이제곱 검정(chi-squared test)\n",
    "\n",
    "##### - 교차분석 or X^2 검정 이라고도 합니다."
   ]
  },
  {
   "cell_type": "code",
   "execution_count": null,
   "id": "8f9c0d1c",
   "metadata": {},
   "outputs": [],
   "source": [
    "# 1. 데이터간의 연관성을 확인 할 때 사용\n",
    "#  - 데이터간에 얼마나 가까운지에 대한 연관성 의미 부여\n",
    "#  - 인과관계와는 무관함\n",
    "#    인과관계 : 특정 데이터가 다른 데이터 값의 변화에 영향을 미치는지를 의미함\n",
    "\n",
    "# 2. 카이제곱의 종류\n",
    "#  - 일원카이제곱(chisquare)\n",
    "#     : 1개 집단에서 기대값과 관찰값 사이의 유의미한 차이 확인\n",
    "#  - 이원카이제곱(chi2_contigency)\n",
    "#     : 두개 이상의 집단에서, 데이터 간의 연관성(차이) 확인\n",
    "#     : 분석 대상의 집단 수에 의해서 \"독립성 검정\"과 \"동질성 검정\"으로 나뉜다."
   ]
  },
  {
   "cell_type": "markdown",
   "id": "1419598d",
   "metadata": {},
   "source": [
    "# 1. 일원카이제곱"
   ]
  },
  {
   "cell_type": "markdown",
   "id": "064e7cf4",
   "metadata": {},
   "source": [
    "### exe-1) 5개의 스포츠 음료에 대한 선호도에 차이가 있는지 검정\n",
    "##### - 귀무가설 : 스포츠 음료에 대한 선호도 차이가 없다\n",
    "##### - 대립가설 : 스포츠 음료에 대한 선호도 차이가 있다"
   ]
  },
  {
   "cell_type": "code",
   "execution_count": 4,
   "id": "471203b5",
   "metadata": {},
   "outputs": [],
   "source": [
    "import numpy as np\n",
    "import pandas as pd\n",
    "import scipy.stats as stats\n",
    "import matplotlib.pyplot as plt\n",
    "import seaborn as sns"
   ]
  },
  {
   "cell_type": "code",
   "execution_count": 3,
   "id": "e75f4982",
   "metadata": {},
   "outputs": [
    {
     "data": {
      "text/html": [
       "<div>\n",
       "<style scoped>\n",
       "    .dataframe tbody tr th:only-of-type {\n",
       "        vertical-align: middle;\n",
       "    }\n",
       "\n",
       "    .dataframe tbody tr th {\n",
       "        vertical-align: top;\n",
       "    }\n",
       "\n",
       "    .dataframe thead th {\n",
       "        text-align: right;\n",
       "    }\n",
       "</style>\n",
       "<table border=\"1\" class=\"dataframe\">\n",
       "  <thead>\n",
       "    <tr style=\"text-align: right;\">\n",
       "      <th></th>\n",
       "      <th>음료종류</th>\n",
       "      <th>관측도수</th>\n",
       "    </tr>\n",
       "  </thead>\n",
       "  <tbody>\n",
       "    <tr>\n",
       "      <th>0</th>\n",
       "      <td>s1</td>\n",
       "      <td>41</td>\n",
       "    </tr>\n",
       "    <tr>\n",
       "      <th>1</th>\n",
       "      <td>s2</td>\n",
       "      <td>30</td>\n",
       "    </tr>\n",
       "    <tr>\n",
       "      <th>2</th>\n",
       "      <td>s3</td>\n",
       "      <td>51</td>\n",
       "    </tr>\n",
       "    <tr>\n",
       "      <th>3</th>\n",
       "      <td>s4</td>\n",
       "      <td>71</td>\n",
       "    </tr>\n",
       "    <tr>\n",
       "      <th>4</th>\n",
       "      <td>s5</td>\n",
       "      <td>61</td>\n",
       "    </tr>\n",
       "  </tbody>\n",
       "</table>\n",
       "</div>"
      ],
      "text/plain": [
       "  음료종류  관측도수\n",
       "0   s1    41\n",
       "1   s2    30\n",
       "2   s3    51\n",
       "3   s4    71\n",
       "4   s5    61"
      ]
     },
     "execution_count": 3,
     "metadata": {},
     "output_type": "execute_result"
    }
   ],
   "source": [
    "file_path = './data2/drinkdata.csv'\n",
    "df = pd.read_csv(file_path)\n",
    "df"
   ]
  },
  {
   "cell_type": "code",
   "execution_count": 5,
   "id": "1cc067ee",
   "metadata": {},
   "outputs": [
    {
     "name": "stdout",
     "output_type": "stream",
     "text": [
      "검정결과 =  Power_divergenceResult(statistic=20.488188976377952, pvalue=0.00039991784008227264)\n",
      "검정 통계량 = 20.488, p-value = 0.000\n"
     ]
    }
   ],
   "source": [
    "### 검증하기\n",
    "result = stats.chisquare(df['관측도수'])\n",
    "\n",
    "print('검정결과 = ', result)\n",
    "print('검정 통계량 = %.3f, p-value = %.3f' %(result))\n",
    "\n",
    "# (해석 - 검증결과)\n",
    "# 1. p-value = 0.000 < 0.05 이므로, 귀무가설 기각\n",
    "# 2. 대립가설 채택 : 스포츠 음료에 대한 선호도 차이가 있다."
   ]
  },
  {
   "cell_type": "markdown",
   "id": "a1cff647",
   "metadata": {},
   "source": [
    "# 이원카이제곱 - 독립성 검정"
   ]
  },
  {
   "cell_type": "markdown",
   "id": "252249e8",
   "metadata": {},
   "source": [
    "### exe-2) 교육수준과 흡연율 간의 연관성 분석\n",
    "##### - 2개 집단 : 교육수준, 흡연율\n",
    "##### - 귀무가설 : 교육수준과 흡연율 간에 관련성이 없다\n",
    "##### - 대립가설 : 교육수준과 흡연율 간에 관련성이 있다"
   ]
  },
  {
   "cell_type": "code",
   "execution_count": 6,
   "id": "f114dcdd",
   "metadata": {},
   "outputs": [],
   "source": [
    "import pandas as pd\n",
    "import scipy.stats as stats"
   ]
  },
  {
   "cell_type": "code",
   "execution_count": 7,
   "id": "b441b19b",
   "metadata": {},
   "outputs": [
    {
     "data": {
      "text/html": [
       "<div>\n",
       "<style scoped>\n",
       "    .dataframe tbody tr th:only-of-type {\n",
       "        vertical-align: middle;\n",
       "    }\n",
       "\n",
       "    .dataframe tbody tr th {\n",
       "        vertical-align: top;\n",
       "    }\n",
       "\n",
       "    .dataframe thead th {\n",
       "        text-align: right;\n",
       "    }\n",
       "</style>\n",
       "<table border=\"1\" class=\"dataframe\">\n",
       "  <thead>\n",
       "    <tr style=\"text-align: right;\">\n",
       "      <th></th>\n",
       "      <th>education</th>\n",
       "      <th>smoking</th>\n",
       "    </tr>\n",
       "  </thead>\n",
       "  <tbody>\n",
       "    <tr>\n",
       "      <th>0</th>\n",
       "      <td>1</td>\n",
       "      <td>1</td>\n",
       "    </tr>\n",
       "    <tr>\n",
       "      <th>1</th>\n",
       "      <td>1</td>\n",
       "      <td>1</td>\n",
       "    </tr>\n",
       "    <tr>\n",
       "      <th>2</th>\n",
       "      <td>1</td>\n",
       "      <td>1</td>\n",
       "    </tr>\n",
       "    <tr>\n",
       "      <th>3</th>\n",
       "      <td>1</td>\n",
       "      <td>1</td>\n",
       "    </tr>\n",
       "    <tr>\n",
       "      <th>4</th>\n",
       "      <td>1</td>\n",
       "      <td>1</td>\n",
       "    </tr>\n",
       "    <tr>\n",
       "      <th>...</th>\n",
       "      <td>...</td>\n",
       "      <td>...</td>\n",
       "    </tr>\n",
       "    <tr>\n",
       "      <th>350</th>\n",
       "      <td>3</td>\n",
       "      <td>3</td>\n",
       "    </tr>\n",
       "    <tr>\n",
       "      <th>351</th>\n",
       "      <td>3</td>\n",
       "      <td>3</td>\n",
       "    </tr>\n",
       "    <tr>\n",
       "      <th>352</th>\n",
       "      <td>3</td>\n",
       "      <td>3</td>\n",
       "    </tr>\n",
       "    <tr>\n",
       "      <th>353</th>\n",
       "      <td>3</td>\n",
       "      <td>3</td>\n",
       "    </tr>\n",
       "    <tr>\n",
       "      <th>354</th>\n",
       "      <td>3</td>\n",
       "      <td>3</td>\n",
       "    </tr>\n",
       "  </tbody>\n",
       "</table>\n",
       "<p>355 rows × 2 columns</p>\n",
       "</div>"
      ],
      "text/plain": [
       "     education  smoking\n",
       "0            1        1\n",
       "1            1        1\n",
       "2            1        1\n",
       "3            1        1\n",
       "4            1        1\n",
       "..         ...      ...\n",
       "350          3        3\n",
       "351          3        3\n",
       "352          3        3\n",
       "353          3        3\n",
       "354          3        3\n",
       "\n",
       "[355 rows x 2 columns]"
      ]
     },
     "execution_count": 7,
     "metadata": {},
     "output_type": "execute_result"
    }
   ],
   "source": [
    "### 데이터 생성하기 : smoke.csv 읽어 들이기\n",
    "file_path = './data2/smoke.csv'\n",
    "df = pd.read_csv(file_path)\n",
    "df"
   ]
  },
  {
   "cell_type": "code",
   "execution_count": 10,
   "id": "cb2af79f",
   "metadata": {
    "scrolled": true
   },
   "outputs": [
    {
     "name": "stdout",
     "output_type": "stream",
     "text": [
      "<class 'pandas.core.frame.DataFrame'>\n",
      "RangeIndex: 355 entries, 0 to 354\n",
      "Data columns (total 2 columns):\n",
      " #   Column     Non-Null Count  Dtype\n",
      "---  ------     --------------  -----\n",
      " 0   education  355 non-null    int64\n",
      " 1   smoking    355 non-null    int64\n",
      "dtypes: int64(2)\n",
      "memory usage: 5.7 KB\n"
     ]
    }
   ],
   "source": [
    "df.info()"
   ]
  },
  {
   "cell_type": "code",
   "execution_count": 8,
   "id": "ee3f032a",
   "metadata": {},
   "outputs": [
    {
     "data": {
      "text/plain": [
       "array([1, 2, 3], dtype=int64)"
      ]
     },
     "execution_count": 8,
     "metadata": {},
     "output_type": "execute_result"
    }
   ],
   "source": [
    "# 각 데이터 집단간 고유한 값 확인하기\n",
    "# 교육수준(education) : 1(대학원졸), 2(대졸), 3(고졸)\n",
    "df['education'].unique()"
   ]
  },
  {
   "cell_type": "code",
   "execution_count": 9,
   "id": "164a1fce",
   "metadata": {},
   "outputs": [
    {
     "data": {
      "text/plain": [
       "array([1, 2, 3], dtype=int64)"
      ]
     },
     "execution_count": 9,
     "metadata": {},
     "output_type": "execute_result"
    }
   ],
   "source": [
    "# 흡연정도(smoking) : 1(골초), 2(보통), 3(노담)\n",
    "df['smoking'].unique()"
   ]
  },
  {
   "cell_type": "code",
   "execution_count": 16,
   "id": "ea94ed35",
   "metadata": {},
   "outputs": [
    {
     "name": "stdout",
     "output_type": "stream",
     "text": [
      "smoking     1   2   3\n",
      "education            \n",
      "1          51  92  68\n",
      "2          22  21   9\n",
      "3          43  28  21\n",
      "\n",
      "smoking   1   2   3\n",
      "대학원졸     51  92  68\n",
      "대졸       22  21   9\n",
      "고졸       43  28  21\n",
      "\n",
      "      골초  보통  노담\n",
      "대학원졸  51  92  68\n",
      "대졸    22  21   9\n",
      "고졸    43  28  21\n"
     ]
    }
   ],
   "source": [
    "# 이원카이제곱은 두 집단의 교차표를 생성합니다.\n",
    "# - 교차표 : 빈도 집계를 의미합니다.\n",
    "\n",
    "ctab = pd.crosstab(index = df['education'],\n",
    "                   columns = df['smoking'])\n",
    "print(ctab)\n",
    "print()\n",
    "\n",
    "# 인덱스값 한글로 변경\n",
    "ctab.index = ['대학원졸', '대졸', '고졸']\n",
    "print(ctab)\n",
    "print()\n",
    "\n",
    "# 컬럼 인덱스값 한글로 변경\n",
    "ctab.columns = ['골초', '보통', '노담']\n",
    "print(ctab)"
   ]
  },
  {
   "cell_type": "code",
   "execution_count": 17,
   "id": "36560c4c",
   "metadata": {},
   "outputs": [
    {
     "name": "stdout",
     "output_type": "stream",
     "text": [
      "검정결과 =  (18.910915739853955, 0.0008182572832162924, 4, array([[68.94647887, 83.8056338 , 58.24788732],\n",
      "       [16.9915493 , 20.65352113, 14.35492958],\n",
      "       [30.06197183, 36.54084507, 25.3971831 ]]))\n",
      "검정 통계량 = 18.911, p-value = 0.001\n"
     ]
    }
   ],
   "source": [
    "# 검정\n",
    "result = stats.chi2_contingency(ctab)\n",
    "\n",
    "print('검정결과 = ', result)\n",
    "print('검정 통계량 = %.3f, p-value = %.3f' %(result[0], result[1]))\n",
    "\n",
    "# (해석 - 검증결과)\n",
    "# 1. p-value=0.001 < 0.05 이므로, 귀무가설 기각\n",
    "# 2. 대립가설 채택 : 교육수준과 흡연 간에는 관련이 있다.\n",
    "#                  : 독립적이지 않다."
   ]
  },
  {
   "cell_type": "markdown",
   "id": "ce9d893b",
   "metadata": {},
   "source": [
    "### exe-3) 국가전체와 지역에 대한 인종 간 인원수는 관련성이 있는지?\n",
    "##### - 집단 2개 : 국가전체, 특정지역\n",
    "##### - 귀무가설 : 국가전체와 지역에 대한 인종 간 인원수는 관련성이 없다.\n",
    "##### - 대립가설 : 국가전체와 지역에 대한 인종 간 인원수는 관련성이 있다."
   ]
  },
  {
   "cell_type": "code",
   "execution_count": 18,
   "id": "81fa6f7b",
   "metadata": {},
   "outputs": [
    {
     "data": {
      "text/html": [
       "<div>\n",
       "<style scoped>\n",
       "    .dataframe tbody tr th:only-of-type {\n",
       "        vertical-align: middle;\n",
       "    }\n",
       "\n",
       "    .dataframe tbody tr th {\n",
       "        vertical-align: top;\n",
       "    }\n",
       "\n",
       "    .dataframe thead th {\n",
       "        text-align: right;\n",
       "    }\n",
       "</style>\n",
       "<table border=\"1\" class=\"dataframe\">\n",
       "  <thead>\n",
       "    <tr style=\"text-align: right;\">\n",
       "      <th></th>\n",
       "      <th>0</th>\n",
       "    </tr>\n",
       "  </thead>\n",
       "  <tbody>\n",
       "    <tr>\n",
       "      <th>0</th>\n",
       "      <td>white</td>\n",
       "    </tr>\n",
       "    <tr>\n",
       "      <th>1</th>\n",
       "      <td>white</td>\n",
       "    </tr>\n",
       "    <tr>\n",
       "      <th>2</th>\n",
       "      <td>white</td>\n",
       "    </tr>\n",
       "    <tr>\n",
       "      <th>3</th>\n",
       "      <td>white</td>\n",
       "    </tr>\n",
       "    <tr>\n",
       "      <th>4</th>\n",
       "      <td>white</td>\n",
       "    </tr>\n",
       "    <tr>\n",
       "      <th>...</th>\n",
       "      <td>...</td>\n",
       "    </tr>\n",
       "    <tr>\n",
       "      <th>214995</th>\n",
       "      <td>other</td>\n",
       "    </tr>\n",
       "    <tr>\n",
       "      <th>214996</th>\n",
       "      <td>other</td>\n",
       "    </tr>\n",
       "    <tr>\n",
       "      <th>214997</th>\n",
       "      <td>other</td>\n",
       "    </tr>\n",
       "    <tr>\n",
       "      <th>214998</th>\n",
       "      <td>other</td>\n",
       "    </tr>\n",
       "    <tr>\n",
       "      <th>214999</th>\n",
       "      <td>other</td>\n",
       "    </tr>\n",
       "  </tbody>\n",
       "</table>\n",
       "<p>215000 rows × 1 columns</p>\n",
       "</div>"
      ],
      "text/plain": [
       "            0\n",
       "0       white\n",
       "1       white\n",
       "2       white\n",
       "3       white\n",
       "4       white\n",
       "...       ...\n",
       "214995  other\n",
       "214996  other\n",
       "214997  other\n",
       "214998  other\n",
       "214999  other\n",
       "\n",
       "[215000 rows x 1 columns]"
      ]
     },
     "execution_count": 18,
     "metadata": {},
     "output_type": "execute_result"
    }
   ],
   "source": [
    "# 데이터 생성하기\n",
    "\n",
    "# 국가전체 데이터 생성\n",
    "national = pd.DataFrame(['white'] * 100000 + ['hispanic'] * 60000 + \n",
    "                        ['black'] * 5000 + ['asian'] * 15000 +\n",
    "                        ['other'] * 35000)\n",
    "national"
   ]
  },
  {
   "cell_type": "code",
   "execution_count": 19,
   "id": "f10c136f",
   "metadata": {},
   "outputs": [
    {
     "data": {
      "text/html": [
       "<div>\n",
       "<style scoped>\n",
       "    .dataframe tbody tr th:only-of-type {\n",
       "        vertical-align: middle;\n",
       "    }\n",
       "\n",
       "    .dataframe tbody tr th {\n",
       "        vertical-align: top;\n",
       "    }\n",
       "\n",
       "    .dataframe thead th {\n",
       "        text-align: right;\n",
       "    }\n",
       "</style>\n",
       "<table border=\"1\" class=\"dataframe\">\n",
       "  <thead>\n",
       "    <tr style=\"text-align: right;\">\n",
       "      <th></th>\n",
       "      <th>0</th>\n",
       "    </tr>\n",
       "  </thead>\n",
       "  <tbody>\n",
       "    <tr>\n",
       "      <th>0</th>\n",
       "      <td>white</td>\n",
       "    </tr>\n",
       "    <tr>\n",
       "      <th>1</th>\n",
       "      <td>white</td>\n",
       "    </tr>\n",
       "    <tr>\n",
       "      <th>2</th>\n",
       "      <td>white</td>\n",
       "    </tr>\n",
       "    <tr>\n",
       "      <th>3</th>\n",
       "      <td>white</td>\n",
       "    </tr>\n",
       "    <tr>\n",
       "      <th>4</th>\n",
       "      <td>white</td>\n",
       "    </tr>\n",
       "    <tr>\n",
       "      <th>...</th>\n",
       "      <td>...</td>\n",
       "    </tr>\n",
       "    <tr>\n",
       "      <th>1370</th>\n",
       "      <td>other</td>\n",
       "    </tr>\n",
       "    <tr>\n",
       "      <th>1371</th>\n",
       "      <td>other</td>\n",
       "    </tr>\n",
       "    <tr>\n",
       "      <th>1372</th>\n",
       "      <td>other</td>\n",
       "    </tr>\n",
       "    <tr>\n",
       "      <th>1373</th>\n",
       "      <td>other</td>\n",
       "    </tr>\n",
       "    <tr>\n",
       "      <th>1374</th>\n",
       "      <td>other</td>\n",
       "    </tr>\n",
       "  </tbody>\n",
       "</table>\n",
       "<p>1375 rows × 1 columns</p>\n",
       "</div>"
      ],
      "text/plain": [
       "          0\n",
       "0     white\n",
       "1     white\n",
       "2     white\n",
       "3     white\n",
       "4     white\n",
       "...     ...\n",
       "1370  other\n",
       "1371  other\n",
       "1372  other\n",
       "1373  other\n",
       "1374  other\n",
       "\n",
       "[1375 rows x 1 columns]"
      ]
     },
     "execution_count": 19,
     "metadata": {},
     "output_type": "execute_result"
    }
   ],
   "source": [
    "la = pd.DataFrame(['white'] * 600 + ['hispanic'] * 300 + \n",
    "                        ['black'] * 250 + ['asian'] * 75 +\n",
    "                        ['other'] * 150)\n",
    "la"
   ]
  },
  {
   "cell_type": "code",
   "execution_count": 26,
   "id": "e6aadc74",
   "metadata": {},
   "outputs": [
    {
     "name": "stdout",
     "output_type": "stream",
     "text": [
      "col_0      count\n",
      "0               \n",
      "asian      15000\n",
      "black       5000\n",
      "hispanic   60000\n",
      "other      35000\n",
      "white     100000\n",
      "\n",
      "col_0     count\n",
      "0              \n",
      "asian        75\n",
      "black       250\n",
      "hispanic    300\n",
      "other       150\n",
      "white       600\n"
     ]
    },
    {
     "data": {
      "text/html": [
       "<div>\n",
       "<style scoped>\n",
       "    .dataframe tbody tr th:only-of-type {\n",
       "        vertical-align: middle;\n",
       "    }\n",
       "\n",
       "    .dataframe tbody tr th {\n",
       "        vertical-align: top;\n",
       "    }\n",
       "\n",
       "    .dataframe thead th {\n",
       "        text-align: right;\n",
       "    }\n",
       "</style>\n",
       "<table border=\"1\" class=\"dataframe\">\n",
       "  <thead>\n",
       "    <tr style=\"text-align: right;\">\n",
       "      <th>col_0</th>\n",
       "      <th>count</th>\n",
       "      <th>count_la</th>\n",
       "    </tr>\n",
       "    <tr>\n",
       "      <th>0</th>\n",
       "      <th></th>\n",
       "      <th></th>\n",
       "    </tr>\n",
       "  </thead>\n",
       "  <tbody>\n",
       "    <tr>\n",
       "      <th>asian</th>\n",
       "      <td>15000</td>\n",
       "      <td>75</td>\n",
       "    </tr>\n",
       "    <tr>\n",
       "      <th>black</th>\n",
       "      <td>5000</td>\n",
       "      <td>250</td>\n",
       "    </tr>\n",
       "    <tr>\n",
       "      <th>hispanic</th>\n",
       "      <td>60000</td>\n",
       "      <td>300</td>\n",
       "    </tr>\n",
       "    <tr>\n",
       "      <th>other</th>\n",
       "      <td>35000</td>\n",
       "      <td>150</td>\n",
       "    </tr>\n",
       "    <tr>\n",
       "      <th>white</th>\n",
       "      <td>100000</td>\n",
       "      <td>600</td>\n",
       "    </tr>\n",
       "  </tbody>\n",
       "</table>\n",
       "</div>"
      ],
      "text/plain": [
       "col_0      count  count_la\n",
       "0                         \n",
       "asian      15000        75\n",
       "black       5000       250\n",
       "hispanic   60000       300\n",
       "other      35000       150\n",
       "white     100000       600"
      ]
     },
     "execution_count": 26,
     "metadata": {},
     "output_type": "execute_result"
    }
   ],
   "source": [
    "# 교차표 만들기\n",
    "\n",
    "# 국가 전체에 대한 교차표 작성\n",
    "na_table = pd.crosstab(index = national[0], columns = 'count')\n",
    "print(na_table)\n",
    "print()\n",
    "\n",
    "# 특정 지역에 대한 교차표 작성\n",
    "la_table = pd.crosstab(index = la[0], columns = 'count')\n",
    "print(la_table)\n",
    "\n",
    "# 두개 데이터 합치기\n",
    "na_table['count_la'] = la_table['count']\n",
    "na_table"
   ]
  },
  {
   "cell_type": "code",
   "execution_count": 27,
   "id": "b9304d81",
   "metadata": {},
   "outputs": [
    {
     "name": "stdout",
     "output_type": "stream",
     "text": [
      "검정결과 =  (1465.1369591231146, 0.0, 4, array([[1.49792028e+04, 9.57972270e+01],\n",
      "       [5.21663778e+03, 3.33622184e+01],\n",
      "       [5.99168111e+04, 3.83188908e+02],\n",
      "       [3.49266320e+04, 2.23367995e+02],\n",
      "       [9.99607163e+04, 6.39283651e+02]]))\n",
      "검정 통계량 = 1465.137, p-value = 0.000\n"
     ]
    }
   ],
   "source": [
    "# 검정하기\n",
    "result = stats.chi2_contingency(na_table)\n",
    "\n",
    "print('검정결과 = ', result)\n",
    "print('검정 통계량 = %.3f, p-value = %.3f' %(result[0], result[1]))\n",
    "# (해석)\n",
    "# 1. p-value=0.000 < 0.05 이므로, 귀무가설 기각\n",
    "# 2. 대립가설 채택 : 국가전체와 지역에 대한 인종 간 인원수는 관련성이 있다."
   ]
  },
  {
   "cell_type": "markdown",
   "id": "f63b6a0d",
   "metadata": {},
   "source": [
    "# 이원카이제곱 - 동질성 검정"
   ]
  },
  {
   "cell_type": "markdown",
   "id": "656f313f",
   "metadata": {},
   "source": [
    "### exe-4) 교육방법에 따른 교육생들의 만족도 분석\n",
    "##### - 2개 집단 : 교육방법, 만족도\n",
    "##### - 귀무가설 : 교육방법에 따른 교육생들의 만족도에 차이가 없다(동질이다)\n",
    "##### - 대립가설 : 교육방법에 따른 교육생들의 만족도에 차이가 있다(동질하지않다)"
   ]
  },
  {
   "cell_type": "code",
   "execution_count": null,
   "id": "496d67b6",
   "metadata": {},
   "outputs": [],
   "source": [
    "# 데이터 생성하기\n",
    "\n",
    "# survey_method.csv 파일 읽어 들이기\n",
    "\n",
    "# survey 고유값 조회\n",
    "\n",
    "# method 고유값 조회"
   ]
  },
  {
   "cell_type": "code",
   "execution_count": 28,
   "id": "b48bf812",
   "metadata": {},
   "outputs": [],
   "source": [
    "import pandas as pd\n",
    "import scipy.stats as stats"
   ]
  },
  {
   "cell_type": "code",
   "execution_count": 30,
   "id": "c491383a",
   "metadata": {},
   "outputs": [
    {
     "data": {
      "text/html": [
       "<div>\n",
       "<style scoped>\n",
       "    .dataframe tbody tr th:only-of-type {\n",
       "        vertical-align: middle;\n",
       "    }\n",
       "\n",
       "    .dataframe tbody tr th {\n",
       "        vertical-align: top;\n",
       "    }\n",
       "\n",
       "    .dataframe thead th {\n",
       "        text-align: right;\n",
       "    }\n",
       "</style>\n",
       "<table border=\"1\" class=\"dataframe\">\n",
       "  <thead>\n",
       "    <tr style=\"text-align: right;\">\n",
       "      <th></th>\n",
       "      <th>no</th>\n",
       "      <th>method</th>\n",
       "      <th>survey</th>\n",
       "    </tr>\n",
       "  </thead>\n",
       "  <tbody>\n",
       "    <tr>\n",
       "      <th>0</th>\n",
       "      <td>1</td>\n",
       "      <td>1</td>\n",
       "      <td>1</td>\n",
       "    </tr>\n",
       "    <tr>\n",
       "      <th>1</th>\n",
       "      <td>2</td>\n",
       "      <td>2</td>\n",
       "      <td>2</td>\n",
       "    </tr>\n",
       "    <tr>\n",
       "      <th>2</th>\n",
       "      <td>3</td>\n",
       "      <td>3</td>\n",
       "      <td>3</td>\n",
       "    </tr>\n",
       "    <tr>\n",
       "      <th>3</th>\n",
       "      <td>4</td>\n",
       "      <td>1</td>\n",
       "      <td>4</td>\n",
       "    </tr>\n",
       "    <tr>\n",
       "      <th>4</th>\n",
       "      <td>5</td>\n",
       "      <td>2</td>\n",
       "      <td>5</td>\n",
       "    </tr>\n",
       "    <tr>\n",
       "      <th>...</th>\n",
       "      <td>...</td>\n",
       "      <td>...</td>\n",
       "      <td>...</td>\n",
       "    </tr>\n",
       "    <tr>\n",
       "      <th>145</th>\n",
       "      <td>146</td>\n",
       "      <td>2</td>\n",
       "      <td>3</td>\n",
       "    </tr>\n",
       "    <tr>\n",
       "      <th>146</th>\n",
       "      <td>147</td>\n",
       "      <td>3</td>\n",
       "      <td>4</td>\n",
       "    </tr>\n",
       "    <tr>\n",
       "      <th>147</th>\n",
       "      <td>148</td>\n",
       "      <td>1</td>\n",
       "      <td>3</td>\n",
       "    </tr>\n",
       "    <tr>\n",
       "      <th>148</th>\n",
       "      <td>149</td>\n",
       "      <td>2</td>\n",
       "      <td>2</td>\n",
       "    </tr>\n",
       "    <tr>\n",
       "      <th>149</th>\n",
       "      <td>150</td>\n",
       "      <td>3</td>\n",
       "      <td>1</td>\n",
       "    </tr>\n",
       "  </tbody>\n",
       "</table>\n",
       "<p>150 rows × 3 columns</p>\n",
       "</div>"
      ],
      "text/plain": [
       "      no  method  survey\n",
       "0      1       1       1\n",
       "1      2       2       2\n",
       "2      3       3       3\n",
       "3      4       1       4\n",
       "4      5       2       5\n",
       "..   ...     ...     ...\n",
       "145  146       2       3\n",
       "146  147       3       4\n",
       "147  148       1       3\n",
       "148  149       2       2\n",
       "149  150       3       1\n",
       "\n",
       "[150 rows x 3 columns]"
      ]
     },
     "execution_count": 30,
     "metadata": {},
     "output_type": "execute_result"
    }
   ],
   "source": [
    "file_path = './data2/survey_method.csv'\n",
    "df = pd.read_csv(file_path)\n",
    "df"
   ]
  },
  {
   "cell_type": "code",
   "execution_count": 32,
   "id": "a2909153",
   "metadata": {},
   "outputs": [
    {
     "data": {
      "text/plain": [
       "array([1, 2, 3, 4, 5], dtype=int64)"
      ]
     },
     "execution_count": 32,
     "metadata": {},
     "output_type": "execute_result"
    }
   ],
   "source": [
    "# 1(매우만족), 2(만족), 3(보통), 4(불만족), 5(매우불만족)\n",
    "df['survey'].unique()"
   ]
  },
  {
   "cell_type": "code",
   "execution_count": 33,
   "id": "314336d5",
   "metadata": {},
   "outputs": [
    {
     "data": {
      "text/plain": [
       "array([1, 2, 3], dtype=int64)"
      ]
     },
     "execution_count": 33,
     "metadata": {},
     "output_type": "execute_result"
    }
   ],
   "source": [
    "# 1(방법1), 2(방법2), 3(방법3)\n",
    "df['method'].unique()"
   ]
  },
  {
   "cell_type": "code",
   "execution_count": 34,
   "id": "65223c72",
   "metadata": {},
   "outputs": [
    {
     "data": {
      "text/html": [
       "<div>\n",
       "<style scoped>\n",
       "    .dataframe tbody tr th:only-of-type {\n",
       "        vertical-align: middle;\n",
       "    }\n",
       "\n",
       "    .dataframe tbody tr th {\n",
       "        vertical-align: top;\n",
       "    }\n",
       "\n",
       "    .dataframe thead th {\n",
       "        text-align: right;\n",
       "    }\n",
       "</style>\n",
       "<table border=\"1\" class=\"dataframe\">\n",
       "  <thead>\n",
       "    <tr style=\"text-align: right;\">\n",
       "      <th>survey</th>\n",
       "      <th>1</th>\n",
       "      <th>2</th>\n",
       "      <th>3</th>\n",
       "      <th>4</th>\n",
       "      <th>5</th>\n",
       "    </tr>\n",
       "    <tr>\n",
       "      <th>method</th>\n",
       "      <th></th>\n",
       "      <th></th>\n",
       "      <th></th>\n",
       "      <th></th>\n",
       "      <th></th>\n",
       "    </tr>\n",
       "  </thead>\n",
       "  <tbody>\n",
       "    <tr>\n",
       "      <th>1</th>\n",
       "      <td>5</td>\n",
       "      <td>8</td>\n",
       "      <td>15</td>\n",
       "      <td>16</td>\n",
       "      <td>6</td>\n",
       "    </tr>\n",
       "    <tr>\n",
       "      <th>2</th>\n",
       "      <td>8</td>\n",
       "      <td>14</td>\n",
       "      <td>11</td>\n",
       "      <td>11</td>\n",
       "      <td>6</td>\n",
       "    </tr>\n",
       "    <tr>\n",
       "      <th>3</th>\n",
       "      <td>8</td>\n",
       "      <td>7</td>\n",
       "      <td>11</td>\n",
       "      <td>15</td>\n",
       "      <td>9</td>\n",
       "    </tr>\n",
       "  </tbody>\n",
       "</table>\n",
       "</div>"
      ],
      "text/plain": [
       "survey  1   2   3   4  5\n",
       "method                  \n",
       "1       5   8  15  16  6\n",
       "2       8  14  11  11  6\n",
       "3       8   7  11  15  9"
      ]
     },
     "execution_count": 34,
     "metadata": {},
     "output_type": "execute_result"
    }
   ],
   "source": [
    "# 교차표 작성\n",
    "# - 교육방법에 대한 만족도 교차표만들기\n",
    "ctab = pd.crosstab(df['method'], df['survey'])\n",
    "ctab"
   ]
  },
  {
   "cell_type": "code",
   "execution_count": 35,
   "id": "0f86b137",
   "metadata": {
    "scrolled": true
   },
   "outputs": [
    {
     "name": "stdout",
     "output_type": "stream",
     "text": [
      "검정결과 =  (6.544667820529891, 0.5864574374550608, 8, array([[ 7.        ,  9.66666667, 12.33333333, 14.        ,  7.        ],\n",
      "       [ 7.        ,  9.66666667, 12.33333333, 14.        ,  7.        ],\n",
      "       [ 7.        ,  9.66666667, 12.33333333, 14.        ,  7.        ]]))\n",
      "검정 통계량 = 6.545, p-value = 0.586\n"
     ]
    }
   ],
   "source": [
    "# 검정하기\n",
    "result = stats.chi2_contingency(ctab)\n",
    "\n",
    "print('검정결과 = ', result)\n",
    "print('검정 통계량 = %.3f, p-value = %.3f' %(result[0], result[1]))\n",
    "# (해석)\n",
    "# 1. p-value=0.586 >= 0.05 이므로, 귀무가설 채택\n",
    "# 2. 귀무가설 채택 : 교육방법에 따른 교육생들의 만족도에 차이가 없다."
   ]
  },
  {
   "cell_type": "markdown",
   "id": "ac94bc2f",
   "metadata": {},
   "source": [
    "### exe-5) 연령대별 sns 이용률 차이 검증\n",
    "##### - 2개 집단 : 연령, sns 이용률\n",
    "##### - 귀무가설 : 연령대별로 SNS 서비스 이용 현황에 차이가 없다(동질하다)\n",
    "##### - 대립가설 : 연령대별로 SNS 서비스 이용 현황에 차이가 있다(동질하지않다)"
   ]
  },
  {
   "cell_type": "code",
   "execution_count": null,
   "id": "03eb33e0",
   "metadata": {},
   "outputs": [],
   "source": [
    "# 데이터 생성하기\n",
    "\n",
    "# - snsbyage.csv 파일 읽어 들이기\n",
    "\n",
    "# 교차표 작성\n",
    "\n",
    "# 검증 및 해석"
   ]
  },
  {
   "cell_type": "code",
   "execution_count": 36,
   "id": "9d687b9d",
   "metadata": {},
   "outputs": [],
   "source": [
    "import pandas as pd\n",
    "import scipy.stats as stats"
   ]
  },
  {
   "cell_type": "code",
   "execution_count": 37,
   "id": "b74ffd7a",
   "metadata": {},
   "outputs": [
    {
     "data": {
      "text/html": [
       "<div>\n",
       "<style scoped>\n",
       "    .dataframe tbody tr th:only-of-type {\n",
       "        vertical-align: middle;\n",
       "    }\n",
       "\n",
       "    .dataframe tbody tr th {\n",
       "        vertical-align: top;\n",
       "    }\n",
       "\n",
       "    .dataframe thead th {\n",
       "        text-align: right;\n",
       "    }\n",
       "</style>\n",
       "<table border=\"1\" class=\"dataframe\">\n",
       "  <thead>\n",
       "    <tr style=\"text-align: right;\">\n",
       "      <th></th>\n",
       "      <th>age</th>\n",
       "      <th>service</th>\n",
       "    </tr>\n",
       "  </thead>\n",
       "  <tbody>\n",
       "    <tr>\n",
       "      <th>0</th>\n",
       "      <td>1</td>\n",
       "      <td>F</td>\n",
       "    </tr>\n",
       "    <tr>\n",
       "      <th>1</th>\n",
       "      <td>1</td>\n",
       "      <td>F</td>\n",
       "    </tr>\n",
       "    <tr>\n",
       "      <th>2</th>\n",
       "      <td>1</td>\n",
       "      <td>F</td>\n",
       "    </tr>\n",
       "    <tr>\n",
       "      <th>3</th>\n",
       "      <td>1</td>\n",
       "      <td>F</td>\n",
       "    </tr>\n",
       "    <tr>\n",
       "      <th>4</th>\n",
       "      <td>1</td>\n",
       "      <td>F</td>\n",
       "    </tr>\n",
       "    <tr>\n",
       "      <th>...</th>\n",
       "      <td>...</td>\n",
       "      <td>...</td>\n",
       "    </tr>\n",
       "    <tr>\n",
       "      <th>1434</th>\n",
       "      <td>3</td>\n",
       "      <td>E</td>\n",
       "    </tr>\n",
       "    <tr>\n",
       "      <th>1435</th>\n",
       "      <td>3</td>\n",
       "      <td>E</td>\n",
       "    </tr>\n",
       "    <tr>\n",
       "      <th>1436</th>\n",
       "      <td>3</td>\n",
       "      <td>E</td>\n",
       "    </tr>\n",
       "    <tr>\n",
       "      <th>1437</th>\n",
       "      <td>3</td>\n",
       "      <td>E</td>\n",
       "    </tr>\n",
       "    <tr>\n",
       "      <th>1438</th>\n",
       "      <td>3</td>\n",
       "      <td>E</td>\n",
       "    </tr>\n",
       "  </tbody>\n",
       "</table>\n",
       "<p>1439 rows × 2 columns</p>\n",
       "</div>"
      ],
      "text/plain": [
       "      age service\n",
       "0       1       F\n",
       "1       1       F\n",
       "2       1       F\n",
       "3       1       F\n",
       "4       1       F\n",
       "...   ...     ...\n",
       "1434    3       E\n",
       "1435    3       E\n",
       "1436    3       E\n",
       "1437    3       E\n",
       "1438    3       E\n",
       "\n",
       "[1439 rows x 2 columns]"
      ]
     },
     "execution_count": 37,
     "metadata": {},
     "output_type": "execute_result"
    }
   ],
   "source": [
    "file_path = './data2/snsbyage.csv'\n",
    "df = pd.read_csv(file_path)\n",
    "df"
   ]
  },
  {
   "cell_type": "code",
   "execution_count": 38,
   "id": "5ae8906f",
   "metadata": {},
   "outputs": [
    {
     "name": "stdout",
     "output_type": "stream",
     "text": [
      "<class 'pandas.core.frame.DataFrame'>\n",
      "RangeIndex: 1439 entries, 0 to 1438\n",
      "Data columns (total 2 columns):\n",
      " #   Column   Non-Null Count  Dtype \n",
      "---  ------   --------------  ----- \n",
      " 0   age      1439 non-null   int64 \n",
      " 1   service  1439 non-null   object\n",
      "dtypes: int64(1), object(1)\n",
      "memory usage: 22.6+ KB\n"
     ]
    }
   ],
   "source": [
    "df.info()"
   ]
  },
  {
   "cell_type": "code",
   "execution_count": 39,
   "id": "681eb12c",
   "metadata": {},
   "outputs": [
    {
     "data": {
      "text/plain": [
       "array([1, 2, 3], dtype=int64)"
      ]
     },
     "execution_count": 39,
     "metadata": {},
     "output_type": "execute_result"
    }
   ],
   "source": [
    "# 1(청소년), 2(중년), 3(노년)\n",
    "df['age'].unique()"
   ]
  },
  {
   "cell_type": "code",
   "execution_count": 40,
   "id": "ca738f0a",
   "metadata": {},
   "outputs": [
    {
     "data": {
      "text/plain": [
       "array(['F', 'T', 'K', 'C', 'E'], dtype=object)"
      ]
     },
     "execution_count": 40,
     "metadata": {},
     "output_type": "execute_result"
    }
   ],
   "source": [
    "df['service'].unique()"
   ]
  },
  {
   "cell_type": "code",
   "execution_count": 46,
   "id": "bcee87e1",
   "metadata": {},
   "outputs": [
    {
     "data": {
      "text/html": [
       "<div>\n",
       "<style scoped>\n",
       "    .dataframe tbody tr th:only-of-type {\n",
       "        vertical-align: middle;\n",
       "    }\n",
       "\n",
       "    .dataframe tbody tr th {\n",
       "        vertical-align: top;\n",
       "    }\n",
       "\n",
       "    .dataframe thead th {\n",
       "        text-align: right;\n",
       "    }\n",
       "</style>\n",
       "<table border=\"1\" class=\"dataframe\">\n",
       "  <thead>\n",
       "    <tr style=\"text-align: right;\">\n",
       "      <th>service</th>\n",
       "      <th>C</th>\n",
       "      <th>E</th>\n",
       "      <th>F</th>\n",
       "      <th>K</th>\n",
       "      <th>T</th>\n",
       "    </tr>\n",
       "  </thead>\n",
       "  <tbody>\n",
       "    <tr>\n",
       "      <th>청소년</th>\n",
       "      <td>81</td>\n",
       "      <td>16</td>\n",
       "      <td>207</td>\n",
       "      <td>111</td>\n",
       "      <td>117</td>\n",
       "    </tr>\n",
       "    <tr>\n",
       "      <th>중년</th>\n",
       "      <td>109</td>\n",
       "      <td>15</td>\n",
       "      <td>107</td>\n",
       "      <td>236</td>\n",
       "      <td>104</td>\n",
       "    </tr>\n",
       "    <tr>\n",
       "      <th>노년</th>\n",
       "      <td>32</td>\n",
       "      <td>17</td>\n",
       "      <td>78</td>\n",
       "      <td>133</td>\n",
       "      <td>76</td>\n",
       "    </tr>\n",
       "  </tbody>\n",
       "</table>\n",
       "</div>"
      ],
      "text/plain": [
       "service    C   E    F    K    T\n",
       "청소년       81  16  207  111  117\n",
       "중년       109  15  107  236  104\n",
       "노년        32  17   78  133   76"
      ]
     },
     "execution_count": 46,
     "metadata": {},
     "output_type": "execute_result"
    }
   ],
   "source": [
    "ctab = pd.crosstab(df['age'], df['service'])\n",
    "ctab.index = ['청소년', '중년', '노년']\n",
    "ctab"
   ]
  },
  {
   "cell_type": "code",
   "execution_count": 42,
   "id": "3bdbaa69",
   "metadata": {},
   "outputs": [
    {
     "name": "stdout",
     "output_type": "stream",
     "text": [
      "검정결과 =  (102.75202494484225, 1.1679064204212775e-18, 8, array([[ 82.07366227,  17.74565671, 144.9228631 , 177.45656706,\n",
      "        109.80125087],\n",
      "       [ 88.09034051,  19.04656011, 155.54690757, 190.46560111,\n",
      "        117.85059069],\n",
      "       [ 51.83599722,  11.20778318,  91.53022933, 112.07783183,\n",
      "         69.34815844]]))\n",
      "검정 통계량 = 102.752, p-value = 0.000\n"
     ]
    }
   ],
   "source": [
    "# 검정하기\n",
    "result = stats.chi2_contingency(ctab)\n",
    "\n",
    "print('검정결과 = ', result)\n",
    "print('검정 통계량 = %.3f, p-value = %.3f' %(result[0], result[1]))\n",
    "# (해석)\n",
    "# 1. p-value=0.000 < 0.05 이므로, 귀무가설 기각\n",
    "# 2. 대립가설 채택 : 연령대별로 SNS 서비스 이용 현황에 차이가 있다(동질하지않다)"
   ]
  },
  {
   "cell_type": "code",
   "execution_count": null,
   "id": "18cfff78",
   "metadata": {},
   "outputs": [],
   "source": []
  },
  {
   "cell_type": "code",
   "execution_count": null,
   "id": "5af0cafe",
   "metadata": {},
   "outputs": [],
   "source": []
  },
  {
   "cell_type": "code",
   "execution_count": null,
   "id": "fe499ff1",
   "metadata": {},
   "outputs": [],
   "source": []
  },
  {
   "cell_type": "code",
   "execution_count": null,
   "id": "8317f785",
   "metadata": {},
   "outputs": [],
   "source": []
  },
  {
   "cell_type": "code",
   "execution_count": null,
   "id": "359c3db3",
   "metadata": {},
   "outputs": [],
   "source": []
  }
 ],
 "metadata": {
  "kernelspec": {
   "display_name": "Python 3 (ipykernel)",
   "language": "python",
   "name": "python3"
  },
  "language_info": {
   "codemirror_mode": {
    "name": "ipython",
    "version": 3
   },
   "file_extension": ".py",
   "mimetype": "text/x-python",
   "name": "python",
   "nbconvert_exporter": "python",
   "pygments_lexer": "ipython3",
   "version": "3.9.12"
  }
 },
 "nbformat": 4,
 "nbformat_minor": 5
}
